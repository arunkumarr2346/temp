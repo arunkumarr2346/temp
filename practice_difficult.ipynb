{
 "metadata": {
  "language_info": {
   "codemirror_mode": {
    "name": "ipython",
    "version": 3
   },
   "file_extension": ".py",
   "mimetype": "text/x-python",
   "name": "python",
   "nbconvert_exporter": "python",
   "pygments_lexer": "ipython3",
   "version": "3.8.5-final"
  },
  "orig_nbformat": 2,
  "kernelspec": {
   "name": "python3",
   "display_name": "Python 3.8.5 64-bit",
   "metadata": {
    "interpreter": {
     "hash": "31f2aee4e71d21fbe5cf8b01ff0e069b9275f58929596ceb00d14d90e3e16cd6"
    }
   }
  }
 },
 "nbformat": 4,
 "nbformat_minor": 2,
 "cells": [
  {
   "cell_type": "code",
   "execution_count": 1,
   "metadata": {
    "tags": []
   },
   "outputs": [
    {
     "output_type": "stream",
     "name": "stdout",
     "text": [
      "1023\nCPU times: user 5.71 s, sys: 0 ns, total: 5.71 s\nWall time: 5.69 s\n"
     ]
    }
   ],
   "source": [
    "%%time\n",
    "# 1. Write a program to print all possibilites to get the given number as mentioned below:\n",
    "# Given number is 3.\n",
    "# Output:\n",
    "# 1+1+1\n",
    "# 1+2\n",
    "# 2+1\n",
    "from itertools import combinations_with_replacement\n",
    "from itertools import permutations\n",
    "# from itertools import combinations\n",
    "# from itertools import product\n",
    "# help(permutations)\n",
    "\n",
    "n=11\n",
    "cnt1=0\n",
    "cnt2=0\n",
    "for i in range(2,n+1):\n",
    "    for j in combinations_with_replacement(range(1,n),i):\n",
    "        # print(j)\n",
    "        if sum(j) == n:\n",
    "            # print(\"a\",n,j)\n",
    "            for k in set(permutations(j,len(j))):\n",
    "                cnt1+=1\n",
    "                cnt2+=1\n",
    "                # print(f\"{n} --> {'+'.join(map(str,k))}\")\n",
    "        else:\n",
    "            cnt1+=1\n",
    "print(cnt2)\n"
   ]
  },
  {
   "cell_type": "code",
   "execution_count": null,
   "metadata": {},
   "outputs": [],
   "source": [
    "1 --> (1)\n",
    "2 --> (1,1)\n",
    "3 --> (1,1,1),(1,2),(2,1)\n",
    "4 --> (1,1,1,1),(1,1,2),(1,2,1),(2,1,1),(2,2),(1,3),(3,1)\n",
    "5 --> (1,1,1,1,1),(1,1,1,2),(1,1,2,1),(1,2,1,1),(2,1,1,1),(1,2,2),(2,1,2),(2,2,1),(1,1,3),(1,3,1),(3,1,1),(2,3),(3,2),(1,4),(4,1)"
   ]
  },
  {
   "cell_type": "code",
   "execution_count": 59,
   "metadata": {},
   "outputs": [
    {
     "output_type": "stream",
     "name": "stdout",
     "text": [
      "CPU times: user 13.2 s, sys: 2.66 s, total: 15.9 s\nWall time: 15.9 s\n"
     ]
    },
    {
     "output_type": "execute_result",
     "data": {
      "text/plain": [
       "4194303"
      ]
     },
     "metadata": {},
     "execution_count": 59
    }
   ],
   "source": [
    "%%time\n",
    "def possible_total(n):\n",
    "    # t = {}\n",
    "    t = [[] for _ in range(n+1)]\n",
    "    t[0] = [[0]]\n",
    "    t[1] = [[1]]\n",
    "    t[2] = [[1,1],[2]]\n",
    "    for i in range(3,n+1):\n",
    "        # t[i] = []\n",
    "        # for j in range(i-1,0,-1):\n",
    "        for j in range(1,i):\n",
    "            # implementation1 : using map to add the same value i-j to all the elements of t[j]\n",
    "            # t[i].extend(list(map(lambda x: x + [i-j],t[j])))\n",
    "            # implementation2 : loop through all the elements of t[j] appending value i-j to each one of them\n",
    "            for k in t[j]:\n",
    "                a = k.copy()\n",
    "                a.append(i-j)\n",
    "                t[i].append(a)\n",
    "        t[i].append([i])\n",
    "    t[n].remove([n])\n",
    "    return t[n]\n",
    "\n",
    "n=23\n",
    "result = possible_total(n)\n",
    "len(result)\n",
    "# for s in result:\n",
    "#     print(f\"{n} --> {'+'.join(map(str,s))}\")"
   ]
  },
  {
   "cell_type": "code",
   "execution_count": 83,
   "metadata": {},
   "outputs": [
    {
     "output_type": "stream",
     "name": "stdout",
     "text": [
      "CPU times: user 386 µs, sys: 45 µs, total: 431 µs\nWall time: 202 µs\n"
     ]
    },
    {
     "output_type": "execute_result",
     "data": {
      "text/plain": [
       "4194303"
      ]
     },
     "metadata": {},
     "execution_count": 83
    }
   ],
   "source": [
    "%%time\n",
    "def possible_total_cnt(n):\n",
    "    t = {}\n",
    "    # t = [1]*(n+1)\n",
    "    t[1] = 1\n",
    "    t[2] = 2\n",
    "    for i in range(3,n+1):\n",
    "        t[i] = 1\n",
    "        for j in range(1,i):\n",
    "            t[i]+=t[i-j]\n",
    "    return t[n]-1\n",
    "\n",
    "possible_total_cnt(23)"
   ]
  },
  {
   "cell_type": "code",
   "execution_count": 84,
   "metadata": {},
   "outputs": [
    {
     "output_type": "stream",
     "name": "stdout",
     "text": [
      "7\n"
     ]
    }
   ],
   "source": [
    "%%time\n",
    "# 2. Permutation combination :If a child is climbing a stair case with “n” steps, find the maximum number of possibilities (how many different ways he can climb the stair case)\n",
    "\n",
    "# implementation1\n",
    "# def findStep( n) :\n",
    "#     if (n == 1 or n == 0) :\n",
    "#         return 1\n",
    "#     elif (n == 2) :\n",
    "#         return 2\n",
    "     \n",
    "#     else :\n",
    "#         return findStep(n - 3) + findStep(n - 2) + findStep(n - 1) \n",
    "\n",
    "# implementation2\n",
    "def findStep(n) :\n",
    "    res = [0] * (n + 2)\n",
    "    res[0] = 1\n",
    "    res[1] = 1\n",
    "    res[2] = 2\n",
    "     \n",
    "    for i in range(3, n + 1) :\n",
    "        res[i] = res[i - 1] + res[i - 2] + res[i - 3]\n",
    "     \n",
    "    return res[n]\n",
    " \n",
    "# Driver code\n",
    "n = 4\n",
    "print(findStep(n))"
   ]
  },
  {
   "cell_type": "code",
   "execution_count": 12,
   "metadata": {},
   "outputs": [
    {
     "output_type": "stream",
     "name": "stdout",
     "text": [
      "CPU times: user 26.2 ms, sys: 2.16 ms, total: 28.3 ms\nWall time: 25.1 ms\n"
     ]
    },
    {
     "output_type": "execute_result",
     "data": {
      "text/plain": [
       "(2, [218, 220])"
      ]
     },
     "metadata": {},
     "execution_count": 12
    }
   ],
   "source": [
    "%%time\n",
    "# 3. Find out the shortest array and its length from the the array group.\n",
    "# Ex:\n",
    "# Given : { {1,2,3,4},{0,2,7},{4,12},{1,2,5,6}\n",
    "\n",
    "# output:\n",
    "# Shortest Array: {4,12}\n",
    "# Length: 2 \n",
    "\n",
    "# implementation1\n",
    "# def shortest_array(array):\n",
    "#     ml = len(array[0])\n",
    "#     for i in array:\n",
    "#         l = len(i)\n",
    "#         if l < ml:\n",
    "#             ml = l\n",
    "#             sa = i\n",
    "#     return ml,sa\n",
    "\n",
    "# implementation1\n",
    "def shortest_array(array):\n",
    "    d = {} \n",
    "    for i in array:\n",
    "        l = len(i)\n",
    "        if l not in d.keys():\n",
    "            d[l] = i\n",
    "    ml = min(d.keys())\n",
    "    return ml,d[ml]\n",
    "\n",
    "# def shortest_array(array):\n",
    "#     d = {} \n",
    "#     for i in array:\n",
    "#         if len(i) not in d.keys():\n",
    "#             d[len(i)] = i\n",
    "#     return min(d.keys()),d[min(d.keys())]\n",
    "\n",
    "# a = [[1,2,3,4],[0,2,7],[4,12],[1,2,5,6]]\n",
    "shortest_array(a)\n"
   ]
  },
  {
   "cell_type": "code",
   "execution_count": 4,
   "metadata": {},
   "outputs": [
    {
     "output_type": "stream",
     "name": "stdout",
     "text": [
      "CPU times: user 5.88 s, sys: 2.85 s, total: 8.73 s\nWall time: 9.73 s\n"
     ]
    }
   ],
   "source": [
    "%%time\n",
    "import random\n",
    "# create random list for the above code.\n",
    "a=[]\n",
    "for i in range(50000):\n",
    "    r0 = random.randrange(2,6)\n",
    "    r1 = random.randrange(1000+i)\n",
    "    r2 = random.randrange(r1+r0)\n",
    "    a.append(list(range(r2,r1+(r0**2),r0)))\n",
    "    # x = list(range(r2,r1+(r0**2),r0))\n",
    "    # random.shuffle(x)\n",
    "    # a.append(x)\n",
    "# a"
   ]
  },
  {
   "cell_type": "code",
   "execution_count": 71,
   "metadata": {
    "tags": []
   },
   "outputs": [
    {
     "output_type": "stream",
     "name": "stdout",
     "text": [
      "CPU times: user 106 µs, sys: 0 ns, total: 106 µs\nWall time: 116 µs\n"
     ]
    },
    {
     "output_type": "execute_result",
     "data": {
      "text/plain": [
       "3"
      ]
     },
     "metadata": {},
     "execution_count": 71
    }
   ],
   "source": [
    "%%time\n",
    "# 4. Print Pascal Triangle , print the value for the given co-ordinates\n",
    "# Ex:\n",
    "# 1\n",
    "# 1 1\n",
    "# 1 2 1\n",
    "# 1 3 3 1\n",
    "# 1 4 6 4 1\n",
    "#  Given  Co-Orinates(3,2) means answer should be : 2\n",
    "\n",
    "# implementation1\n",
    "# def PascalTriangle(n):\n",
    "#     pt = [[1] for _ in range(n+1)]\n",
    "#     pt[0] = [1]\n",
    "#     pt[1] = [1,1]\n",
    "#     for i in range(2,n):\n",
    "#         pt[i] = [1]\n",
    "#         for j in range(1,i):\n",
    "#             pt[i].append(pt[i-1][j-1]+pt[i-1][j])\n",
    "#         pt[i].append(1)\n",
    "#     return pt[n-1]\n",
    "\n",
    "# implementation2\n",
    "def PascalTriangle(n):\n",
    "   trow = [1]\n",
    "   y = [0]\n",
    "   for x in range(n): \n",
    "    #   print(trow)\n",
    "    #   print(dict(zip(trow+y, y+trow)))\n",
    "      trow=[left+right for left,right in zip(trow+y, y+trow)]\n",
    "   return trow\n",
    "\n",
    "def coordinate_val(n,m):\n",
    "    if n > 0 and m > 0 and m <= n:\n",
    "        return PascalTriangle(n)[m-1]\n",
    "    else:\n",
    "        print(\"invalid input parameters\")\n",
    "\n",
    "coordinate_val(3,2)\n",
    "# len(m)\n",
    "# m\n",
    "# len(pascal_triangle(1000))\n"
   ]
  },
  {
   "cell_type": "code",
   "execution_count": 110,
   "metadata": {},
   "outputs": [
    {
     "output_type": "stream",
     "name": "stdout",
     "text": [
      "{'10.128.2.1': 5, '10.131.2.1': 7, '10.130.2.1': 7, '10.129.2.1': 1, '10.131.0.1': 2}\n"
     ]
    },
    {
     "output_type": "execute_result",
     "data": {
      "text/plain": [
       "'10.131.2.1'"
      ]
     },
     "metadata": {},
     "execution_count": 110
    }
   ],
   "source": [
    "# 5.Given a string array, each element containing a line of apache log file. Every line starts with an IP address. \n",
    "# Write a program that returns the IP address which appeared most of the times from the log file.\n",
    "\n",
    "import re\n",
    "logtxt = \"\"\"\n",
    "IP,Time,URL,Staus\n",
    "10.128.2.1,[29/Nov/2017:06:58:55,GET /login.php HTTP/1.1,200\n",
    "10.128.2.1,[29/Nov/2017:06:59:02,POST /process.php HTTP/1.1,302\n",
    "10.128.2.1,[29/Nov/2017:06:59:03,GET /home.php HTTP/1.1,200\n",
    "10.131.2.1,[29/Nov/2017:06:59:04,GET /js/vendor/moment.min.js HTTP/1.1,200\n",
    "10.130.2.1,[29/Nov/2017:06:59:06,GET /bootstrap-3.3.7/js/bootstrap.js HTTP/1.1,200\n",
    "10.130.2.1,[29/Nov/2017:06:59:19,GET /profile.php?user=bala HTTP/1.1,200\n",
    "10.128.2.1,[29/Nov/2017:06:59:19,GET /js/jquery.min.js HTTP/1.1,200\n",
    "10.131.2.1,[29/Nov/2017:06:59:19,GET /js/chart.min.js HTTP/1.1,200\n",
    "10.131.2.1,[29/Nov/2017:06:59:30,GET /edit.php?name=bala HTTP/1.1,200\n",
    "10.131.2.1,[29/Nov/2017:06:59:37,GET /logout.php HTTP/1.1,302\n",
    "10.131.2.1,[29/Nov/2017:06:59:37,GET /login.php HTTP/1.1,200\n",
    "10.130.2.1,[29/Nov/2017:07:00:19,GET /login.php HTTP/1.1,200\n",
    "10.130.2.1,[29/Nov/2017:07:00:21,GET /login.php HTTP/1.1,200\n",
    "10.130.2.1,[29/Nov/2017:13:31:27,GET / HTTP/1.1,302\n",
    "10.130.2.1,[29/Nov/2017:13:31:28,GET /login.php HTTP/1.1,200\n",
    "10.129.2.1,[29/Nov/2017:13:38:03,POST /process.php HTTP/1.1,302\n",
    "10.131.0.1,[29/Nov/2017:13:38:04,GET /home.php HTTP/1.1,200\n",
    "10.131.0.1,[29/Nov/2017:13:38:07,GET /contestproblem.php?name=RUET%20OJ%20Server%20Testing%20Contest HTTP/1.1,200\n",
    "10.130.2.1,[29/Nov/2017:13:38:19,GET / HTTP/1.1,302\n",
    "10.131.2.1,[29/Nov/2017:13:38:20,GET /login.php HTTP/1.1,200\n",
    "10.131.2.1,[29/Nov/2017:13:38:20,GET /css/bootstrap.min.css HTTP/1.1,200\n",
    "10.128.2.1,[29/Nov/2017:13:38:20,GET /css/font-awesome.min.css HTTP/1.1,200\n",
    "\"\"\"\n",
    "\n",
    "ip_pattern = re.compile(r\"((\\d{1,3})\\.){3}(\\d{1,3})\")\n",
    "\n",
    "ip_dict = {}\n",
    "\n",
    "for line in logtxt.splitlines():\n",
    "    try:\n",
    "        ip_match = ip_pattern.search(line)[0]\n",
    "        if ip_match in ip_dict.keys():\n",
    "            ip_dict[ip_match]+= 1\n",
    "        else:\n",
    "            ip_dict[ip_match] = 1\n",
    "    except:\n",
    "        pass\n",
    "\n",
    "# print(ip_dict)\n",
    "list(ip_dict.keys())[list(ip_dict.values()).index(max(ip_dict.values()))]\n",
    "# ip_dict[max()]\n",
    " "
   ]
  },
  {
   "cell_type": "code",
   "execution_count": null,
   "metadata": {},
   "outputs": [],
   "source": [
    "# 6. A guy uses elevator to reach his flat. But unfortunately elevator is not working today and he became sad. Suddenly God came and made the stairs magical, such that he can jump on it in a magical way. Initially he can take 1 or 2 steps. If he jumps “x” steps at a time then in the next step he can climb either x or x+1 or x+2…… steps depending on his choice and he must reach exactly on n'th step. Print all possisblities to reach his flat by staircase.\n"
   ]
  },
  {
   "cell_type": "code",
   "execution_count": null,
   "metadata": {},
   "outputs": [],
   "source": [
    "# 7. Little girl has 5 ten rupee coins, 10 two rupee coins and 50 five rupee coins. The needs 50 rupees out of this. Write a program to find all possible ways the girl can make 50 rupees.\n",
    "\n",
    "# (a,b) where a is quantity and b is the currency denomination in the list below\n",
    "money = [(5,10),(10,2),(50,5)]\n",
    "\n",
    "5 * 2 * 25"
   ]
  },
  {
   "cell_type": "code",
   "execution_count": 43,
   "metadata": {
    "tags": []
   },
   "outputs": [
    {
     "output_type": "execute_result",
     "data": {
      "text/plain": [
       "1.4142156862745099"
      ]
     },
     "metadata": {},
     "execution_count": 43
    }
   ],
   "source": [
    "# 8. Find the Square root using Newton raphson method\n",
    "# Given number = N\n",
    "# Make an initial guess\n",
    "# Update the guess using below formula\n",
    "# New Estimate = Current Estimate - (F(Current Estimate) / F'(Current Estimate))\n",
    "# where F(Current Estimate) = Current Estimate * Current Estimate - N\n",
    "# F'(Current Estimate) = 2 * Current Estimate\n",
    "# Repeat till you are close enough\n",
    "\n",
    "def square_root(n,t):\n",
    "    e = n\n",
    "    while True:\n",
    "        e = e - (((e**2) - n)/(2*e))\n",
    "        # print(e)\n",
    "        if (((e**2) - n)/(2*e)) <= t:\n",
    "            break\n",
    "    return e\n",
    "\n",
    "n = 2\n",
    "t = 0.001\n",
    "square_root(n,t)"
   ]
  },
  {
   "cell_type": "code",
   "execution_count": 124,
   "metadata": {},
   "outputs": [
    {
     "output_type": "stream",
     "name": "stdout",
     "text": [
      "[]\n"
     ]
    },
    {
     "output_type": "execute_result",
     "data": {
      "text/plain": [
       "'ABCDABCE'"
      ]
     },
     "metadata": {},
     "execution_count": 124
    }
   ],
   "source": [
    "# 9. In the given string, group the pattern such that the \n",
    "# input is ABABCABABCDE\n",
    "# output 8\n",
    "# Ex:1)ABABCABABCDE\n",
    "# Output:AB*C*CDE(length =8)\n",
    "# Ex:2)ABABCABABCDEC\n",
    "# Output:AB*C*CDE*(length =9)\n",
    "# Ex:3)Input:ABCDABCE\n",
    "# Output:ABCDABCE(length =8)\n",
    "\n",
    "import re\n",
    "w=\"ABCDABCE\"\n",
    "pattern = re.compile(\"(AB){1}([A-Z]*)(C){1}([A-Z]*)(CDE){1}([A-Z]*)\")\n",
    "y = pattern.findall(w)\n",
    "out_w = ''\n",
    "\n",
    "if y:\n",
    "    matching_list = y[0]\n",
    "    # print(matching_list)\n",
    "    for i in range(len(matching_list)):\n",
    "        l = matching_list[i]\n",
    "        if i%2==0:\n",
    "            out_w+=l\n",
    "        else:\n",
    "            if l:\n",
    "                out_w+=\"*\"\n",
    "else:\n",
    "    out_w = w\n",
    "out_w"
   ]
  },
  {
   "cell_type": "code",
   "execution_count": 115,
   "metadata": {},
   "outputs": [],
   "source": [
    "for i in range(0,l,2):\n",
    "    print(i)"
   ]
  },
  {
   "cell_type": "code",
   "execution_count": 116,
   "metadata": {},
   "outputs": [
    {
     "output_type": "stream",
     "name": "stdout",
     "text": [
      "Help on class range in module builtins:\n\nclass range(object)\n |  range(stop) -> range object\n |  range(start, stop[, step]) -> range object\n |  \n |  Return an object that produces a sequence of integers from start (inclusive)\n |  to stop (exclusive) by step.  range(i, j) produces i, i+1, i+2, ..., j-1.\n |  start defaults to 0, and stop is omitted!  range(4) produces 0, 1, 2, 3.\n |  These are exactly the valid indices for a list of 4 elements.\n |  When step is given, it specifies the increment (or decrement).\n |  \n |  Methods defined here:\n |  \n |  __bool__(self, /)\n |      self != 0\n |  \n |  __contains__(self, key, /)\n |      Return key in self.\n |  \n |  __eq__(self, value, /)\n |      Return self==value.\n |  \n |  __ge__(self, value, /)\n |      Return self>=value.\n |  \n |  __getattribute__(self, name, /)\n |      Return getattr(self, name).\n |  \n |  __getitem__(self, key, /)\n |      Return self[key].\n |  \n |  __gt__(self, value, /)\n |      Return self>value.\n |  \n |  __hash__(self, /)\n |      Return hash(self).\n |  \n |  __iter__(self, /)\n |      Implement iter(self).\n |  \n |  __le__(self, value, /)\n |      Return self<=value.\n |  \n |  __len__(self, /)\n |      Return len(self).\n |  \n |  __lt__(self, value, /)\n |      Return self<value.\n |  \n |  __ne__(self, value, /)\n |      Return self!=value.\n |  \n |  __reduce__(...)\n |      Helper for pickle.\n |  \n |  __repr__(self, /)\n |      Return repr(self).\n |  \n |  __reversed__(...)\n |      Return a reverse iterator.\n |  \n |  count(...)\n |      rangeobject.count(value) -> integer -- return number of occurrences of value\n |  \n |  index(...)\n |      rangeobject.index(value) -> integer -- return index of value.\n |      Raise ValueError if the value is not present.\n |  \n |  ----------------------------------------------------------------------\n |  Static methods defined here:\n |  \n |  __new__(*args, **kwargs) from builtins.type\n |      Create and return a new object.  See help(type) for accurate signature.\n |  \n |  ----------------------------------------------------------------------\n |  Data descriptors defined here:\n |  \n |  start\n |  \n |  step\n |  \n |  stop\n\n"
     ]
    }
   ],
   "source": [
    "help(range)"
   ]
  }
 ]
}