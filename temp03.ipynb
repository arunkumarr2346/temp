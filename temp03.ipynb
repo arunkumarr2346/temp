{
 "cells": [
  {
   "cell_type": "code",
   "execution_count": 4,
   "metadata": {},
   "outputs": [],
   "source": [
    "lst = [1, 2, -5, 4]"
   ]
  },
  {
   "cell_type": "code",
   "execution_count": 2,
   "metadata": {},
   "outputs": [],
   "source": [
    "a = dict()"
   ]
  },
  {
   "cell_type": "code",
   "execution_count": null,
   "metadata": {},
   "outputs": [],
   "source": [
    "# Persistent \n",
    "# [16:35] Vidyadhar Govande\n",
    "[12,345,2,6,7897]\n",
    "# ​[16:41] Vidyadhar Govande\n",
    "e = 7\n",
    "try:\n",
    "    raise Exception()\n",
    "except Exception as e:\n",
    "    pass\n",
    "print(e)"
   ]
  },
  {
   "cell_type": "code",
   "execution_count": 6,
   "metadata": {},
   "outputs": [],
   "source": [
    "import string"
   ]
  },
  {
   "cell_type": "code",
   "execution_count": 7,
   "metadata": {},
   "outputs": [],
   "source": [
    "letter = 'HELLO WORLD'"
   ]
  },
  {
   "cell_type": "code",
   "execution_count": 10,
   "metadata": {},
   "outputs": [
    {
     "data": {
      "text/plain": [
       "'HELLOWORLD'"
      ]
     },
     "execution_count": 10,
     "metadata": {},
     "output_type": "execute_result"
    }
   ],
   "source": [
    "''.join(l for l in letter if l not in string.whitespace)"
   ]
  },
  {
   "cell_type": "code",
   "execution_count": 22,
   "metadata": {},
   "outputs": [],
   "source": [
    "import itertools as it"
   ]
  },
  {
   "cell_type": "code",
   "execution_count": 23,
   "metadata": {},
   "outputs": [
    {
     "data": {
      "text/plain": [
       "[0, 1, 8, 27, 64, 125, 216, 343, 512, 729]"
      ]
     },
     "execution_count": 23,
     "metadata": {},
     "output_type": "execute_result"
    }
   ],
   "source": [
    "list(map(pow, range(10), it.repeat(3)))"
   ]
  },
  {
   "cell_type": "code",
   "execution_count": 31,
   "metadata": {},
   "outputs": [
    {
     "data": {
      "text/plain": [
       "'adbecfdgh'"
      ]
     },
     "execution_count": 31,
     "metadata": {},
     "output_type": "execute_result"
    }
   ],
   "source": [
    "''.join(a+b if a and b else a or b for a,b in it.zip_longest('abcd', 'defgh'))"
   ]
  },
  {
   "cell_type": "code",
   "execution_count": 23,
   "metadata": {},
   "outputs": [
    {
     "name": "stdout",
     "output_type": "stream",
     "text": [
      "[(3, 2)]\n"
     ]
    },
    {
     "data": {
      "text/plain": [
       "[]"
      ]
     },
     "execution_count": 23,
     "metadata": {},
     "output_type": "execute_result"
    }
   ],
   "source": [
    "# majority element indexes\n",
    "\n",
    "from collections import Counter\n",
    "\n",
    "\n",
    "def majority_element_indexes(lst):\n",
    "    if not lst:\n",
    "        return []\n",
    "    l = len(lst)\n",
    "    c = Counter(lst).most_common(1)\n",
    "    print(c)\n",
    "    e, ec = c[0]\n",
    "    if ec > l // 2:\n",
    "        return [i for i, x in enumerate(lst) if x == e]\n",
    "    else:\n",
    "        return []\n",
    "\n",
    "\n",
    "majority_element_indexes(lst=[1, 3, 2, 2, 3])\n"
   ]
  },
  {
   "cell_type": "code",
   "execution_count": 56,
   "metadata": {},
   "outputs": [
    {
     "data": {
      "text/plain": [
       "''"
      ]
     },
     "execution_count": 56,
     "metadata": {},
     "output_type": "execute_result"
    }
   ],
   "source": [
    "std_phone_keypad = {\n",
    "    '1': [0, ''],\n",
    "    '2': [3, 'abc'],\n",
    "    '3': [3, 'def'],\n",
    "    '4': [3, 'ghi'],\n",
    "    '5': [3, 'jkl'],\n",
    "    '6': [3, 'mno'],\n",
    "    '7': [4, 'pqrs'],\n",
    "    '8': [3, 'tuv'],\n",
    "    '9': [4, 'wxyz'],\n",
    "    '0': [1, ' '],\n",
    "    '#': [0, ''],\n",
    "    '*': [0, ''],\n",
    "}\n",
    "\n",
    "\n",
    "def keypad_string_converter(string):\n",
    "    # Trigger\n",
    "    # Current and next element is not same\n",
    "    # keypad digit string length and cntr length\n",
    "    o = ''\n",
    "    if not string:\n",
    "        return o\n",
    "    prev_elem = string[0]\n",
    "    cnt = 1\n",
    "    keypad_digit_len = std_phone_keypad.get(prev_elem)[0]\n",
    "    for elem in (string+' ')[1:]:\n",
    "        # print(elem, o, cnt, keypad_digit_len)\n",
    "        if elem != prev_elem or keypad_digit_len == cnt:\n",
    "            prev_keypad_string = std_phone_keypad.get(prev_elem)[1]\n",
    "            keypad_info = std_phone_keypad.get(elem)\n",
    "            if keypad_info:\n",
    "                keypad_digit_len = keypad_info[0]\n",
    "            else:\n",
    "                keypad_digit_len = 0\n",
    "            if len(prev_keypad_string) > 0:\n",
    "                o += prev_keypad_string[cnt-1]\n",
    "            else:\n",
    "                o += prev_keypad_string\n",
    "            cnt = 1\n",
    "        else:\n",
    "            cnt +=1\n",
    "        prev_elem = elem\n",
    "    return o\n",
    "\n",
    "\n",
    "keypad_string_converter(string=\"111\")"
   ]
  },
  {
   "cell_type": "code",
   "execution_count": 99,
   "metadata": {},
   "outputs": [
    {
     "name": "stdout",
     "output_type": "stream",
     "text": [
      "defaultdict(<class 'int'>, {1: 1, 2: 1, 3: 1, 4: 1}) [4, 3, 2, 1]\n",
      "Link(1, Link(2, Link(3, Link(4))))\n",
      "defaultdict(<class 'int'>, {1: 1, 2: 2, 4: 1, 3: 2}) [4, 3, 2, 1]\n",
      "Link(1, Link(2, Link(2, Link(3, Link(3, Link(4))))))\n"
     ]
    },
    {
     "data": {
      "text/plain": [
       "<__main__.Link at 0x2dc7337a320>"
      ]
     },
     "execution_count": 99,
     "metadata": {},
     "output_type": "execute_result"
    }
   ],
   "source": [
    "from collections import defaultdict\n",
    "\n",
    "\n",
    "class Link:\n",
    "    def __init__(self, val, next=None):\n",
    "        self.val = val\n",
    "        self.next = next\n",
    "\n",
    "    def __str__(self):\n",
    "        if not self.next:\n",
    "            return f\"Link({self.val})\"\n",
    "        return f\"Link({self.val}, {self.next})\"\n",
    "\n",
    "def merge_k_linked_lists(linked_lists):\n",
    "    '''\n",
    "    Merge k sorted linked lists into one\n",
    "    sorted linked list.\n",
    "    >>> print(merge_k_linked_lists([\n",
    "    ...     Link(1, Link(2)),\n",
    "    ...     Link(3, Link(4))\n",
    "    ... ]))\n",
    "    Link(1, Link(2, Link(3, Link(4))))\n",
    "    >>> print(merge_k_linked_lists([\n",
    "    ...     Link(1, Link(2)),\n",
    "    ...     Link(2, Link(4)),\n",
    "    ...     Link(3, Link(3)),\n",
    "    ... ]))\n",
    "    Link(1, Link(2, Link(2, Link(3, Link(3, Link(4))))))\n",
    "    '''\n",
    "    list_val = defaultdict(int)\n",
    "    for linked_list in linked_lists:\n",
    "        # temp_linked_lists = linked_list\n",
    "        while linked_list:\n",
    "            list_val[linked_list.val]+=1\n",
    "            linked_list = linked_list.next\n",
    "    list_key = sorted(\n",
    "        list_val.keys(),\n",
    "        # key=lambda k: k,\n",
    "        reverse=True\n",
    "    )\n",
    "    print(list_val, list_key)\n",
    "    l = None\n",
    "    for kv in list_key:\n",
    "        cv = list_val.get(kv)\n",
    "        while cv:\n",
    "            l = Link(kv, l)\n",
    "            cv-=1\n",
    "    print(l)\n",
    "    return l\n",
    "\n",
    "merge_k_linked_lists(\n",
    "    [\n",
    "        Link(1, Link(2)), \n",
    "        Link(3, Link(4)),\n",
    "    ]\n",
    ")\n",
    "merge_k_linked_lists(\n",
    "    [\n",
    "        Link(1, Link(2)),\n",
    "        Link(2, Link(4)),\n",
    "        Link(3, Link(3)),\n",
    "    ]\n",
    ")\n",
    "        "
   ]
  },
  {
   "cell_type": "code",
   "execution_count": 59,
   "metadata": {},
   "outputs": [],
   "source": [
    "x = Link(1, Link(2))"
   ]
  },
  {
   "cell_type": "code",
   "execution_count": 74,
   "metadata": {},
   "outputs": [],
   "source": [
    "list_val = defaultdict(int)"
   ]
  },
  {
   "cell_type": "code",
   "execution_count": 77,
   "metadata": {},
   "outputs": [],
   "source": [
    "list_val[2]+=1"
   ]
  },
  {
   "cell_type": "code",
   "execution_count": 78,
   "metadata": {},
   "outputs": [
    {
     "data": {
      "text/plain": [
       "defaultdict(int, {1: 0, 2: 1})"
      ]
     },
     "execution_count": 78,
     "metadata": {},
     "output_type": "execute_result"
    }
   ],
   "source": [
    "list_val"
   ]
  },
  {
   "cell_type": "code",
   "execution_count": 72,
   "metadata": {},
   "outputs": [
    {
     "name": "stdout",
     "output_type": "stream",
     "text": [
      "Help on class defaultdict in module collections:\n",
      "\n",
      "class defaultdict(builtins.dict)\n",
      " |  defaultdict(default_factory=None, /, [...]) --> dict with default factory\n",
      " |  \n",
      " |  The default factory is called without arguments to produce\n",
      " |  a new value when a key is not present, in __getitem__ only.\n",
      " |  A defaultdict compares equal to a dict with the same items.\n",
      " |  All remaining arguments are treated the same as if they were\n",
      " |  passed to the dict constructor, including keyword arguments.\n",
      " |  \n",
      " |  Method resolution order:\n",
      " |      defaultdict\n",
      " |      builtins.dict\n",
      " |      builtins.object\n",
      " |  \n",
      " |  Methods defined here:\n",
      " |  \n",
      " |  __copy__(...)\n",
      " |      D.copy() -> a shallow copy of D.\n",
      " |  \n",
      " |  __getattribute__(self, name, /)\n",
      " |      Return getattr(self, name).\n",
      " |  \n",
      " |  __init__(self, /, *args, **kwargs)\n",
      " |      Initialize self.  See help(type(self)) for accurate signature.\n",
      " |  \n",
      " |  __missing__(...)\n",
      " |      __missing__(key) # Called by __getitem__ for missing key; pseudo-code:\n",
      " |      if self.default_factory is None: raise KeyError((key,))\n",
      " |      self[key] = value = self.default_factory()\n",
      " |      return value\n",
      " |  \n",
      " |  __or__(self, value, /)\n",
      " |      Return self|value.\n",
      " |  \n",
      " |  __reduce__(...)\n",
      " |      Return state information for pickling.\n",
      " |  \n",
      " |  __repr__(self, /)\n",
      " |      Return repr(self).\n",
      " |  \n",
      " |  __ror__(self, value, /)\n",
      " |      Return value|self.\n",
      " |  \n",
      " |  copy(...)\n",
      " |      D.copy() -> a shallow copy of D.\n",
      " |  \n",
      " |  ----------------------------------------------------------------------\n",
      " |  Class methods defined here:\n",
      " |  \n",
      " |  __class_getitem__(...) from builtins.type\n",
      " |      See PEP 585\n",
      " |  \n",
      " |  ----------------------------------------------------------------------\n",
      " |  Data descriptors defined here:\n",
      " |  \n",
      " |  default_factory\n",
      " |      Factory for default value called by __missing__().\n",
      " |  \n",
      " |  ----------------------------------------------------------------------\n",
      " |  Methods inherited from builtins.dict:\n",
      " |  \n",
      " |  __contains__(self, key, /)\n",
      " |      True if the dictionary has the specified key, else False.\n",
      " |  \n",
      " |  __delitem__(self, key, /)\n",
      " |      Delete self[key].\n",
      " |  \n",
      " |  __eq__(self, value, /)\n",
      " |      Return self==value.\n",
      " |  \n",
      " |  __ge__(self, value, /)\n",
      " |      Return self>=value.\n",
      " |  \n",
      " |  __getitem__(...)\n",
      " |      x.__getitem__(y) <==> x[y]\n",
      " |  \n",
      " |  __gt__(self, value, /)\n",
      " |      Return self>value.\n",
      " |  \n",
      " |  __ior__(self, value, /)\n",
      " |      Return self|=value.\n",
      " |  \n",
      " |  __iter__(self, /)\n",
      " |      Implement iter(self).\n",
      " |  \n",
      " |  __le__(self, value, /)\n",
      " |      Return self<=value.\n",
      " |  \n",
      " |  __len__(self, /)\n",
      " |      Return len(self).\n",
      " |  \n",
      " |  __lt__(self, value, /)\n",
      " |      Return self<value.\n",
      " |  \n",
      " |  __ne__(self, value, /)\n",
      " |      Return self!=value.\n",
      " |  \n",
      " |  __reversed__(self, /)\n",
      " |      Return a reverse iterator over the dict keys.\n",
      " |  \n",
      " |  __setitem__(self, key, value, /)\n",
      " |      Set self[key] to value.\n",
      " |  \n",
      " |  __sizeof__(...)\n",
      " |      D.__sizeof__() -> size of D in memory, in bytes\n",
      " |  \n",
      " |  clear(...)\n",
      " |      D.clear() -> None.  Remove all items from D.\n",
      " |  \n",
      " |  get(self, key, default=None, /)\n",
      " |      Return the value for key if key is in the dictionary, else default.\n",
      " |  \n",
      " |  items(...)\n",
      " |      D.items() -> a set-like object providing a view on D's items\n",
      " |  \n",
      " |  keys(...)\n",
      " |      D.keys() -> a set-like object providing a view on D's keys\n",
      " |  \n",
      " |  pop(...)\n",
      " |      D.pop(k[,d]) -> v, remove specified key and return the corresponding value.\n",
      " |      \n",
      " |      If the key is not found, return the default if given; otherwise,\n",
      " |      raise a KeyError.\n",
      " |  \n",
      " |  popitem(self, /)\n",
      " |      Remove and return a (key, value) pair as a 2-tuple.\n",
      " |      \n",
      " |      Pairs are returned in LIFO (last-in, first-out) order.\n",
      " |      Raises KeyError if the dict is empty.\n",
      " |  \n",
      " |  setdefault(self, key, default=None, /)\n",
      " |      Insert key with a value of default if key is not in the dictionary.\n",
      " |      \n",
      " |      Return the value for key if key is in the dictionary, else default.\n",
      " |  \n",
      " |  update(...)\n",
      " |      D.update([E, ]**F) -> None.  Update D from dict/iterable E and F.\n",
      " |      If E is present and has a .keys() method, then does:  for k in E: D[k] = E[k]\n",
      " |      If E is present and lacks a .keys() method, then does:  for k, v in E: D[k] = v\n",
      " |      In either case, this is followed by: for k in F:  D[k] = F[k]\n",
      " |  \n",
      " |  values(...)\n",
      " |      D.values() -> an object providing a view on D's values\n",
      " |  \n",
      " |  ----------------------------------------------------------------------\n",
      " |  Class methods inherited from builtins.dict:\n",
      " |  \n",
      " |  fromkeys(iterable, value=None, /) from builtins.type\n",
      " |      Create a new dictionary with keys from iterable and values set to value.\n",
      " |  \n",
      " |  ----------------------------------------------------------------------\n",
      " |  Static methods inherited from builtins.dict:\n",
      " |  \n",
      " |  __new__(*args, **kwargs) from builtins.type\n",
      " |      Create and return a new object.  See help(type) for accurate signature.\n",
      " |  \n",
      " |  ----------------------------------------------------------------------\n",
      " |  Data and other attributes inherited from builtins.dict:\n",
      " |  \n",
      " |  __hash__ = None\n",
      "\n"
     ]
    }
   ],
   "source": [
    "help(defaultdict)"
   ]
  },
  {
   "cell_type": "code",
   "execution_count": 60,
   "metadata": {},
   "outputs": [
    {
     "data": {
      "text/plain": [
       "'Link(1, Link(2))'"
      ]
     },
     "execution_count": 60,
     "metadata": {},
     "output_type": "execute_result"
    }
   ],
   "source": [
    "str(x)"
   ]
  },
  {
   "cell_type": "code",
   "execution_count": 61,
   "metadata": {},
   "outputs": [],
   "source": [
    "y =  Link(1, Link(2, Link(3, Link(4))))"
   ]
  },
  {
   "cell_type": "code",
   "execution_count": 62,
   "metadata": {},
   "outputs": [
    {
     "data": {
      "text/plain": [
       "'Link(1, Link(2, Link(3, Link(4))))'"
      ]
     },
     "execution_count": 62,
     "metadata": {},
     "output_type": "execute_result"
    }
   ],
   "source": [
    "str(y)"
   ]
  },
  {
   "cell_type": "code",
   "execution_count": 23,
   "metadata": {},
   "outputs": [],
   "source": [
    "from random import randint\n",
    "\n",
    "items = [randint(1, 10000) for _ in range(1000)]"
   ]
  },
  {
   "cell_type": "code",
   "execution_count": 12,
   "metadata": {},
   "outputs": [
    {
     "name": "stdout",
     "output_type": "stream",
     "text": [
      "0 0 1 [1]\n",
      "0 1 1 [2]\n",
      "0 2 1 [3]\n",
      "0 3 1 [4]\n"
     ]
    },
    {
     "data": {
      "text/plain": [
       "[1, 2, 3, 4, 5]"
      ]
     },
     "execution_count": 12,
     "metadata": {},
     "output_type": "execute_result"
    }
   ],
   "source": [
    "def bubble_sort(lst):\n",
    "    length = len(lst)\n",
    "    for i, e in enumerate(lst):\n",
    "        for j in range(length - i -1):\n",
    "            already_sorted = True\n",
    "            print(i, j, e, lst[j: j+1])\n",
    "            if lst[j] > lst[j+1]:\n",
    "                lst[j], lst[j+1] = lst[j+1], lst[j]\n",
    "                already_sorted = False\n",
    "        if already_sorted:\n",
    "            break\n",
    "    return lst\n",
    "\n",
    "# bubble_sort(lst=[6,3,5,2,4,1])\n",
    "bubble_sort(lst=[1, 2, 3, 4, 5])"
   ]
  },
  {
   "cell_type": "code",
   "execution_count": 27,
   "metadata": {},
   "outputs": [
    {
     "name": "stdout",
     "output_type": "stream",
     "text": [
      "1 0 3 [6, 3, 5, 2, 4, 1]\n",
      "2 1 5 [3, 6, 5, 2, 4, 1]\n",
      "3 2 2 [3, 5, 6, 2, 4, 1]\n",
      "3 1 2 [3, 5, 6, 6, 4, 1]\n",
      "3 0 2 [3, 5, 5, 6, 4, 1]\n",
      "4 3 4 [2, 3, 5, 6, 4, 1]\n",
      "4 2 4 [2, 3, 5, 6, 6, 1]\n",
      "5 4 1 [2, 3, 4, 5, 6, 1]\n",
      "5 3 1 [2, 3, 4, 5, 6, 6]\n",
      "5 2 1 [2, 3, 4, 5, 5, 6]\n",
      "5 1 1 [2, 3, 4, 4, 5, 6]\n",
      "5 0 1 [2, 3, 3, 4, 5, 6]\n",
      "CPU times: total: 15.6 ms\n",
      "Wall time: 1e+03 µs\n"
     ]
    },
    {
     "data": {
      "text/plain": [
       "[1, 2, 3, 4, 5, 6]"
      ]
     },
     "execution_count": 27,
     "metadata": {},
     "output_type": "execute_result"
    }
   ],
   "source": [
    "%%time\n",
    "\n",
    "def insertion_sort(lst):\n",
    "    length = len(lst)\n",
    "    for i in range(1, length):\n",
    "        current_item = lst[i]\n",
    "        j = i - 1\n",
    "        while (j >=0 and current_item < lst[j]):\n",
    "            print(i, j, current_item, lst)\n",
    "            lst[j + 1] = lst[j]\n",
    "            j-=1\n",
    "        lst[j+1] = current_item\n",
    "    return lst\n",
    "\n",
    "insertion_sort(lst=[6,3,5,2,4,1])\n",
    "# insertion_sort(lst=[1, 2, 3, 4, 5])\n",
    "# insertion_sort(lst=items)"
   ]
  },
  {
   "cell_type": "code",
   "execution_count": null,
   "metadata": {},
   "outputs": [],
   "source": [
    "[1,3,5] [2,4,6]"
   ]
  },
  {
   "cell_type": "code",
   "execution_count": null,
   "metadata": {},
   "outputs": [],
   "source": [
    "# @author Liam Pulsifer\n",
    "# A basic merge sort implementation.\n",
    "# O(n log(n)) performance.\n",
    "\n",
    "def merge_sorted_lists(left, right):\n",
    "    left_index, right_index = 0, 0 # Start at the beginning of both lists\n",
    "    return_list = []\n",
    "    while (len(return_list) < len(left) + len(right)):\n",
    "\n",
    "        # Choose the left-most item from each list that has yet to be processed\n",
    "        # If all are processed, choose an \"infinite\" value so we know to not consider that list.\n",
    "        left_item = left[left_index] if left_index < len(left) else float('inf')\n",
    "        right_item = right[right_index] if right_index < len(right) else float('inf')\n",
    "        if (left_item < right_item): # Choose the smallest remaining item\n",
    "            return_list.append(left_item)\n",
    "            left_index += 1 # And move up in the list so we don't consider it again\n",
    "        else:\n",
    "            return_list.append(right_item)\n",
    "            right_index += 1\n",
    "    return return_list\n",
    "\n",
    "# The actual merge sort is super simple!\n",
    "def merge_sort(items):\n",
    "    if (len(items) <= 1):\n",
    "        return items\n",
    "    midpoint = len(items) // 2\n",
    "    left, right = items[:midpoint], items[midpoint:]\n",
    "\n",
    "    # Recursively divide the list into 2, sort it, and then merge those lists\n",
    "    return merge_sorted_lists(merge_sort(left), merge_sort(right))"
   ]
  },
  {
   "cell_type": "code",
   "execution_count": 1,
   "metadata": {},
   "outputs": [],
   "source": [
    "lst = [6, 3, 5, 2, 4, 1]\n",
    "f = filter(lambda x: x % 2 ==0, lst)"
   ]
  },
  {
   "cell_type": "code",
   "execution_count": 2,
   "metadata": {},
   "outputs": [
    {
     "name": "stdout",
     "output_type": "stream",
     "text": [
      "6\n",
      "2\n",
      "4\n"
     ]
    }
   ],
   "source": [
    "for i in f:\n",
    "    print(i)"
   ]
  },
  {
   "cell_type": "code",
   "execution_count": 1,
   "metadata": {},
   "outputs": [
    {
     "name": "stdout",
     "output_type": "stream",
     "text": [
      "48\n",
      "800056\n",
      "104\n",
      "48\n"
     ]
    }
   ],
   "source": [
    "import sys\n",
    "import itertools as it\n",
    "\n",
    "print(sys.getsizeof(range(100000)))\n",
    "print(sys.getsizeof(list(range(100000))))\n",
    "print(sys.getsizeof((i^2 for i in range(100000))))\n",
    "print(sys.getsizeof(map(pow, range(100000), it.repeat(2))))"
   ]
  },
  {
   "cell_type": "code",
   "execution_count": 23,
   "metadata": {},
   "outputs": [],
   "source": [
    "%%time\n",
    "l = list(map(pow, range(100000000), it.repeat(2)))"
   ]
  },
  {
   "cell_type": "code",
   "execution_count": 22,
   "metadata": {},
   "outputs": [
    {
     "name": "stdout",
     "output_type": "stream",
     "text": [
      "CPU times: total: 453 ms\n",
      "Wall time: 490 ms\n"
     ]
    }
   ],
   "source": [
    "%%time\n",
    "l = list(map(pow, range(1000000), [2] * 1000000))"
   ]
  },
  {
   "cell_type": "code",
   "execution_count": 52,
   "metadata": {},
   "outputs": [
    {
     "name": "stdout",
     "output_type": "stream",
     "text": [
      "CPU times: total: 0 ns\n",
      "Wall time: 0 ns\n"
     ]
    },
    {
     "data": {
      "text/plain": [
       "50005000"
      ]
     },
     "execution_count": 52,
     "metadata": {},
     "output_type": "execute_result"
    }
   ],
   "source": [
    "%%time\n",
    "def add_it_up(val):\n",
    "    if not isinstance(val, int):\n",
    "        return 0\n",
    "    return sum(range(val+1))\n",
    "\n",
    "# add_it_up(\"Arun\")\n",
    "add_it_up(10000)"
   ]
  },
  {
   "cell_type": "code",
   "execution_count": 11,
   "metadata": {},
   "outputs": [
    {
     "name": "stdout",
     "output_type": "stream",
     "text": [
      "CPU times: total: 0 ns\n",
      "Wall time: 0 ns\n"
     ]
    },
    {
     "data": {
      "text/plain": [
       "50000005000000"
      ]
     },
     "execution_count": 11,
     "metadata": {},
     "output_type": "execute_result"
    }
   ],
   "source": [
    "%%time\n",
    "def add_it_up(val):\n",
    "    if not isinstance(val, int):\n",
    "        return 0\n",
    "    return (val * (val +1)) // 2\n",
    "\n",
    "# add_it_up(\"Arun\")\n",
    "add_it_up(10000000)"
   ]
  },
  {
   "cell_type": "code",
   "execution_count": 23,
   "metadata": {},
   "outputs": [
    {
     "data": {
      "text/plain": [
       "'b'"
      ]
     },
     "execution_count": 23,
     "metadata": {},
     "output_type": "execute_result"
    }
   ],
   "source": [
    "chr(((ord(\"x\")+4-97)//26)+97)"
   ]
  },
  {
   "cell_type": "code",
   "execution_count": 24,
   "metadata": {},
   "outputs": [],
   "source": [
    "import string"
   ]
  },
  {
   "cell_type": "code",
   "execution_count": 25,
   "metadata": {},
   "outputs": [
    {
     "name": "stdout",
     "output_type": "stream",
     "text": [
      "abcdefghijklmnopqrstuvwxyz\n"
     ]
    }
   ],
   "source": [
    "letters = string.ascii_lowercase\n",
    "print(letters)"
   ]
  },
  {
   "cell_type": "code",
   "execution_count": 26,
   "metadata": {},
   "outputs": [
    {
     "name": "stdout",
     "output_type": "stream",
     "text": [
      "efghijklmnopqrstuvwxyzabcd\n"
     ]
    }
   ],
   "source": [
    "shift_num=4\n",
    "mask = letters[shift_num:] + letters[:shift_num]\n",
    "print(mask)"
   ]
  },
  {
   "cell_type": "code",
   "execution_count": 27,
   "metadata": {},
   "outputs": [
    {
     "data": {
      "text/plain": [
       "{97: 101,\n",
       " 98: 102,\n",
       " 99: 103,\n",
       " 100: 104,\n",
       " 101: 105,\n",
       " 102: 106,\n",
       " 103: 107,\n",
       " 104: 108,\n",
       " 105: 109,\n",
       " 106: 110,\n",
       " 107: 111,\n",
       " 108: 112,\n",
       " 109: 113,\n",
       " 110: 114,\n",
       " 111: 115,\n",
       " 112: 116,\n",
       " 113: 117,\n",
       " 114: 118,\n",
       " 115: 119,\n",
       " 116: 120,\n",
       " 117: 121,\n",
       " 118: 122,\n",
       " 119: 97,\n",
       " 120: 98,\n",
       " 121: 99,\n",
       " 122: 100}"
      ]
     },
     "execution_count": 27,
     "metadata": {},
     "output_type": "execute_result"
    }
   ],
   "source": [
    "trantab = str.maketrans(letters, mask)\n",
    "trantab"
   ]
  },
  {
   "cell_type": "code",
   "execution_count": 28,
   "metadata": {},
   "outputs": [
    {
     "data": {
      "text/plain": [
       "'efgh bcd'"
      ]
     },
     "execution_count": 28,
     "metadata": {},
     "output_type": "execute_result"
    }
   ],
   "source": [
    "\"abcd xyz\".translate(trantab)"
   ]
  },
  {
   "cell_type": "code",
   "execution_count": 6,
   "metadata": {},
   "outputs": [
    {
     "name": "stdout",
     "output_type": "stream",
     "text": [
      "Rodger is a ['mammal']\n",
      "Tommy is also a ['mammal', 'm']\n",
      "My name is Rodger\n",
      "My name is Tommy\n"
     ]
    }
   ],
   "source": [
    "class Dog:\n",
    "\n",
    "\t# class attribute\n",
    "\tattr1 = [\"mammal\"]\n",
    "\n",
    "\t# Instance attribute\n",
    "\tdef __init__(self, name):\n",
    "\t\tself.name = name\n",
    "\n",
    "# Driver code\n",
    "# Object instantiation\n",
    "Rodger = Dog(\"Rodger\")\n",
    "Tommy = Dog(\"Tommy\")\n",
    "\n",
    "# Accessing class attributes\n",
    "print(\"Rodger is a {}\".format(Rodger.attr1))\n",
    "Rodger.attr1.append(\"m\")\n",
    "print(\"Tommy is also a {}\".format(Tommy.attr1))\n",
    "\n",
    "# Accessing instance attributes\n",
    "print(\"My name is {}\".format(Rodger.name))\n",
    "print(\"My name is {}\".format(Tommy.name))\n"
   ]
  },
  {
   "cell_type": "code",
   "execution_count": 8,
   "metadata": {},
   "outputs": [
    {
     "name": "stdout",
     "output_type": "stream",
     "text": [
      "2\n",
      "7\n",
      "7\n"
     ]
    }
   ],
   "source": [
    "class MyClass: \n",
    "  \n",
    "    # Hidden member of MyClass \n",
    "    __hiddenVariable = 0\n",
    "    \n",
    "    # A member method that changes  \n",
    "    # __hiddenVariable  \n",
    "    def add(self, increment): \n",
    "        self.__hiddenVariable += increment \n",
    "        print (self.__hiddenVariable) \n",
    "   \n",
    "# Driver code \n",
    "myObject = MyClass()      \n",
    "myObject.add(2) \n",
    "myObject.add(5) \n",
    "  \n",
    "# This line causes error \n",
    "print (myObject._MyClass__hiddenVariable) "
   ]
  },
  {
   "cell_type": "code",
   "execution_count": 10,
   "metadata": {},
   "outputs": [
    {
     "name": "stdout",
     "output_type": "stream",
     "text": [
      "From str method of Test: a is 1234,b is 5678\n",
      "[<__main__.Test object at 0x000001AB128AF1C0>]\n"
     ]
    }
   ],
   "source": [
    "class Test: \n",
    "\tdef __init__(self, a, b): \n",
    "\t\tself.a = a \n",
    "\t\tself.b = b \n",
    "\n",
    "\t# def __repr__(self): \n",
    "\t# \treturn \"Test a:%s b:%s\" % (self.a, self.b) \n",
    "\n",
    "\tdef __str__(self): \n",
    "\t\treturn \"From str method of Test: a is %s,\" \\\n",
    "\t\t\t\"b is %s\" % (self.a, self.b) \n",
    "\n",
    "# Driver Code\t\t \n",
    "t = Test(1234, 5678) \n",
    "print(t) # This calls __str__() \n",
    "print([t]) # This calls __repr__() \n"
   ]
  },
  {
   "cell_type": "code",
   "execution_count": 16,
   "metadata": {},
   "outputs": [
    {
     "name": "stdout",
     "output_type": "stream",
     "text": [
      "Executed\n",
      "Executed\n"
     ]
    },
    {
     "data": {
      "text/plain": [
       "True"
      ]
     },
     "execution_count": 16,
     "metadata": {},
     "output_type": "execute_result"
    }
   ],
   "source": [
    "class Singleton:\n",
    "    _instances = {}\n",
    "\n",
    "    def __init__(self) -> None:\n",
    "        print(\"Executed\")\n",
    "    \n",
    "    def __new__(cls, *args, **kwargs):\n",
    "        if cls not in cls._instances:\n",
    "            cls._instances[cls] = super().__new__(cls)\n",
    "        return cls._instances[cls]\n",
    "\n",
    "\n",
    "s1 = Singleton()\n",
    "s2 = Singleton()\n",
    "\n",
    "s1 == s2"
   ]
  },
  {
   "cell_type": "code",
   "execution_count": 22,
   "metadata": {},
   "outputs": [
    {
     "name": "stdout",
     "output_type": "stream",
     "text": [
      "Executed\n",
      "True\n"
     ]
    }
   ],
   "source": [
    "class Singleton(type):\n",
    "    _instances = {}\n",
    "\n",
    "    def __call__(cls, *args, **kwargs):\n",
    "        if cls not in cls._instances:\n",
    "            cls._instances[cls] = super(Singleton, cls).__call__(*args, **kwargs)\n",
    "        return cls._instances[cls]\n",
    "\n",
    "\n",
    "class Database(metaclass=Singleton):\n",
    "    def __init__(self) -> None:\n",
    "        print(\"Executed\")\n",
    "\n",
    "d1 = Database()\n",
    "d2 = Database()\n",
    "print(d1 == d2)"
   ]
  },
  {
   "cell_type": "code",
   "execution_count": 31,
   "metadata": {},
   "outputs": [
    {
     "data": {
      "text/plain": [
       "True"
      ]
     },
     "execution_count": 31,
     "metadata": {},
     "output_type": "execute_result"
    }
   ],
   "source": [
    "d1.__class__() is d1"
   ]
  },
  {
   "cell_type": "code",
   "execution_count": 3,
   "metadata": {},
   "outputs": [
    {
     "name": "stdout",
     "output_type": "stream",
     "text": [
      "P1\n",
      "{<class '__main__.P1'>: <__main__.P1 object at 0x000002719D1146A0>}\n",
      "P2\n",
      "{<class '__main__.P2'>: <__main__.P2 object at 0x000002719D116D40>}\n",
      "{<class '__main__.P1'>: <__main__.P1 object at 0x000002719D1146A0>}\n",
      "{<class '__main__.P2'>: <__main__.P2 object at 0x000002719D116D40>}\n",
      "True\n",
      "True\n"
     ]
    }
   ],
   "source": [
    "def singleton(class_):\n",
    "    instances = {}\n",
    "\n",
    "    def get_instances(*args, **kwargs):\n",
    "        if class_ not in instances:\n",
    "            instances[class_] = class_(*args, **kwargs)\n",
    "        print(instances)\n",
    "        return instances[class_]\n",
    "    return get_instances\n",
    "\n",
    "\n",
    "@singleton\n",
    "class P1:\n",
    "    def __init__(self) -> None:\n",
    "        print(\"P1\")\n",
    "\n",
    "@singleton\n",
    "class P2:\n",
    "    def __init__(self) -> None:\n",
    "        print(\"P2\")\n",
    "\n",
    "p10 = P1()\n",
    "p20 = P2()\n",
    "p11 = P1()\n",
    "p21 = P2()\n",
    "print(p10 == p11)\n",
    "print(p20 == p21)"
   ]
  },
  {
   "cell_type": "code",
   "execution_count": 4,
   "metadata": {},
   "outputs": [
    {
     "data": {
      "text/plain": [
       "(<__main__.Singleton at 0x2457835ea40>, <__main__.Singleton at 0x2457835ea40>)"
      ]
     },
     "execution_count": 4,
     "metadata": {},
     "output_type": "execute_result"
    }
   ],
   "source": [
    "s1, s2"
   ]
  },
  {
   "cell_type": "code",
   "execution_count": 6,
   "metadata": {},
   "outputs": [
    {
     "data": {
      "text/plain": [
       "9"
      ]
     },
     "execution_count": 6,
     "metadata": {},
     "output_type": "execute_result"
    }
   ],
   "source": [
    "l = list(range(10))\n",
    "l.pop()"
   ]
  },
  {
   "cell_type": "code",
   "execution_count": 18,
   "metadata": {},
   "outputs": [
    {
     "data": {
      "text/plain": [
       "True"
      ]
     },
     "execution_count": 18,
     "metadata": {},
     "output_type": "execute_result"
    }
   ],
   "source": [
    "class MyClass:\n",
    "    pass\n",
    "\n",
    "c = MyClass()\n",
    "isinstance(c, object)"
   ]
  },
  {
   "cell_type": "code",
   "execution_count": 19,
   "metadata": {},
   "outputs": [
    {
     "ename": "TypeError",
     "evalue": "unhashable type: 'list'",
     "output_type": "error",
     "traceback": [
      "\u001b[1;31m---------------------------------------------------------------------------\u001b[0m",
      "\u001b[1;31mTypeError\u001b[0m                                 Traceback (most recent call last)",
      "Cell \u001b[1;32mIn [19], line 1\u001b[0m\n\u001b[1;32m----> 1\u001b[0m \u001b[38;5;28mhash\u001b[39m(\u001b[38;5;28mlist\u001b[39m(\u001b[38;5;28mrange\u001b[39m(\u001b[38;5;241m10\u001b[39m)))\n",
      "\u001b[1;31mTypeError\u001b[0m: unhashable type: 'list'"
     ]
    }
   ],
   "source": [
    "hash(list(range(10)))"
   ]
  },
  {
   "cell_type": "code",
   "execution_count": 31,
   "metadata": {},
   "outputs": [
    {
     "name": "stdout",
     "output_type": "stream",
     "text": [
      "[10, 9, 8, 7]\n"
     ]
    }
   ],
   "source": [
    "numbers = [1, 2, 3, 4, 5, 6, 7, 8, 9, 10]\n",
    "print(numbers[:5:-1])"
   ]
  },
  {
   "cell_type": "code",
   "execution_count": 44,
   "metadata": {},
   "outputs": [
    {
     "name": "stdout",
     "output_type": "stream",
     "text": [
      "48 488 856\n"
     ]
    }
   ],
   "source": [
    "import array\n",
    "import sys\n",
    "\n",
    "r = range(100)\n",
    "a = array.array('i', r)\n",
    "l = list(r)\n",
    "\n",
    "print(sys.getsizeof(r), sys.getsizeof(a), sys.getsizeof(l))"
   ]
  },
  {
   "cell_type": "code",
   "execution_count": 45,
   "metadata": {},
   "outputs": [
    {
     "name": "stdout",
     "output_type": "stream",
     "text": [
      "Help on array in module array object:\n",
      "\n",
      "class array(builtins.object)\n",
      " |  array(typecode [, initializer]) -> array\n",
      " |  \n",
      " |  Return a new array whose items are restricted by typecode, and\n",
      " |  initialized from the optional initializer value, which must be a list,\n",
      " |  string or iterable over elements of the appropriate type.\n",
      " |  \n",
      " |  Arrays represent basic values and behave very much like lists, except\n",
      " |  the type of objects stored in them is constrained. The type is specified\n",
      " |  at object creation time by using a type code, which is a single character.\n",
      " |  The following type codes are defined:\n",
      " |  \n",
      " |      Type code   C Type             Minimum size in bytes\n",
      " |      'b'         signed integer     1\n",
      " |      'B'         unsigned integer   1\n",
      " |      'u'         Unicode character  2 (see note)\n",
      " |      'h'         signed integer     2\n",
      " |      'H'         unsigned integer   2\n",
      " |      'i'         signed integer     2\n",
      " |      'I'         unsigned integer   2\n",
      " |      'l'         signed integer     4\n",
      " |      'L'         unsigned integer   4\n",
      " |      'q'         signed integer     8 (see note)\n",
      " |      'Q'         unsigned integer   8 (see note)\n",
      " |      'f'         floating point     4\n",
      " |      'd'         floating point     8\n",
      " |  \n",
      " |  NOTE: The 'u' typecode corresponds to Python's unicode character. On\n",
      " |  narrow builds this is 2-bytes on wide builds this is 4-bytes.\n",
      " |  \n",
      " |  NOTE: The 'q' and 'Q' type codes are only available if the platform\n",
      " |  C compiler used to build Python supports 'long long', or, on Windows,\n",
      " |  '__int64'.\n",
      " |  \n",
      " |  Methods:\n",
      " |  \n",
      " |  append() -- append a new item to the end of the array\n",
      " |  buffer_info() -- return information giving the current memory info\n",
      " |  byteswap() -- byteswap all the items of the array\n",
      " |  count() -- return number of occurrences of an object\n",
      " |  extend() -- extend array by appending multiple elements from an iterable\n",
      " |  fromfile() -- read items from a file object\n",
      " |  fromlist() -- append items from the list\n",
      " |  frombytes() -- append items from the string\n",
      " |  index() -- return index of first occurrence of an object\n",
      " |  insert() -- insert a new item into the array at a provided position\n",
      " |  pop() -- remove and return item (default last)\n",
      " |  remove() -- remove first occurrence of an object\n",
      " |  reverse() -- reverse the order of the items in the array\n",
      " |  tofile() -- write all items to a file object\n",
      " |  tolist() -- return the array converted to an ordinary list\n",
      " |  tobytes() -- return the array converted to a string\n",
      " |  \n",
      " |  Attributes:\n",
      " |  \n",
      " |  typecode -- the typecode character used to create the array\n",
      " |  itemsize -- the length in bytes of one array item\n",
      " |  \n",
      " |  Methods defined here:\n",
      " |  \n",
      " |  __add__(self, value, /)\n",
      " |      Return self+value.\n",
      " |  \n",
      " |  __contains__(self, key, /)\n",
      " |      Return key in self.\n",
      " |  \n",
      " |  __copy__(self, /)\n",
      " |      Return a copy of the array.\n",
      " |  \n",
      " |  __deepcopy__(self, unused, /)\n",
      " |      Return a copy of the array.\n",
      " |  \n",
      " |  __delitem__(self, key, /)\n",
      " |      Delete self[key].\n",
      " |  \n",
      " |  __eq__(self, value, /)\n",
      " |      Return self==value.\n",
      " |  \n",
      " |  __ge__(self, value, /)\n",
      " |      Return self>=value.\n",
      " |  \n",
      " |  __getattribute__(self, name, /)\n",
      " |      Return getattr(self, name).\n",
      " |  \n",
      " |  __getitem__(self, key, /)\n",
      " |      Return self[key].\n",
      " |  \n",
      " |  __gt__(self, value, /)\n",
      " |      Return self>value.\n",
      " |  \n",
      " |  __iadd__(self, value, /)\n",
      " |      Implement self+=value.\n",
      " |  \n",
      " |  __imul__(self, value, /)\n",
      " |      Implement self*=value.\n",
      " |  \n",
      " |  __iter__(self, /)\n",
      " |      Implement iter(self).\n",
      " |  \n",
      " |  __le__(self, value, /)\n",
      " |      Return self<=value.\n",
      " |  \n",
      " |  __len__(self, /)\n",
      " |      Return len(self).\n",
      " |  \n",
      " |  __lt__(self, value, /)\n",
      " |      Return self<value.\n",
      " |  \n",
      " |  __mul__(self, value, /)\n",
      " |      Return self*value.\n",
      " |  \n",
      " |  __ne__(self, value, /)\n",
      " |      Return self!=value.\n",
      " |  \n",
      " |  __reduce_ex__(self, value, /)\n",
      " |      Return state information for pickling.\n",
      " |  \n",
      " |  __repr__(self, /)\n",
      " |      Return repr(self).\n",
      " |  \n",
      " |  __rmul__(self, value, /)\n",
      " |      Return value*self.\n",
      " |  \n",
      " |  __setitem__(self, key, value, /)\n",
      " |      Set self[key] to value.\n",
      " |  \n",
      " |  __sizeof__(self, /)\n",
      " |      Size of the array in memory, in bytes.\n",
      " |  \n",
      " |  append(self, v, /)\n",
      " |      Append new value v to the end of the array.\n",
      " |  \n",
      " |  buffer_info(self, /)\n",
      " |      Return a tuple (address, length) giving the current memory address and the length in items of the buffer used to hold array's contents.\n",
      " |      \n",
      " |      The length should be multiplied by the itemsize attribute to calculate\n",
      " |      the buffer length in bytes.\n",
      " |  \n",
      " |  byteswap(self, /)\n",
      " |      Byteswap all items of the array.\n",
      " |      \n",
      " |      If the items in the array are not 1, 2, 4, or 8 bytes in size, RuntimeError is\n",
      " |      raised.\n",
      " |  \n",
      " |  count(self, v, /)\n",
      " |      Return number of occurrences of v in the array.\n",
      " |  \n",
      " |  extend(self, bb, /)\n",
      " |      Append items to the end of the array.\n",
      " |  \n",
      " |  frombytes(self, buffer, /)\n",
      " |      Appends items from the string, interpreting it as an array of machine values, as if it had been read from a file using the fromfile() method.\n",
      " |  \n",
      " |  fromfile(self, f, n, /)\n",
      " |      Read n objects from the file object f and append them to the end of the array.\n",
      " |  \n",
      " |  fromlist(self, list, /)\n",
      " |      Append items to array from list.\n",
      " |  \n",
      " |  fromunicode(self, ustr, /)\n",
      " |      Extends this array with data from the unicode string ustr.\n",
      " |      \n",
      " |      The array must be a unicode type array; otherwise a ValueError is raised.\n",
      " |      Use array.frombytes(ustr.encode(...)) to append Unicode data to an array of\n",
      " |      some other type.\n",
      " |  \n",
      " |  index(self, v, start=0, stop=9223372036854775807, /)\n",
      " |      Return index of first occurrence of v in the array.\n",
      " |      \n",
      " |      Raise ValueError if the value is not present.\n",
      " |  \n",
      " |  insert(self, i, v, /)\n",
      " |      Insert a new item v into the array before position i.\n",
      " |  \n",
      " |  pop(self, i=-1, /)\n",
      " |      Return the i-th element and delete it from the array.\n",
      " |      \n",
      " |      i defaults to -1.\n",
      " |  \n",
      " |  remove(self, v, /)\n",
      " |      Remove the first occurrence of v in the array.\n",
      " |  \n",
      " |  reverse(self, /)\n",
      " |      Reverse the order of the items in the array.\n",
      " |  \n",
      " |  tobytes(self, /)\n",
      " |      Convert the array to an array of machine values and return the bytes representation.\n",
      " |  \n",
      " |  tofile(self, f, /)\n",
      " |      Write all items (as machine values) to the file object f.\n",
      " |  \n",
      " |  tolist(self, /)\n",
      " |      Convert array to an ordinary list with the same items.\n",
      " |  \n",
      " |  tounicode(self, /)\n",
      " |      Extends this array with data from the unicode string ustr.\n",
      " |      \n",
      " |      Convert the array to a unicode string.  The array must be a unicode type array;\n",
      " |      otherwise a ValueError is raised.  Use array.tobytes().decode() to obtain a\n",
      " |      unicode string from an array of some other type.\n",
      " |  \n",
      " |  ----------------------------------------------------------------------\n",
      " |  Static methods defined here:\n",
      " |  \n",
      " |  __new__(*args, **kwargs) from builtins.type\n",
      " |      Create and return a new object.  See help(type) for accurate signature.\n",
      " |  \n",
      " |  ----------------------------------------------------------------------\n",
      " |  Data descriptors defined here:\n",
      " |  \n",
      " |  itemsize\n",
      " |      the size, in bytes, of one array item\n",
      " |  \n",
      " |  typecode\n",
      " |      the typecode character used to create the array\n",
      " |  \n",
      " |  ----------------------------------------------------------------------\n",
      " |  Data and other attributes defined here:\n",
      " |  \n",
      " |  __hash__ = None\n",
      "\n"
     ]
    }
   ],
   "source": [
    "help(a)"
   ]
  },
  {
   "cell_type": "code",
   "execution_count": 48,
   "metadata": {},
   "outputs": [
    {
     "name": "stdout",
     "output_type": "stream",
     "text": [
      "Something is happening before the function is called.\n",
      "Whee!\n",
      "Something is happening after the function is called.\n"
     ]
    }
   ],
   "source": [
    "def my_decorator(func):\n",
    "    def wrapper():\n",
    "        print(\"Something is happening before the function is called.\")\n",
    "        func()\n",
    "        print(\"Something is happening after the function is called.\")\n",
    "    return wrapper\n",
    "\n",
    "@my_decorator\n",
    "def say_whee():\n",
    "    print(\"Whee!\")\n",
    "\n",
    "say_whee()"
   ]
  },
  {
   "cell_type": "code",
   "execution_count": 56,
   "metadata": {},
   "outputs": [
    {
     "data": {
      "text/plain": [
       "[]"
      ]
     },
     "execution_count": 56,
     "metadata": {},
     "output_type": "execute_result"
    }
   ],
   "source": [
    "add_it_up.__qualname__.split('.')[:-1]"
   ]
  },
  {
   "cell_type": "code",
   "execution_count": 58,
   "metadata": {},
   "outputs": [
    {
     "name": "stdout",
     "output_type": "stream",
     "text": [
      "  benef_id code_1 code_2 code_3 code_4 code_5                          out\n",
      "0   CD3FEA   2768  53240         25080   0389       2768|53240||25080|0389\n",
      "1   107980  49121          2768  78550  51884      49121||2768|78550|51884\n",
      "2   000978  V1006  78052   2720   2875  78552  V1006|78052|2720|2875|78552\n",
      "3   5CEC7E  78951   7102  53081                         78951|7102|53081||\n",
      "4   0009A2  V4582  71590  25000          4019      V4582|71590|25000||4019\n"
     ]
    }
   ],
   "source": [
    "import pandas as pd\n",
    " \n",
    "pd.set_option('display.max_columns', None)\n",
    "pd.set_option('display.max_rows', 100)\n",
    " \n",
    "data = pd.DataFrame({'benef_id': [\"CD3FEA\",\"107980\",\"000978\",\"5CEC7E\",\"0009A2\"],\n",
    "                    'code_1': [\"2768\",\"49121\",\"V1006\",\"78951\",\"V4582\"],\n",
    "                    'code_2': [\"53240\",\"\",\"78052\",\"7102\",\"71590\"],\n",
    "                    'code_3': [\"\",\"2768\",\"2720\",\"53081\",\"25000\"],\n",
    "                    'code_4': [\"25080\",\"78550\",\"2875\",\"\",\"\"],\n",
    "                    'code_5': [\"0389\",\"51884\",\"78552\",\"\",\"4019\"]})\n",
    " \n",
    "data['out'] = data[data.columns[1:]].apply(lambda x: '|'.join(x), axis = 1)\n",
    "# for field in data.columns[1:]:\n",
    "#     data['out'] += data[field] + \"|\"\n",
    "print(data)\n",
    "# 2768|53240|25080|0389\n",
    "# 49121|2768|78550|51884\n",
    "\n",
    "\n",
    "# age of the yougest child = x\n",
    "# x + x+3 +x +6+x +9 + x+12  = 50\n",
    "# 5x + 30 = 50\n",
    "# x = 4"
   ]
  },
  {
   "cell_type": "code",
   "execution_count": 72,
   "metadata": {},
   "outputs": [
    {
     "data": {
      "text/plain": [
       "0    53240\n",
       "1         \n",
       "2    78052\n",
       "3     7102\n",
       "4    71590\n",
       "Name: code_2, dtype: object"
      ]
     },
     "execution_count": 72,
     "metadata": {},
     "output_type": "execute_result"
    }
   ],
   "source": [
    "data['code_2'].str.strip()"
   ]
  },
  {
   "cell_type": "code",
   "execution_count": 84,
   "metadata": {},
   "outputs": [],
   "source": [
    "class ObjectCounter:\n",
    "    num_instances = 0\n",
    "    def __init__(self):\n",
    "        ObjectCounter.num_instances += 1"
   ]
  },
  {
   "cell_type": "code",
   "execution_count": 89,
   "metadata": {},
   "outputs": [
    {
     "data": {
      "text/plain": [
       "<__main__.ObjectCounter at 0x245083ae560>"
      ]
     },
     "execution_count": 89,
     "metadata": {},
     "output_type": "execute_result"
    }
   ],
   "source": [
    "ObjectCounter()"
   ]
  },
  {
   "cell_type": "code",
   "execution_count": 90,
   "metadata": {},
   "outputs": [
    {
     "data": {
      "text/plain": [
       "4"
      ]
     },
     "execution_count": 90,
     "metadata": {},
     "output_type": "execute_result"
    }
   ],
   "source": [
    "ObjectCounter.num_instances"
   ]
  },
  {
   "cell_type": "code",
   "execution_count": null,
   "metadata": {},
   "outputs": [],
   "source": [
    "def insertion_sort(lst):\n",
    "    l = len(lst)\n",
    "    for i in range(l):\n"
   ]
  },
  {
   "cell_type": "code",
   "execution_count": 6,
   "metadata": {},
   "outputs": [],
   "source": [
    "import time \n",
    "\n",
    "class Timer:\n",
    "    level = 0\n",
    "\n",
    "    def __init__(self, txt) -> None:\n",
    "        self._s_time = None\n",
    "        self._txt = txt\n",
    "\n",
    "    def __enter__(self):\n",
    "        Timer.level +=1\n",
    "        print(\" \"*(Timer.level-1) + \"start timing \\'\" + self._txt + \"\\'\")\n",
    "        self._s_time = time.perf_counter()\n",
    "    \n",
    "    def __exit__(self, *args, **kwargs):\n",
    "        print(\n",
    "            \" \"*(Timer.level-1) + \n",
    "            (\"'\" + self._txt + \"': %f\") % (time.perf_counter() - self._s_time) + '\\n'\n",
    "            )\n",
    "        Timer.level -=1"
   ]
  },
  {
   "cell_type": "code",
   "execution_count": 9,
   "metadata": {},
   "outputs": [
    {
     "name": "stdout",
     "output_type": "stream",
     "text": [
      "start timing 'test1'\n",
      " start timing 'test2'\n",
      " 'test2': 0.001610\n",
      "\n",
      "'test1': 0.187878\n",
      "\n"
     ]
    }
   ],
   "source": [
    "with Timer('test1') as t1:\n",
    "    a = [i for i in range(1000000)]\n",
    "    with Timer('test2') as t2:\n",
    "        b = [i for i in range(10000)]"
   ]
  },
  {
   "cell_type": "code",
   "execution_count": 24,
   "metadata": {},
   "outputs": [
    {
     "data": {
      "text/plain": [
       "False"
      ]
     },
     "execution_count": 24,
     "metadata": {},
     "output_type": "execute_result"
    }
   ],
   "source": [
    "a = 1.0\n",
    "b = 1.0\n",
    "id(a) == id(b)"
   ]
  },
  {
   "cell_type": "code",
   "execution_count": 17,
   "metadata": {},
   "outputs": [
    {
     "data": {
      "text/plain": [
       "2310802055376"
      ]
     },
     "execution_count": 17,
     "metadata": {},
     "output_type": "execute_result"
    }
   ],
   "source": [
    "c = 256\n",
    "id(c)"
   ]
  },
  {
   "cell_type": "code",
   "execution_count": 1,
   "metadata": {},
   "outputs": [],
   "source": [
    "from array import array"
   ]
  },
  {
   "cell_type": "code",
   "execution_count": 2,
   "metadata": {},
   "outputs": [
    {
     "name": "stdout",
     "output_type": "stream",
     "text": [
      "Help on class array in module array:\n",
      "\n",
      "class array(builtins.object)\n",
      " |  array(typecode [, initializer]) -> array\n",
      " |  \n",
      " |  Return a new array whose items are restricted by typecode, and\n",
      " |  initialized from the optional initializer value, which must be a list,\n",
      " |  string or iterable over elements of the appropriate type.\n",
      " |  \n",
      " |  Arrays represent basic values and behave very much like lists, except\n",
      " |  the type of objects stored in them is constrained. The type is specified\n",
      " |  at object creation time by using a type code, which is a single character.\n",
      " |  The following type codes are defined:\n",
      " |  \n",
      " |      Type code   C Type             Minimum size in bytes\n",
      " |      'b'         signed integer     1\n",
      " |      'B'         unsigned integer   1\n",
      " |      'u'         Unicode character  2 (see note)\n",
      " |      'h'         signed integer     2\n",
      " |      'H'         unsigned integer   2\n",
      " |      'i'         signed integer     2\n",
      " |      'I'         unsigned integer   2\n",
      " |      'l'         signed integer     4\n",
      " |      'L'         unsigned integer   4\n",
      " |      'q'         signed integer     8 (see note)\n",
      " |      'Q'         unsigned integer   8 (see note)\n",
      " |      'f'         floating point     4\n",
      " |      'd'         floating point     8\n",
      " |  \n",
      " |  NOTE: The 'u' typecode corresponds to Python's unicode character. On\n",
      " |  narrow builds this is 2-bytes on wide builds this is 4-bytes.\n",
      " |  \n",
      " |  NOTE: The 'q' and 'Q' type codes are only available if the platform\n",
      " |  C compiler used to build Python supports 'long long', or, on Windows,\n",
      " |  '__int64'.\n",
      " |  \n",
      " |  Methods:\n",
      " |  \n",
      " |  append() -- append a new item to the end of the array\n",
      " |  buffer_info() -- return information giving the current memory info\n",
      " |  byteswap() -- byteswap all the items of the array\n",
      " |  count() -- return number of occurrences of an object\n",
      " |  extend() -- extend array by appending multiple elements from an iterable\n",
      " |  fromfile() -- read items from a file object\n",
      " |  fromlist() -- append items from the list\n",
      " |  frombytes() -- append items from the string\n",
      " |  index() -- return index of first occurrence of an object\n",
      " |  insert() -- insert a new item into the array at a provided position\n",
      " |  pop() -- remove and return item (default last)\n",
      " |  remove() -- remove first occurrence of an object\n",
      " |  reverse() -- reverse the order of the items in the array\n",
      " |  tofile() -- write all items to a file object\n",
      " |  tolist() -- return the array converted to an ordinary list\n",
      " |  tobytes() -- return the array converted to a string\n",
      " |  \n",
      " |  Attributes:\n",
      " |  \n",
      " |  typecode -- the typecode character used to create the array\n",
      " |  itemsize -- the length in bytes of one array item\n",
      " |  \n",
      " |  Methods defined here:\n",
      " |  \n",
      " |  __add__(self, value, /)\n",
      " |      Return self+value.\n",
      " |  \n",
      " |  __contains__(self, key, /)\n",
      " |      Return key in self.\n",
      " |  \n",
      " |  __copy__(self, /)\n",
      " |      Return a copy of the array.\n",
      " |  \n",
      " |  __deepcopy__(self, unused, /)\n",
      " |      Return a copy of the array.\n",
      " |  \n",
      " |  __delitem__(self, key, /)\n",
      " |      Delete self[key].\n",
      " |  \n",
      " |  __eq__(self, value, /)\n",
      " |      Return self==value.\n",
      " |  \n",
      " |  __ge__(self, value, /)\n",
      " |      Return self>=value.\n",
      " |  \n",
      " |  __getattribute__(self, name, /)\n",
      " |      Return getattr(self, name).\n",
      " |  \n",
      " |  __getitem__(self, key, /)\n",
      " |      Return self[key].\n",
      " |  \n",
      " |  __gt__(self, value, /)\n",
      " |      Return self>value.\n",
      " |  \n",
      " |  __iadd__(self, value, /)\n",
      " |      Implement self+=value.\n",
      " |  \n",
      " |  __imul__(self, value, /)\n",
      " |      Implement self*=value.\n",
      " |  \n",
      " |  __iter__(self, /)\n",
      " |      Implement iter(self).\n",
      " |  \n",
      " |  __le__(self, value, /)\n",
      " |      Return self<=value.\n",
      " |  \n",
      " |  __len__(self, /)\n",
      " |      Return len(self).\n",
      " |  \n",
      " |  __lt__(self, value, /)\n",
      " |      Return self<value.\n",
      " |  \n",
      " |  __mul__(self, value, /)\n",
      " |      Return self*value.\n",
      " |  \n",
      " |  __ne__(self, value, /)\n",
      " |      Return self!=value.\n",
      " |  \n",
      " |  __reduce_ex__(self, value, /)\n",
      " |      Return state information for pickling.\n",
      " |  \n",
      " |  __repr__(self, /)\n",
      " |      Return repr(self).\n",
      " |  \n",
      " |  __rmul__(self, value, /)\n",
      " |      Return value*self.\n",
      " |  \n",
      " |  __setitem__(self, key, value, /)\n",
      " |      Set self[key] to value.\n",
      " |  \n",
      " |  __sizeof__(self, /)\n",
      " |      Size of the array in memory, in bytes.\n",
      " |  \n",
      " |  append(self, v, /)\n",
      " |      Append new value v to the end of the array.\n",
      " |  \n",
      " |  buffer_info(self, /)\n",
      " |      Return a tuple (address, length) giving the current memory address and the length in items of the buffer used to hold array's contents.\n",
      " |      \n",
      " |      The length should be multiplied by the itemsize attribute to calculate\n",
      " |      the buffer length in bytes.\n",
      " |  \n",
      " |  byteswap(self, /)\n",
      " |      Byteswap all items of the array.\n",
      " |      \n",
      " |      If the items in the array are not 1, 2, 4, or 8 bytes in size, RuntimeError is\n",
      " |      raised.\n",
      " |  \n",
      " |  count(self, v, /)\n",
      " |      Return number of occurrences of v in the array.\n",
      " |  \n",
      " |  extend(self, bb, /)\n",
      " |      Append items to the end of the array.\n",
      " |  \n",
      " |  frombytes(self, buffer, /)\n",
      " |      Appends items from the string, interpreting it as an array of machine values, as if it had been read from a file using the fromfile() method.\n",
      " |  \n",
      " |  fromfile(self, f, n, /)\n",
      " |      Read n objects from the file object f and append them to the end of the array.\n",
      " |  \n",
      " |  fromlist(self, list, /)\n",
      " |      Append items to array from list.\n",
      " |  \n",
      " |  fromunicode(self, ustr, /)\n",
      " |      Extends this array with data from the unicode string ustr.\n",
      " |      \n",
      " |      The array must be a unicode type array; otherwise a ValueError is raised.\n",
      " |      Use array.frombytes(ustr.encode(...)) to append Unicode data to an array of\n",
      " |      some other type.\n",
      " |  \n",
      " |  index(self, v, start=0, stop=9223372036854775807, /)\n",
      " |      Return index of first occurrence of v in the array.\n",
      " |      \n",
      " |      Raise ValueError if the value is not present.\n",
      " |  \n",
      " |  insert(self, i, v, /)\n",
      " |      Insert a new item v into the array before position i.\n",
      " |  \n",
      " |  pop(self, i=-1, /)\n",
      " |      Return the i-th element and delete it from the array.\n",
      " |      \n",
      " |      i defaults to -1.\n",
      " |  \n",
      " |  remove(self, v, /)\n",
      " |      Remove the first occurrence of v in the array.\n",
      " |  \n",
      " |  reverse(self, /)\n",
      " |      Reverse the order of the items in the array.\n",
      " |  \n",
      " |  tobytes(self, /)\n",
      " |      Convert the array to an array of machine values and return the bytes representation.\n",
      " |  \n",
      " |  tofile(self, f, /)\n",
      " |      Write all items (as machine values) to the file object f.\n",
      " |  \n",
      " |  tolist(self, /)\n",
      " |      Convert array to an ordinary list with the same items.\n",
      " |  \n",
      " |  tounicode(self, /)\n",
      " |      Extends this array with data from the unicode string ustr.\n",
      " |      \n",
      " |      Convert the array to a unicode string.  The array must be a unicode type array;\n",
      " |      otherwise a ValueError is raised.  Use array.tobytes().decode() to obtain a\n",
      " |      unicode string from an array of some other type.\n",
      " |  \n",
      " |  ----------------------------------------------------------------------\n",
      " |  Static methods defined here:\n",
      " |  \n",
      " |  __new__(*args, **kwargs) from builtins.type\n",
      " |      Create and return a new object.  See help(type) for accurate signature.\n",
      " |  \n",
      " |  ----------------------------------------------------------------------\n",
      " |  Data descriptors defined here:\n",
      " |  \n",
      " |  itemsize\n",
      " |      the size, in bytes, of one array item\n",
      " |  \n",
      " |  typecode\n",
      " |      the typecode character used to create the array\n",
      " |  \n",
      " |  ----------------------------------------------------------------------\n",
      " |  Data and other attributes defined here:\n",
      " |  \n",
      " |  __hash__ = None\n",
      "\n"
     ]
    }
   ],
   "source": [
    "help(array)"
   ]
  },
  {
   "cell_type": "code",
   "execution_count": 6,
   "metadata": {},
   "outputs": [],
   "source": [
    "a = array(\"f\")"
   ]
  },
  {
   "cell_type": "code",
   "execution_count": 13,
   "metadata": {},
   "outputs": [],
   "source": [
    "a.append(2.5)"
   ]
  },
  {
   "cell_type": "code",
   "execution_count": 14,
   "metadata": {},
   "outputs": [
    {
     "data": {
      "text/plain": [
       "array('f', [1.0, 2.0, 2.0, 2.5])"
      ]
     },
     "execution_count": 14,
     "metadata": {},
     "output_type": "execute_result"
    }
   ],
   "source": [
    "a"
   ]
  },
  {
   "cell_type": "code",
   "execution_count": 15,
   "metadata": {},
   "outputs": [],
   "source": [
    "import dis"
   ]
  },
  {
   "cell_type": "code",
   "execution_count": 16,
   "metadata": {},
   "outputs": [
    {
     "name": "stdout",
     "output_type": "stream",
     "text": [
      "  1           0 LOAD_CONST               0 ((23, 'a', 'b', 'c'))\n",
      "              2 RETURN_VALUE\n"
     ]
    }
   ],
   "source": [
    "dis.dis(compile(\"(23, 'a', 'b', 'c')\", \"\", \"eval\"))"
   ]
  },
  {
   "cell_type": "code",
   "execution_count": 17,
   "metadata": {},
   "outputs": [
    {
     "name": "stdout",
     "output_type": "stream",
     "text": [
      "  1           0 BUILD_LIST               0\n",
      "              2 LOAD_CONST               0 ((23, 'a', 'b', 'c'))\n",
      "              4 LIST_EXTEND              1\n",
      "              6 RETURN_VALUE\n"
     ]
    }
   ],
   "source": [
    "dis.dis(compile(\"[23, 'a', 'b', 'c']\", \"\", \"eval\"))"
   ]
  },
  {
   "cell_type": "code",
   "execution_count": 18,
   "metadata": {},
   "outputs": [],
   "source": [
    "from collections import namedtuple"
   ]
  },
  {
   "cell_type": "code",
   "execution_count": 23,
   "metadata": {},
   "outputs": [],
   "source": [
    "p = namedtuple(\"person\",[\"name\", \"age\", \"gender\"])"
   ]
  },
  {
   "cell_type": "code",
   "execution_count": 24,
   "metadata": {},
   "outputs": [
    {
     "data": {
      "text/plain": [
       "person(name='Arun', age=30, gender='male')"
      ]
     },
     "execution_count": 24,
     "metadata": {},
     "output_type": "execute_result"
    }
   ],
   "source": [
    "p(\n",
    "    name='Arun',\n",
    "    age=30,\n",
    "    gender='male'\n",
    "    )"
   ]
  },
  {
   "cell_type": "code",
   "execution_count": 25,
   "metadata": {},
   "outputs": [],
   "source": [
    "from collections import deque"
   ]
  },
  {
   "cell_type": "code",
   "execution_count": 26,
   "metadata": {},
   "outputs": [
    {
     "name": "stdout",
     "output_type": "stream",
     "text": [
      "Help on class deque in module collections:\n",
      "\n",
      "class deque(builtins.object)\n",
      " |  deque([iterable[, maxlen]]) --> deque object\n",
      " |  \n",
      " |  A list-like sequence optimized for data accesses near its endpoints.\n",
      " |  \n",
      " |  Methods defined here:\n",
      " |  \n",
      " |  __add__(self, value, /)\n",
      " |      Return self+value.\n",
      " |  \n",
      " |  __bool__(self, /)\n",
      " |      True if self else False\n",
      " |  \n",
      " |  __contains__(self, key, /)\n",
      " |      Return key in self.\n",
      " |  \n",
      " |  __copy__(...)\n",
      " |      Return a shallow copy of a deque.\n",
      " |  \n",
      " |  __delitem__(self, key, /)\n",
      " |      Delete self[key].\n",
      " |  \n",
      " |  __eq__(self, value, /)\n",
      " |      Return self==value.\n",
      " |  \n",
      " |  __ge__(self, value, /)\n",
      " |      Return self>=value.\n",
      " |  \n",
      " |  __getattribute__(self, name, /)\n",
      " |      Return getattr(self, name).\n",
      " |  \n",
      " |  __getitem__(self, key, /)\n",
      " |      Return self[key].\n",
      " |  \n",
      " |  __gt__(self, value, /)\n",
      " |      Return self>value.\n",
      " |  \n",
      " |  __iadd__(self, value, /)\n",
      " |      Implement self+=value.\n",
      " |  \n",
      " |  __imul__(self, value, /)\n",
      " |      Implement self*=value.\n",
      " |  \n",
      " |  __init__(self, /, *args, **kwargs)\n",
      " |      Initialize self.  See help(type(self)) for accurate signature.\n",
      " |  \n",
      " |  __iter__(self, /)\n",
      " |      Implement iter(self).\n",
      " |  \n",
      " |  __le__(self, value, /)\n",
      " |      Return self<=value.\n",
      " |  \n",
      " |  __len__(self, /)\n",
      " |      Return len(self).\n",
      " |  \n",
      " |  __lt__(self, value, /)\n",
      " |      Return self<value.\n",
      " |  \n",
      " |  __mul__(self, value, /)\n",
      " |      Return self*value.\n",
      " |  \n",
      " |  __ne__(self, value, /)\n",
      " |      Return self!=value.\n",
      " |  \n",
      " |  __reduce__(...)\n",
      " |      Return state information for pickling.\n",
      " |  \n",
      " |  __repr__(self, /)\n",
      " |      Return repr(self).\n",
      " |  \n",
      " |  __reversed__(...)\n",
      " |      D.__reversed__() -- return a reverse iterator over the deque\n",
      " |  \n",
      " |  __rmul__(self, value, /)\n",
      " |      Return value*self.\n",
      " |  \n",
      " |  __setitem__(self, key, value, /)\n",
      " |      Set self[key] to value.\n",
      " |  \n",
      " |  __sizeof__(...)\n",
      " |      D.__sizeof__() -- size of D in memory, in bytes\n",
      " |  \n",
      " |  append(...)\n",
      " |      Add an element to the right side of the deque.\n",
      " |  \n",
      " |  appendleft(...)\n",
      " |      Add an element to the left side of the deque.\n",
      " |  \n",
      " |  clear(...)\n",
      " |      Remove all elements from the deque.\n",
      " |  \n",
      " |  copy(...)\n",
      " |      Return a shallow copy of a deque.\n",
      " |  \n",
      " |  count(...)\n",
      " |      D.count(value) -> integer -- return number of occurrences of value\n",
      " |  \n",
      " |  extend(...)\n",
      " |      Extend the right side of the deque with elements from the iterable\n",
      " |  \n",
      " |  extendleft(...)\n",
      " |      Extend the left side of the deque with elements from the iterable\n",
      " |  \n",
      " |  index(...)\n",
      " |      D.index(value, [start, [stop]]) -> integer -- return first index of value.\n",
      " |      Raises ValueError if the value is not present.\n",
      " |  \n",
      " |  insert(...)\n",
      " |      D.insert(index, object) -- insert object before index\n",
      " |  \n",
      " |  pop(...)\n",
      " |      Remove and return the rightmost element.\n",
      " |  \n",
      " |  popleft(...)\n",
      " |      Remove and return the leftmost element.\n",
      " |  \n",
      " |  remove(...)\n",
      " |      D.remove(value) -- remove first occurrence of value.\n",
      " |  \n",
      " |  reverse(...)\n",
      " |      D.reverse() -- reverse *IN PLACE*\n",
      " |  \n",
      " |  rotate(...)\n",
      " |      Rotate the deque n steps to the right (default n=1).  If n is negative, rotates left.\n",
      " |  \n",
      " |  ----------------------------------------------------------------------\n",
      " |  Class methods defined here:\n",
      " |  \n",
      " |  __class_getitem__(...) from builtins.type\n",
      " |      See PEP 585\n",
      " |  \n",
      " |  ----------------------------------------------------------------------\n",
      " |  Static methods defined here:\n",
      " |  \n",
      " |  __new__(*args, **kwargs) from builtins.type\n",
      " |      Create and return a new object.  See help(type) for accurate signature.\n",
      " |  \n",
      " |  ----------------------------------------------------------------------\n",
      " |  Data descriptors defined here:\n",
      " |  \n",
      " |  maxlen\n",
      " |      maximum size of a deque or None if unbounded\n",
      " |  \n",
      " |  ----------------------------------------------------------------------\n",
      " |  Data and other attributes defined here:\n",
      " |  \n",
      " |  __hash__ = None\n",
      "\n"
     ]
    }
   ],
   "source": [
    "help(deque)"
   ]
  },
  {
   "cell_type": "code",
   "execution_count": 24,
   "metadata": {},
   "outputs": [
    {
     "name": "stdout",
     "output_type": "stream",
     "text": [
      "(1, 2, 3, 4, 5)\n"
     ]
    },
    {
     "data": {
      "text/plain": [
       "15"
      ]
     },
     "execution_count": 24,
     "metadata": {},
     "output_type": "execute_result"
    }
   ],
   "source": [
    "def sumval(*arg):\n",
    "    print(arg)\n",
    "    return sum(arg)\n",
    "\n",
    "sumval(1,2,3,4,5)"
   ]
  },
  {
   "cell_type": "code",
   "execution_count": 15,
   "metadata": {},
   "outputs": [
    {
     "data": {
      "text/plain": [
       "['R', 'e', 'a', 'l', 'P', 'y', 't', 'h', 'o', 'n']"
      ]
     },
     "execution_count": 15,
     "metadata": {},
     "output_type": "execute_result"
    }
   ],
   "source": [
    "[*\"RealPython\"]"
   ]
  },
  {
   "cell_type": "code",
   "execution_count": 18,
   "metadata": {},
   "outputs": [
    {
     "name": "stdout",
     "output_type": "stream",
     "text": [
      "['R', 'e', 'a', 'l', 'P', 'y', 't', 'h', 'o', 'n']\n"
     ]
    }
   ],
   "source": [
    "*a, = \"RealPython\"\n",
    "print(a)"
   ]
  },
  {
   "cell_type": "code",
   "execution_count": 27,
   "metadata": {},
   "outputs": [
    {
     "data": {
      "text/plain": [
       "[1, 2, 2, 3, 4, 5, 5]"
      ]
     },
     "execution_count": 27,
     "metadata": {},
     "output_type": "execute_result"
    }
   ],
   "source": [
    "l = [1,2,2,3,4,5,5]\n",
    "[x for x in l if x in l]"
   ]
  },
  {
   "cell_type": "code",
   "execution_count": 28,
   "metadata": {},
   "outputs": [
    {
     "data": {
      "text/plain": [
       "[0, 1, 1, 3, 3, 4, 4, 5, 6, 6, 7, 9]"
      ]
     },
     "execution_count": 28,
     "metadata": {},
     "output_type": "execute_result"
    }
   ],
   "source": [
    "def sort_sorted_list(left_items, right_items):\n",
    "    left_index, right_index = 0,0\n",
    "    merged_items = []\n",
    "\n",
    "    while len(merged_items) < len(left_items) + len(right_items):\n",
    "        left_item = left_items[left_index] if left_index < len(left_items) else float('inf')\n",
    "        right_item = right_items[right_index] if right_index < len(right_items) else float('inf')\n",
    "        if left_item < right_item:\n",
    "            merged_items.append(left_item)\n",
    "            left_index+=1\n",
    "        else:\n",
    "            merged_items.append(right_item)\n",
    "            right_index+=1\n",
    "    return merged_items\n",
    "\n",
    "\n",
    "def merge_sort(items):\n",
    "    l = len(items)\n",
    "    if l <= 1:\n",
    "        return items\n",
    "    midpoint = l // 2\n",
    "    left_items, right_items = items[:midpoint], items[midpoint:]\n",
    "    return sort_sorted_list(merge_sort(left_items), merge_sort(right_items))\n",
    "\n",
    "\n",
    "\n",
    "\n",
    "merge_sort(items= [6,4,5,7,3,9,1,1,3,6,0,4])"
   ]
  },
  {
   "cell_type": "code",
   "execution_count": 7,
   "metadata": {},
   "outputs": [
    {
     "data": {
      "text/plain": [
       "(0, [6, 4, 5, 7, 3, 9, 1, 1, 3, 6, 0, 4])"
      ]
     },
     "execution_count": 7,
     "metadata": {},
     "output_type": "execute_result"
    }
   ],
   "source": [
    "x = [6,6,4,5,7,3,9,1,1,3,6,0,4]\n",
    "x.index(6), x[1:]"
   ]
  },
  {
   "cell_type": "code",
   "execution_count": 2,
   "metadata": {},
   "outputs": [
    {
     "data": {
      "text/plain": [
       "str"
      ]
     },
     "execution_count": 2,
     "metadata": {},
     "output_type": "execute_result"
    }
   ],
   "source": [
    "x = \"xa\"\n",
    "type(x)"
   ]
  },
  {
   "cell_type": "code",
   "execution_count": 3,
   "metadata": {},
   "outputs": [
    {
     "data": {
      "text/plain": [
       "int"
      ]
     },
     "execution_count": 3,
     "metadata": {},
     "output_type": "execute_result"
    }
   ],
   "source": [
    "type(1)"
   ]
  },
  {
   "cell_type": "code",
   "execution_count": 1,
   "metadata": {},
   "outputs": [
    {
     "name": "stdout",
     "output_type": "stream",
     "text": [
      "(8, 1, 7)\n",
      "('NA', 'NA', 0)\n",
      "(9, 1, 8)\n",
      "('NA', 'NA', 0)\n",
      "(9, 1, 8)\n"
     ]
    }
   ],
   "source": [
    "def MaxDrawnDown(x):\n",
    "    \"\"\"\n",
    "    The function calculates the MaxDrawnDown for any stock\n",
    "\n",
    "    Parameters:\n",
    "            x (list): list of numeric values for any stock \n",
    "    Returns:\n",
    "            tuple: upperbound(max_f), lowerbound(min_f), MaxDrawnDown(max_d)\n",
    "    \"\"\"\n",
    "    max_t = x[0]    #Max temp variable\n",
    "    max_d = 0       \n",
    "    max_f = \"NA\"   \n",
    "    min_f = \"NA\"    \n",
    "    for i in x:\n",
    "        if i > max_t:\n",
    "            max_t = i\n",
    "        # compute the below only when the element is less than temp max and new difference is greater than previous\n",
    "        if i < max_t and  max_t - i >= max_d:\n",
    "            max_d, max_f, min_f = max_t - i, max_t, i\n",
    "    return max_f,min_f,max_d\n",
    "\n",
    "\n",
    "# scenario 1 - Provided by Tony\n",
    "x = [1,2,4,3,0.5,2,3,4,8,4,5,4,1,3,4.5,4,5,6,8,9,7]\n",
    "print(MaxDrawnDown(x))\n",
    "\n",
    "\n",
    "# scenario 2 - value only increases\n",
    "x = list(range(1,10))\n",
    "print(MaxDrawnDown(x))\n",
    "\n",
    "\n",
    "# scenario 3 - value only decreases\n",
    "x = list(range(9,0,-1))\n",
    "print(MaxDrawnDown(x))\n",
    "\n",
    "\n",
    "# scenario 4 - constant value\n",
    "x = [2 for _ in range(10)]\n",
    "print(MaxDrawnDown(x))\n",
    "\n",
    "\n",
    "# scenario 5 - variation of scenario 1 where A comes before C and when A > C\n",
    "x = [1,2,9,5,8,4,7,1,9,7]\n",
    "print(MaxDrawnDown(x))\n",
    "\n",
    "\n",
    "\n"
   ]
  },
  {
   "cell_type": "code",
   "execution_count": null,
   "metadata": {},
   "outputs": [],
   "source": [
    "def MaxDrawnDown(x):\n",
    "    \"\"\"\n",
    "    The function calculates the MaxDrawnDown for any stock\n",
    "\n",
    "    Parameters:\n",
    "            x (list): list of numeric values for any stock \n",
    "    Returns:\n",
    "            tuple: upperbound(max_f), lowerbound(min_f), MaxDrawnDown(max_d)\n",
    "    \"\"\"\n",
    "    max_t = x[0]    #Max temp variable\n",
    "    max_d = 0       \n",
    "    max_f = \"NA\"   \n",
    "    min_f = \"NA\"    \n",
    "    p = x[0]\n",
    "    c = x[1]\n",
    "    for i in range(2, len(x)):\n",
    "        n = x[i]\n",
    "        \n",
    "        if i > max_t:\n",
    "            max_t = i\n",
    "        # compute the below only when the element is less than temp max and new difference is greater than previous\n",
    "        if i < max_t and  max_t - i >= max_d:\n",
    "            max_d, max_f, min_f = max_t - i, max_t, i\n",
    "    return max_f,min_f,max_d"
   ]
  },
  {
   "cell_type": "code",
   "execution_count": 66,
   "metadata": {},
   "outputs": [],
   "source": [
    "from random import randint\n",
    "\n",
    "class Generator:\n",
    "  def generate(self, count):\n",
    "    return [randint(1,9) for x in range(count)]\n",
    "\n",
    "class Splitter:\n",
    "  def split(self, array):\n",
    "    result = []\n",
    "\n",
    "    row_count = len(array)\n",
    "    col_count = len(array[0])\n",
    "\n",
    "    for r in range(row_count):\n",
    "      the_row = []\n",
    "      for c in range(col_count):\n",
    "        the_row.append(array[r][c])\n",
    "      result.append(the_row)\n",
    "\n",
    "    for c in range(col_count):\n",
    "      the_col = []\n",
    "      for r in range(row_count):\n",
    "        the_col.append(array[r][c])\n",
    "      result.append(the_col)\n",
    "\n",
    "    diag1 = []\n",
    "    diag2 = []\n",
    "\n",
    "    for c in range(col_count):\n",
    "      for r in range(row_count):\n",
    "        if c == r:\n",
    "          diag1.append(array[r][c])\n",
    "        r2 = row_count - r - 1\n",
    "        if c == r2:\n",
    "          diag2.append(array[r][c])\n",
    "\n",
    "    result.append(diag1)\n",
    "    result.append(diag2)\n",
    "\n",
    "    return result\n",
    "\n",
    "class Verifier:\n",
    "  def verify(self, arrays):\n",
    "    first = sum(arrays[0])\n",
    "\n",
    "    for i in range(1, len(arrays)):\n",
    "      if sum(arrays[i]) != first:\n",
    "        return False\n",
    "\n",
    "    return True\n",
    "\n",
    "# class MagicSquareGenerator:\n",
    "#   def generate(self, size):\n",
    "    # todo - return a magic square of the given size\n",
    "g = Generator()\n",
    "s = Splitter()\n",
    "v = Verifier()\n",
    "is_magic_square = False\n",
    "size=3\n",
    "while not is_magic_square:\n",
    "  square = [g.generate(size) for i in range(size)]\n",
    "  is_magic_square = v.verify(s.split(square))\n",
    "  # if is_magic_square:\n",
    "  #   break\n",
    "# if v:\n",
    "#     return x\n",
    "    "
   ]
  },
  {
   "cell_type": "code",
   "execution_count": 67,
   "metadata": {},
   "outputs": [
    {
     "data": {
      "text/plain": [
       "[[4, 6, 2], [2, 4, 6], [6, 2, 4]]"
      ]
     },
     "execution_count": 67,
     "metadata": {},
     "output_type": "execute_result"
    }
   ],
   "source": [
    "square"
   ]
  },
  {
   "cell_type": "code",
   "execution_count": 64,
   "metadata": {},
   "outputs": [
    {
     "data": {
      "text/plain": [
       "[[8, 3, 4], [1, 5, 9], [6, 7, 2]]"
      ]
     },
     "execution_count": 64,
     "metadata": {},
     "output_type": "execute_result"
    }
   ],
   "source": [
    "def generate(size):\n",
    "    g = Generator()\n",
    "    s = Splitter()\n",
    "    v = Verifier()\n",
    "\n",
    "    while True:\n",
    "      square = []\n",
    "      for x in range(size):\n",
    "        square.append(g.generate(size))\n",
    "\n",
    "      if v.verify(s.split(square)):\n",
    "        break\n",
    "\n",
    "    return square\n",
    "\n",
    "generate(size)"
   ]
  }
 ],
 "metadata": {
  "kernelspec": {
   "display_name": "py_31005_dev",
   "language": "python",
   "name": "python3"
  },
  "language_info": {
   "codemirror_mode": {
    "name": "ipython",
    "version": 3
   },
   "file_extension": ".py",
   "mimetype": "text/x-python",
   "name": "python",
   "nbconvert_exporter": "python",
   "pygments_lexer": "ipython3",
   "version": "3.10.5"
  }
 },
 "nbformat": 4,
 "nbformat_minor": 2
}
