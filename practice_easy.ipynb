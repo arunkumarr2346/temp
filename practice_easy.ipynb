{
 "metadata": {
  "language_info": {
   "codemirror_mode": {
    "name": "ipython",
    "version": 3
   },
   "file_extension": ".py",
   "mimetype": "text/x-python",
   "name": "python",
   "nbconvert_exporter": "python",
   "pygments_lexer": "ipython3",
   "version": "3.8.5-final"
  },
  "orig_nbformat": 2,
  "kernelspec": {
   "name": "python3",
   "display_name": "Python 3.8.5 64-bit",
   "metadata": {
    "interpreter": {
     "hash": "31f2aee4e71d21fbe5cf8b01ff0e069b9275f58929596ceb00d14d90e3e16cd6"
    }
   }
  }
 },
 "nbformat": 4,
 "nbformat_minor": 2,
 "cells": [
  {
   "cell_type": "code",
   "execution_count": 47,
   "metadata": {},
   "outputs": [
    {
     "output_type": "stream",
     "name": "stdout",
     "text": [
      "True\n"
     ]
    }
   ],
   "source": [
    "# 1. Check the given String is Anagram or Not.\n",
    "# Ex anagram Strings are given below:\n",
    "# god - dog\n",
    "# cat - act\n",
    "# angle - glean\n",
    "# arc - car\n",
    "# tar - rat\n",
    "\n",
    "# Solution1\n",
    "from itertools import permutations \n",
    "s = \"tar\"\n",
    "d1 = [\"rat\"]\n",
    "x = [''.join(p) for p in permutations(s)] \n",
    "for i in x:\n",
    "    if i in d1:\n",
    "        print(True)\n",
    "        break\n",
    "else:\n",
    "    print(False)\n",
    "\n",
    "# Solution2\n",
    "# d2 = {\"art\":(\"art\",\"rat\")}\n",
    "# a = \"\".join(sorted(list(s.lower())))\n",
    "# if a in d2.keys():\n",
    "#     print(True)\n",
    "# else:\n",
    "#     print(False)\n",
    "\n"
   ]
  },
  {
   "cell_type": "code",
   "execution_count": 59,
   "metadata": {},
   "outputs": [
    {
     "output_type": "stream",
     "name": "stdout",
     "text": [
      "True\n"
     ]
    }
   ],
   "source": [
    "# 2. Check the given String is Panagram or Not.\n",
    "# ex: The quick brown fox jumps over the lazy dog.\n",
    "import re\n",
    "txt = \"The quick brown fox jumps over the lazy dog.\"\n",
    "txt = txt.lower()\n",
    "x = len(set(re.findall(\"[a-z]\",txt))) \n",
    "if x == 26:\n",
    "    print(True)\n",
    "else:\n",
    "    print(False)"
   ]
  },
  {
   "cell_type": "code",
   "execution_count": 61,
   "metadata": {},
   "outputs": [
    {
     "output_type": "stream",
     "name": "stdout",
     "text": [
      " greet the day user good\n"
     ]
    }
   ],
   "source": [
    "# 3. Remove the duplicate words from the given Sentence.\n",
    "# Ex:\n",
    "# a) Input: Good day day bye bye\n",
    "# output: Good day bye\n",
    "# b) input: greet the day user greet good day\n",
    "# output:greet the day user good\n",
    "\n",
    "s = \"greet the day user greet good day\"\n",
    "nws = \"\"\n",
    "\n",
    "for w in s.split():\n",
    "    if w not in nws:\n",
    "        nws = nws + \" \" + w\n",
    "\n",
    "print(nws)"
   ]
  },
  {
   "cell_type": "code",
   "execution_count": 70,
   "metadata": {},
   "outputs": [
    {
     "output_type": "stream",
     "name": "stdout",
     "text": [
      "A 1\nP 16\nP 16\nL 12\nE 5\n50\n"
     ]
    }
   ],
   "source": [
    "# 4. Find the weight of given String.\n",
    "# (A-Z/a-z) we have 26 alphabetic, consider the position of a-z alphabets as 1-26. Based on that find the weight of the given String.\n",
    "# Ex:\n",
    "# Given String: Apple\n",
    "# Output: 1+16+16+12+5 = 50\n",
    "\n",
    "s = \"Apple\"\n",
    "w = 0\n",
    "\n",
    "for e in s.upper():\n",
    "    i = ord(e) - 64\n",
    "    w+=i\n",
    "    # print(e,i)\n",
    "print(w)"
   ]
  },
  {
   "cell_type": "code",
   "execution_count": 71,
   "metadata": {},
   "outputs": [
    {
     "output_type": "stream",
     "name": "stdout",
     "text": [
      "search\nsample\n"
     ]
    }
   ],
   "source": [
    "# 5. Write a program to print all String which starts as \"S\" from the given String array.\n",
    "# Ex:\n",
    "# Input: {\"apple\",\"sample\", \"search\",\"cat\"}\n",
    "# output: { \"sample\", \"search\"}\n",
    "\n",
    "s = {\"apple\",\"sample\", \"search\",\"cat\"}\n",
    "for w in s:\n",
    "    if w[0] == \"s\":\n",
    "        print(w)"
   ]
  },
  {
   "cell_type": "code",
   "execution_count": 77,
   "metadata": {},
   "outputs": [
    {
     "output_type": "stream",
     "name": "stdout",
     "text": [
      "repoleveD avaJ ma I\n"
     ]
    }
   ],
   "source": [
    "# 6. Find Reverse String With Preserving Order.\n",
    "# Ex:\n",
    "#   Input = abcd, output = dcba\n",
    "#   Input = I am Java Developer, Output  = repoleveD avaJ ma I\n",
    "\n",
    "s = \"I am Java Developer\"\n",
    "print(\"\".join(list(reversed(s))))"
   ]
  },
  {
   "cell_type": "code",
   "execution_count": 129,
   "metadata": {},
   "outputs": [
    {
     "output_type": "execute_result",
     "data": {
      "text/plain": [
       "[1, 2, 3, 5, 8, 13, 21, 34, 55, 89]"
      ]
     },
     "metadata": {},
     "execution_count": 129
    }
   ],
   "source": [
    "# 7. Write a program to find fibonacci series\n",
    "\n",
    "def fibb(n):\n",
    "    out = []\n",
    "    x1 , x2 = 0 , 1\n",
    "    for _ in range(n):\n",
    "        x1 , x2 = x2 , x1 + x2\n",
    "        out.append(x2)\n",
    "    return out\n",
    "\n",
    "fibb(10)"
   ]
  },
  {
   "cell_type": "code",
   "execution_count": 134,
   "metadata": {},
   "outputs": [
    {
     "output_type": "stream",
     "name": "stdout",
     "text": [
      "4 29 27\n"
     ]
    },
    {
     "output_type": "execute_result",
     "data": {
      "text/plain": [
       "(27, 31, [31, 27, 43, 39, 35])"
      ]
     },
     "metadata": {},
     "execution_count": 134
    }
   ],
   "source": [
    "# 8. Write a program to find the second smallest number from a array of numbers recursively\n",
    "\n",
    "import random\n",
    "r0 = random.randrange(2,6)\n",
    "r1 = random.randrange(50)\n",
    "r2 = random.randrange(r1+r0)\n",
    "a = list(range(r2,r1+(r0**2),r0))\n",
    "random.shuffle(a)\n",
    "print(r0,r1,r2)\n",
    "\n",
    "# Solution 1\n",
    "# s1 = a[0]\n",
    "# s2 = s1\n",
    "# for e in a:\n",
    "#     if e < s2:\n",
    "#         if e < s1:\n",
    "#             if s1 < s2:\n",
    "#                 s2 = s1\n",
    "#             s1 = e\n",
    "#         else:\n",
    "#             s2 = e\n",
    "#     # print(e,s1,s2)\n",
    " \n",
    "# Solution 2 Pending\n",
    "\n",
    "def small2(x):\n",
    "\n",
    "s1,s2,a\n"
   ]
  },
  {
   "cell_type": "code",
   "execution_count": 294,
   "metadata": {},
   "outputs": [
    {
     "output_type": "stream",
     "name": "stdout",
     "text": [
      "CPU times: user 4.1 s, sys: 0 ns, total: 4.1 s\nWall time: 4.09 s\n"
     ]
    },
    {
     "output_type": "execute_result",
     "data": {
      "text/plain": [
       "14930352"
      ]
     },
     "metadata": {},
     "execution_count": 294
    }
   ],
   "source": [
    "%%time\n",
    "def fibb1(n):\n",
    "    if n <= 1:\n",
    "        # print(f\"n<=1: {n}\")\n",
    "        return 1\n",
    "    # print(f\"normal: n = {n} fib(n-1) + fib(n-2) = {fibb1(n-1) + fibb1(n-2)}\")\n",
    "    return fibb1(n-1) + fibb1(n-2)\n",
    "fibb1(35)"
   ]
  },
  {
   "cell_type": "code",
   "execution_count": 303,
   "metadata": {},
   "outputs": [
    {
     "output_type": "stream",
     "name": "stdout",
     "text": [
      "CPU times: user 68 µs, sys: 9 µs, total: 77 µs\nWall time: 83.9 µs\n"
     ]
    },
    {
     "output_type": "execute_result",
     "data": {
      "text/plain": [
       "14930352"
      ]
     },
     "metadata": {},
     "execution_count": 303
    }
   ],
   "source": [
    "%%time\n",
    "def fibb2(n,x=0,y=1):\n",
    "    if n == 0:\n",
    "        return y\n",
    "    x , y = y , x + y\n",
    "    # print(f\"normal: n = {n} fibb2({x},{y},{n-1}) = {y}\")\n",
    "    return fibb2(n-1,x,y)\n",
    "fibb2(35)"
   ]
  },
  {
   "cell_type": "code",
   "execution_count": null,
   "metadata": {},
   "outputs": [],
   "source": [
    "# 9. Write a program to find first non-repeating character from a input string\n",
    "\n",
    "s = \"aabccbd\"\n",
    "for l in s:\n",
    "    "
   ]
  },
  {
   "cell_type": "code",
   "execution_count": 310,
   "metadata": {},
   "outputs": [
    {
     "output_type": "stream",
     "name": "stdout",
     "text": [
      "True\n"
     ]
    }
   ],
   "source": [
    "# 10. How to find is power of 10\n",
    "# Ex:\n",
    "# Input : 100\n",
    "# ouput: True (because 10 power 2 is 100)\n",
    "# Input: 80\n",
    "# Ouput: false (not power of 10)\n",
    "\n",
    "x = input()\n",
    "\n",
    "if int(x) == 10 ** (len(x)-1):\n",
    "    print(True)\n",
    "else:\n",
    "    print(False) "
   ]
  },
  {
   "cell_type": "code",
   "execution_count": 318,
   "metadata": {},
   "outputs": [
    {
     "output_type": "stream",
     "name": "stdout",
     "text": [
      "True\n"
     ]
    }
   ],
   "source": [
    "# 11. Check the given number is power of 2.\n",
    "# Ex:\n",
    "# Input : 100\n",
    "# ouput: False (not power of 2)\n",
    "# Input: 4\n",
    "# Ouput: True (2 power 2 is 4)\n",
    "\n",
    "b = 2\n",
    "x = int(input(f\"Number to be checked for power of {b} : \"))\n",
    "import math\n",
    "p = math.log(x,b)\n",
    "\n",
    "if x == b ** p:\n",
    "    print(True)\n",
    "else:\n",
    "    print(False) "
   ]
  },
  {
   "cell_type": "code",
   "execution_count": 326,
   "metadata": {
    "tags": []
   },
   "outputs": [
    {
     "output_type": "stream",
     "name": "stdout",
     "text": [
      "0 20\n0 4\n4 0\nFalse\n"
     ]
    }
   ],
   "source": [
    "# 12. Check the given number is power of 5.\n",
    "# Ex:\n",
    "# Input : 25\n",
    "# ouput: True (because 5 power 2 is 25)\n",
    "# Input: 80\n",
    "# Ouput: false (not power of 5)\n",
    "\n",
    "# We can use the code as above but i am implementing something different \n",
    "\n",
    "b = 5\n",
    "x = int(input(f\"Number to be checked for power of {b} : \"))\n",
    "r = 0\n",
    "\n",
    "while r == 0:\n",
    "    r=x%b\n",
    "    x//=b\n",
    "    print(r,x)\n",
    "    if x == 1:\n",
    "        print(True)\n",
    "        break\n",
    "else:\n",
    "    print(False)\n",
    "    "
   ]
  },
  {
   "cell_type": "code",
   "execution_count": null,
   "metadata": {},
   "outputs": [],
   "source": [
    "# 13. How to find the first non repeated character in the String? "
   ]
  },
  {
   "cell_type": "code",
   "execution_count": 332,
   "metadata": {},
   "outputs": [
    {
     "output_type": "execute_result",
     "data": {
      "text/plain": [
       "[('a', 6),\n",
       " ('c', 6),\n",
       " ('e', 4),\n",
       " ('f', 1),\n",
       " ('g', 1),\n",
       " ('h', 2),\n",
       " ('i', 3),\n",
       " ('j', 1),\n",
       " ('n', 5),\n",
       " ('o', 5),\n",
       " ('r', 5),\n",
       " ('s', 1),\n",
       " ('t', 4),\n",
       " ('u', 2),\n",
       " ('v', 1),\n",
       " ('w', 1)]"
      ]
     },
     "metadata": {},
     "execution_count": 332
    }
   ],
   "source": [
    "# 14. How to Count occurrences of each character in a String in java\n",
    "s = \"How to Count occurrences of each character in a String in java.\"\n",
    "counted = set([\" \",\".\"])\n",
    "occur = []\n",
    "for e in s.lower():\n",
    "    if e not in counted:\n",
    "        counted.add(e)\n",
    "        occur.append((e,s.count(e)))\n",
    "occur.sort()\n",
    "occur\n"
   ]
  },
  {
   "cell_type": "code",
   "execution_count": null,
   "metadata": {},
   "outputs": [],
   "source": [
    "# 15. How to calculate total number of characters in the String?"
   ]
  },
  {
   "cell_type": "code",
   "execution_count": null,
   "metadata": {},
   "outputs": [],
   "source": [
    "# 16. Find the maximum value in Array using Collection?"
   ]
  },
  {
   "cell_type": "code",
   "execution_count": 337,
   "metadata": {},
   "outputs": [
    {
     "output_type": "execute_result",
     "data": {
      "text/plain": [
       "(31, 4)"
      ]
     },
     "metadata": {},
     "execution_count": 337
    }
   ],
   "source": [
    "# 17. Find out the numerology number for the given name as mentioned below:\n",
    "# Each alphabet represented with one number as given :\n",
    "# A,I,J,Q,Y - 1\n",
    "# B,K,R-2\n",
    "# C,G,L,S - 3\n",
    "# D,M,T - 4\n",
    "# E,H,N,X -5\n",
    "# U,V,W-6\n",
    "# O,Z-7\n",
    "# F-P-8\n",
    "# Ex. If input String is \"S. KANAPATHY\" then output should be 4.\n",
    "# S. KANAPATHY ==> 3+2+1+5+1+8+1+4+5+1=31 (3+1) = 4\n",
    "s = \"S. KANAPATHY\"\n",
    "cypher_dict = {\n",
    "    \"A\":1,\n",
    "    \"B\":2,\n",
    "    \"C\":3,\n",
    "    \"D\":4,\n",
    "    \"E\":5,\n",
    "    \"F\":8,\n",
    "    \"G\":3,\n",
    "    \"H\":5,\n",
    "    \"I\":1,\n",
    "    \"J\":1,\n",
    "    \"K\":2,\n",
    "    \"L\":3,\n",
    "    \"M\":4,\n",
    "    \"N\":5,\n",
    "    \"O\":7,\n",
    "    \"P\":8,\n",
    "    \"Q\":1,\n",
    "    \"R\":2,\n",
    "    \"S\":3,\n",
    "    \"T\":4,\n",
    "    \"U\":6,\n",
    "    \"V\":6,\n",
    "    \"W\":6,\n",
    "    \"X\":5,\n",
    "    \"Y\":1,\n",
    "    \"Z\":7,\n",
    "    }\n",
    "\n",
    "score = 0\n",
    "numerology = 0\n",
    "for e in s:\n",
    "    # print(e,cypher_dict.get(e))\n",
    "    if cypher_dict.get(e):\n",
    "        score+=cypher_dict.get(e)\n",
    "\n",
    "for e in str(score) :\n",
    "    numerology+=int(e)\n",
    "\n",
    "score,numerology"
   ]
  },
  {
   "cell_type": "code",
   "execution_count": 343,
   "metadata": {},
   "outputs": [
    {
     "output_type": "stream",
     "name": "stdout",
     "text": [
      "R (1, 0) (1, 0)\nR (1, 0) (2, 0)\nU (0, 1) (2, 1)\nL (-1, 0) (1, 1)\nD (0, -1) (1, 0)\nD (0, -1) (1, -1)\nD (0, -1) (1, -2)\nL (-1, 0) (0, -2)\nR (1, 0) (1, -2)\n"
     ]
    },
    {
     "output_type": "execute_result",
     "data": {
      "text/plain": [
       "(1, -2)"
      ]
     },
     "metadata": {},
     "execution_count": 343
    }
   ],
   "source": [
    "# 18. Problem Statement:\n",
    "\n",
    "# A robot moves on a grid. The grid has a X axis and Y axis. The robot can take the following commands:\n",
    "# L - The robot moves  one position left on X axis.\n",
    "# R - The robot moves  one position right on X axis.\n",
    "# U - The robot moves  one position up on Y axis.\n",
    "# D - The robot moves  one position down on Y axis.\n",
    "\n",
    "# Considering the robot is at position 0,0 When given a String like RRULDDDLR, what is the final location of the robot on the grid?\n",
    "\n",
    "commands={\n",
    "    \"L\":(-1,+0),\n",
    "    \"R\":(+1,+0),\n",
    "    \"U\":(+0,+1),\n",
    "    \"D\":(+0,-1),\n",
    "}\n",
    "\n",
    "path = \"RRULDDDLR\"\n",
    "initial_position = (0,0)\n",
    "final_position = initial_position\n",
    "for direction in path:\n",
    "    coordinates = commands.get(direction)\n",
    "    final_position = (final_position[0]+coordinates[0],final_position[1]+coordinates[1])\n",
    "    # print(direction,coordinates,final_position)\n",
    "final_position\n"
   ]
  },
  {
   "cell_type": "code",
   "execution_count": 347,
   "metadata": {},
   "outputs": [
    {
     "output_type": "execute_result",
     "data": {
      "text/plain": [
       "(-13, -10, {-13, -10, -1, 0, 20, 42, 100})"
      ]
     },
     "metadata": {},
     "execution_count": 347
    }
   ],
   "source": [
    "# 19. Find out the second smallest element in a given array with appropriate logic that takes minimal time and space complexity.  \n",
    "# Array = {-1,-10,20,42,-13,0,100}\n",
    " \n",
    "# Output : -10\n",
    "array = {-1,-10,20,42,-13,0,100}\n",
    "\n",
    "s1 = a[0]\n",
    "s2 = s1\n",
    "for e in array:\n",
    "    if e < s2:\n",
    "        if e < s1:\n",
    "            if s1 < s2:\n",
    "                s2 = s1\n",
    "            s1 = e\n",
    "        else:\n",
    "            s2 = e\n",
    "    # print(e,s1,s2)\n",
    "s1,s2,array"
   ]
  },
  {
   "cell_type": "code",
   "execution_count": null,
   "metadata": {},
   "outputs": [],
   "source": []
  }
 ]
}