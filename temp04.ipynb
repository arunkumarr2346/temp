{
 "cells": [
  {
   "cell_type": "code",
   "execution_count": null,
   "metadata": {},
   "outputs": [],
   "source": [
    "# Write a function that, given an array of integers, determines if it is possible to split the array \n",
    "# into two groups where the sum of the numbers in each group is the same.\n",
    "# For example:\n",
    "# Input: [1, 5, 11, 5]\n",
    "# Output: True (The array can be split into [1, 5, 5] and [11])\n",
    "# Input: [1, 2, 3, 4, 5, 6]\n",
    "# Output: True (The array can be split into [1, 4, 5] and [2, 3, 6])\n",
    "# Input: [1, 2, 4]\n",
    "# Output: False (The array cannot be split into two groups with equal sum)"
   ]
  },
  {
   "cell_type": "code",
   "execution_count": 16,
   "metadata": {},
   "outputs": [
    {
     "name": "stdout",
     "output_type": "stream",
     "text": [
      "found 6461 (1, 1, 1, 1, 1, 1, 1)\n"
     ]
    },
    {
     "data": {
      "text/plain": [
       "True"
      ]
     },
     "execution_count": 16,
     "metadata": {},
     "output_type": "execute_result"
    }
   ],
   "source": [
    "from itertools import combinations\n",
    "\n",
    "\n",
    "def split_into_two_list(items):\n",
    "    total_sum = sum(items)\n",
    "    half_sum = total_sum // 2\n",
    "    n = len(items)\n",
    "    if total_sum % 2 != 0:\n",
    "        return False\n",
    "    if half_sum in items:\n",
    "        first_half = [half_sum]\n",
    "        second_half = items.copy()\n",
    "        second_half.remove(half_sum)\n",
    "        print(first_half, second_half)\n",
    "        return True\n",
    "    elif any(map(lambda x: x > half_sum, items)):\n",
    "        # print(\"any(map(lambda x: x > half_sum, items))\")\n",
    "        return False\n",
    "    else:\n",
    "        cnt = 0\n",
    "        for i in range(2, n//2+1):\n",
    "            for j in combinations(items, i):\n",
    "                if sum(j) == half_sum:\n",
    "                    print(\"found\", cnt, j)\n",
    "                    return True \n",
    "                cnt+=1\n",
    "                # print(j)\n",
    "\n",
    "# split_into_two_list(items=[1, 5, 11, 5]) # True\n",
    "# split_into_two_list(items=[2,4,8])\n",
    "# split_into_two_list(items=[1, 2, 3, 4, 5, 5])\n",
    "# split_into_two_list(items=[1,1,1,1,1,1,1,1,1,1,1,1,1,1,2,14])\n",
    "split_into_two_list(items=[1,1,1,1,1,1,1,1,1,1,1,1,1,1])"
   ]
  },
  {
   "cell_type": "code",
   "execution_count": 6,
   "metadata": {},
   "outputs": [
    {
     "ename": "AttributeError",
     "evalue": "'NoneType' object has no attribute 'start'",
     "output_type": "error",
     "traceback": [
      "\u001b[1;31m---------------------------------------------------------------------------\u001b[0m",
      "\u001b[1;31mAttributeError\u001b[0m                            Traceback (most recent call last)",
      "Cell \u001b[1;32mIn [6], line 9\u001b[0m\n\u001b[0;32m      7\u001b[0m \u001b[38;5;66;03m# max(re.findall(regex, test_str), key=lambda x: len(x))\u001b[39;00m\n\u001b[0;32m      8\u001b[0m x \u001b[38;5;241m=\u001b[39m re\u001b[38;5;241m.\u001b[39mmatch(regex, test_str)\n\u001b[1;32m----> 9\u001b[0m x\u001b[38;5;241m.\u001b[39mstart()\n",
      "\u001b[1;31mAttributeError\u001b[0m: 'NoneType' object has no attribute 'start'"
     ]
    }
   ],
   "source": [
    "import re\n",
    "\n",
    "regex = r\"([a-z]+)\\1+\"\n",
    "\n",
    "test_str = \"abcabcabcdd\"\n",
    "\n",
    "# max(re.findall(regex, test_str), key=lambda x: len(x))\n",
    "x = re.match(regex, test_str)\n",
    "x.start()\n"
   ]
  },
  {
   "cell_type": "code",
   "execution_count": null,
   "metadata": {},
   "outputs": [],
   "source": [
    "  # 1 2  3  4  5  6  7  8\n",
    "0 # 1 2  5  3  7  8  6  4\n",
    "1 # 1 2  3  5  7  8  6  4\n",
    "3 # 1 2  3  5  7  6  4  8\n",
    "5 # 1 2  3  5  6  4  7  8\n",
    "6 # 1 2  3  5  4  6  7  8\n",
    "7 # 1 2  3  4  5  6  7  8"
   ]
  },
  {
   "cell_type": "code",
   "execution_count": null,
   "metadata": {},
   "outputs": [],
   "source": [
    "  # 1 2  3  4  5  6  7  8\n",
    "0 # 1 2  5  3  7  8  6  4\n",
    "2 # 1 2  3  5  7  8  4  6\n",
    "6 # 1 2  3  5  4  6  7  8\n",
    "7 # 1 2  3  4  5  6  7  8"
   ]
  },
  {
   "cell_type": "code",
   "execution_count": 1,
   "metadata": {},
   "outputs": [],
   "source": [
    "x = [1,2,3,4,5]\n",
    "\n",
    "# 1 2  3  4  5  6  7  8\n",
    "# 1 2  5  3  7  8  6  4\n",
    "# 0 0 -2  1 -2 -2  1  4\n",
    " \n",
    "\n",
    "\n",
    "# 1 2  5  3  7  8  6  4\n",
    "# 1 2  5  3  4  6  7  8"
   ]
  },
  {
   "cell_type": "code",
   "execution_count": 3,
   "metadata": {},
   "outputs": [
    {
     "data": {
      "text/plain": [
       "[1]"
      ]
     },
     "execution_count": 3,
     "metadata": {},
     "output_type": "execute_result"
    }
   ],
   "source": [
    "x[0:1]"
   ]
  },
  {
   "cell_type": "code",
   "execution_count": null,
   "metadata": {},
   "outputs": [],
   "source": [
    "#  1  2  3  4  5\n",
    "#  2  1  5  3  4\n",
    "# -1  1 -2  1  1 "
   ]
  },
  {
   "cell_type": "code",
   "execution_count": null,
   "metadata": {},
   "outputs": [],
   "source": [
    "0# 1  2  3  4  5  6  7  8\n",
    "2# 1  2  5  3  4  6  7  8\n",
    "5# 1  2  5  3  6  7  8  4\n",
    "7# 1  2  5  3  7  8  6  4"
   ]
  },
  {
   "cell_type": "code",
   "execution_count": null,
   "metadata": {},
   "outputs": [],
   "source": [
    "[1, 2, 3, 4, 5, 6, 7]"
   ]
  },
  {
   "cell_type": "code",
   "execution_count": 24,
   "metadata": {},
   "outputs": [
    {
     "name": "stdout",
     "output_type": "stream",
     "text": [
      "0 2 5 [2] [5]\n",
      "0 inf 5 [2] [5]\n",
      "1 3 4 [3] [4]\n",
      "1 inf 4 [3] [4]\n",
      "2 1 3 [1] [3, 4]\n",
      "2 inf 3 [1] [3, 4]\n",
      "3 inf 4 [1] [3, 4]\n",
      "4 2 1 [2, 5] [1, 3, 4]\n",
      "5 2 3 [2, 5] [1, 3, 4]\n",
      "5 5 3 [2, 5] [1, 3, 4]\n",
      "6 5 4 [2, 5] [1, 3, 4]\n",
      "7 5 inf [2, 5] [1, 3, 4]\n"
     ]
    },
    {
     "data": {
      "text/plain": [
       "(7, [1, 2, 3, 4, 5])"
      ]
     },
     "execution_count": 24,
     "metadata": {},
     "output_type": "execute_result"
    }
   ],
   "source": [
    "def sort_sorted_list(left_items, right_items, cnt=0):\n",
    "    left_index, right_index = 0, 0\n",
    "    merged_items = []\n",
    "    while len(merged_items) < len(left_items) + len(right_items):\n",
    "        left_item = left_items[left_index] if left_index < len(left_items) else float('inf')\n",
    "        right_item = right_items[right_index] if right_index < len(right_items) else float('inf')\n",
    "        print(cnt, left_item, right_item, left_items, right_items)\n",
    "        if left_item < right_item:\n",
    "            merged_items.append(left_item)\n",
    "            left_index+=1\n",
    "        else:\n",
    "            merged_items.append(right_item)\n",
    "            right_index+=1\n",
    "            cnt+=1\n",
    "    return cnt, merged_items\n",
    "    \n",
    "def merge_sort(items, cnt=0):\n",
    "    n = len(items)\n",
    "    if n <= 1:\n",
    "        return cnt, items\n",
    "    midpoint = n //2\n",
    "    cnt, left_items = merge_sort(items[:midpoint], cnt)\n",
    "    cnt, right_items = merge_sort(items[midpoint:], cnt)\n",
    "    return sort_sorted_list(left_items, right_items, cnt)\n",
    "\n",
    "\n",
    "merge_sort(items=[2, 5, 1, 3, 4], cnt=0)"
   ]
  },
  {
   "cell_type": "code",
   "execution_count": 9,
   "metadata": {},
   "outputs": [],
   "source": [
    "import re\n",
    "\n",
    "\n",
    "cases = [r\"_455894903590720027BFYblVbWxrlDISuncMjQXwwwQ_\",r\"_403102979630foXoFscfY\",r\"_DevgMmdgyqsClabHIM\",r\"_1933375787795592062143nKP_\",r\".62999857894572902222QLhbFyoGlEHjtToRlqdoBg\",r\"_74487389998547334020720519732ArklyyAyRzarkupBjfZpd\",r\".68490303220611167726243jsqeges.\",r\"_54iGQashrPJouJ.\",r\"9831266916591720586p\",r\".89981716695784435049535ZOOghUoQFDGNqsMxJh_\",r\"_ss\",r\"_vuyAEm\",r\"yWWSxHjWqDWFUULwCabwXYLSqZD\",r\".100vYwHiKImHxsWZZbjeymguUx.\",r\"_.\",r\"_\",r\"_9278576752708382168FlaXgxthUE\",r\".QgOsjnjaPWDpKCLfaIyW.\",r\"_ss\",r\"34831\",r\"_\",r\"_28451705775585127584506IKZYzuDnqGyAkudpQRgHJ.\",r\".25910726778228413227133875783\",r\"_48949ACIDDnroDQMdVWFdotjxWy\",r\"_7571890fWInzPNhzGjJravbnWmNQMfpJjEw\",r\"QdjMWBDoEdc\",r\".98135002639023664026521ZGHtfDzlEqfdjfaESf\",r\".vGVz.\",r\".\",r\"WBAuPSEfmf_\",r\"3503XOcPCIiaCLBslzKBwlz.\",r\".396067199pxff.\",r\".nztRavTmuBb\",r\"_ss\",r\"_23538480506FAkSihPqCeYLtqnAwSENGCfjd_\",r\".15203098FtioL\",r\".7AWYDLCD\",r\"_961708489716310LzzOXjWLwX\",r\"_ss\",r\"_50008056812337650YeAeWMavsiMmGSLPYhiIDP\",r\"_212127259211541029147797431\",r\".9321797915302859960590wCUvBH_\",r\".467230.\",r\".\",r\".A\",r\".986783650507877936701293168744HbHTFUwpsXdSnVtahkLoOXORANt\",r\"_318438548600492958HujzdwFgR\",r\"562xdpQgrKAkohHkFhJRgYZDCG\",r\"_4154DQrKSvAGJrHNaIOAHQIY\",r\".021326707736440754874223991205MmeMBoMxRbCH_\",r\".785485797704635644971954615QzD_\",r\".525844925197600unqmnuYP\",r\"..\",r\"30257hzqZJYWTW\",r\".83794139589904428687504ccuDnHrHQfmkmlrMRWQ.\",r\"_05868107434702192925\",r\".23280871740772002884007553GNZShGTYyTnhasheUfrB\",r\".LZMUJgCBJSvajCZjMzWWvXLbezmvF\",r\"_69691694171477158969232646_\",r\"_299kMsIzhwHjvYMOUskpoZMRsMhwB\",r\".922078910059gRNVPyZkyIgaXHgn_\",r\"_ss\",r\"668555071986303360843JjiPFaaycyoCJVjCSMwwYcyML.\",r\"_29gnqXSoEyoiHESBNAfKNzDwx_\",r\".00876071412168sGZNJhjpsEnSHSqFk.\",r\"_9060169498590134228505qW.\",r\"_4320437\",r\"_\",r\"IEJMFRxZLiqDQAfFyqF\",r\"nDyzeHEiaVURjpGgiiwY\",r\".40906689811390009mfCxDWmG.\",r\"_350783797424454059875_\",r\".40861uGbbqeMoNHeszdlNliJpHobu\",r\"_iQxzPEmGIZkAwbuQBYJDeFsFoK.\",r\"_TbzGyrXoljSsdlGwuhNYMttss\",r\".588500144xpRJFfaMgvHfDMJWrEEJWaterDYG\",r\"_590590ZvUkaKvktoPsoKeJZHSHJlcE\",r\".9377483673369777919635276697yLpz\",r\"_CVXDrycqHNCzHobDU\",r\".94.\",r\".04719362268177448977WgTYIeBgCMMZyKa\",r\"_2592064978723151103442573FdcilEvCqua.\",r\"_ss\",r\".hcaoxRwgiuHLt\",r\"_4320147340118583063uLHriNIpfvSbefpAMhtAKBGCWj\",r\".\",r\".2849158197qZsppYeOoAaMAh.\"]\n",
    "expected_output = [\"VALID\",\"VALID\",\"INVALID\",\"VALID\",\"VALID\",\"VALID\",\"INVALID\",\"INVALID\",\"INVALID\",\"VALID\",\"INVALID\",\"INVALID\",\"INVALID\",\"INVALID\",\"INVALID\",\"INVALID\",\"VALID\",\"INVALID\",\"INVALID\",\"INVALID\",\"INVALID\",\"INVALID\",\"VALID\",\"VALID\",\"VALID\",\"INVALID\",\"VALID\",\"INVALID\",\"INVALID\",\"INVALID\",\"INVALID\",\"INVALID\",\"INVALID\",\"INVALID\",\"VALID\",\"VALID\",\"VALID\",\"VALID\",\"INVALID\",\"VALID\",\"VALID\",\"VALID\",\"INVALID\",\"INVALID\",\"INVALID\",\"VALID\",\"VALID\",\"INVALID\",\"VALID\",\"VALID\",\"VALID\",\"VALID\",\"INVALID\",\"INVALID\",\"INVALID\",\"VALID\",\"VALID\",\"INVALID\",\"VALID\",\"VALID\",\"VALID\",\"INVALID\",\"INVALID\",\"VALID\",\"INVALID\",\"INVALID\",\"VALID\",\"INVALID\",\"INVALID\",\"INVALID\",\"INVALID\",\"VALID\",\"VALID\",\"INVALID\",\"INVALID\",\"VALID\",\"VALID\",\"VALID\",\"INVALID\",\"INVALID\",\"VALID\",\"INVALID\",\"INVALID\",\"INVALID\",\"VALID\",\"INVALID\",\"INVALID\"]\n",
    "\n",
    "for s, e in zip(cases, expected_output):\n",
    "    m = re.match(r\"^[_.]\\d+[a-zA-Z]*_?$\", s)\n",
    "    if m:\n",
    "        if e != \"VALID\":\n",
    "            print(s, e)\n",
    "    else:\n",
    "        if e != \"INVALID\":\n",
    "            print(s, e)\n"
   ]
  },
  {
   "cell_type": "code",
   "execution_count": 12,
   "metadata": {},
   "outputs": [
    {
     "data": {
      "text/plain": [
       "1547"
      ]
     },
     "execution_count": 12,
     "metadata": {},
     "output_type": "execute_result"
    }
   ],
   "source": [
    "170+168+181+160+118+170+134+100+131+215"
   ]
  },
  {
   "cell_type": "code",
   "execution_count": 14,
   "metadata": {},
   "outputs": [
    {
     "data": {
      "text/plain": [
       "2388"
      ]
     },
     "execution_count": 14,
     "metadata": {},
     "output_type": "execute_result"
    }
   ],
   "source": [
    "199*12"
   ]
  },
  {
   "cell_type": "code",
   "execution_count": 15,
   "metadata": {},
   "outputs": [
    {
     "data": {
      "text/plain": [
       "753"
      ]
     },
     "execution_count": 15,
     "metadata": {},
     "output_type": "execute_result"
    }
   ],
   "source": [
    "2300-1547"
   ]
  },
  {
   "cell_type": "code",
   "execution_count": 17,
   "metadata": {},
   "outputs": [
    {
     "data": {
      "text/plain": [
       "45"
      ]
     },
     "execution_count": 17,
     "metadata": {},
     "output_type": "execute_result"
    }
   ],
   "source": [
    "len(\"x4202v2A22A9a6aaaaaa2G2222m222qwertyYuIo13957\")"
   ]
  },
  {
   "cell_type": "code",
   "execution_count": 2,
   "metadata": {},
   "outputs": [],
   "source": [
    "x = [1, 3, 6, 4, 1, 2]\n",
    "x.sort()"
   ]
  },
  {
   "cell_type": "code",
   "execution_count": 3,
   "metadata": {},
   "outputs": [
    {
     "data": {
      "text/plain": [
       "[1, 1, 2, 3, 4, 6]"
      ]
     },
     "execution_count": 3,
     "metadata": {},
     "output_type": "execute_result"
    }
   ],
   "source": [
    "x"
   ]
  },
  {
   "cell_type": "code",
   "execution_count": null,
   "metadata": {},
   "outputs": [],
   "source": [
    "# [1, 3, 6, 4, 1, 2] -> 5\n",
    "# [1, 2, 3] -> 4\n",
    "# [-1, -3] -> 1\n",
    "\n",
    "# A can have 100,000 values\n",
    "# each value can range from -1,000,000 to 1,000,000\n",
    "# find least value that doesn't exist in the list\n",
    "\n",
    "def solution(A):\n",
    "    A.sort()\n",
    "    p = A[0]\n",
    "    l = A[-1]\n",
    "    if p > 1:\n",
    "        return 1\n",
    "    if l <= 0 :\n",
    "        return 1\n",
    "    for c in A:\n",
    "        if c - p > 1:\n",
    "            return  p+1\n",
    "    return c+1\n",
    "    "
   ]
  },
  {
   "cell_type": "code",
   "execution_count": 10,
   "metadata": {},
   "outputs": [
    {
     "name": "stdout",
     "output_type": "stream",
     "text": [
      "True\n",
      "False\n",
      "False\n"
     ]
    }
   ],
   "source": [
    "# listen\n",
    "# silent\n",
    "from collections import Counter\n",
    "\n",
    "\n",
    "def is_anagram(s1, s2):\n",
    "    if isinstance(s1, str) or isinstance(s2, str):\n",
    "        if Counter(s1) == Counter(s2):\n",
    "            return True\n",
    "    return False\n",
    "\n",
    "s1 = \"listenl\"\n",
    "s2 = \"listenl\"\n",
    "print(is_anagram(s1=\"listen\", s2=\"silent\"))\n",
    "print(is_anagram(s1=list(), s2=\"listen\"))\n",
    "print(is_anagram(s1=\"arun\", s2=\"aarun\"))"
   ]
  },
  {
   "cell_type": "code",
   "execution_count": null,
   "metadata": {},
   "outputs": [],
   "source": [
    "l1 = [1,2,3,4,5,6]\n",
    "l2 = [6,2,3,4,5,1]"
   ]
  },
  {
   "cell_type": "code",
   "execution_count": 13,
   "metadata": {},
   "outputs": [
    {
     "name": "stdout",
     "output_type": "stream",
     "text": [
      "5\n"
     ]
    }
   ],
   "source": [
    "items = [1,2,3,4,5,6,4,2,1]\n",
    "\n",
    "n = len(items)\n",
    "p = items[0]\n",
    "for i in range(1, n-1):\n",
    "    c = items[i]\n",
    "    n = items[i+1]\n",
    "    if p < c and c > n:\n",
    "        print(i)\n",
    "    p = c"
   ]
  },
  {
   "cell_type": "code",
   "execution_count": 16,
   "metadata": {},
   "outputs": [
    {
     "data": {
      "text/plain": [
       "'aaabbc'"
      ]
     },
     "execution_count": 16,
     "metadata": {},
     "output_type": "execute_result"
    }
   ],
   "source": [
    "s1 = \"3a2bc\" # \"aaabbc\"\n",
    "\n",
    "o = \"\"\n",
    "\n",
    "for i, e in enumerate(s1):\n",
    "    if e.isdigit():\n",
    "        o += (int(e)-1) * s1[i+1]\n",
    "    else:\n",
    "        o+=e\n",
    "o"
   ]
  },
  {
   "cell_type": "code",
   "execution_count": 22,
   "metadata": {},
   "outputs": [],
   "source": [
    "from datetime import date, timedelta\n",
    "\n",
    "\n",
    "def date_range(end_date:date, start_date:date=None):\n",
    "    if not start_date:\n",
    "        start_date = date.today()\n",
    "    if end_date < start_date:\n",
    "        yield start_date\n",
    "    n_days =  end_date - start_date \n",
    "    # stop_date = end_date - timedelta(days=1)\n",
    "    while start_date < end_date:\n",
    "        yield start_date\n",
    "        start_date+=timedelta(days=1)"
   ]
  },
  {
   "cell_type": "code",
   "execution_count": 23,
   "metadata": {},
   "outputs": [
    {
     "name": "stdout",
     "output_type": "stream",
     "text": [
      "2024-02-15\n",
      "2024-02-16\n"
     ]
    }
   ],
   "source": [
    "for i in date_range(end_date=date(2024,2,17)):\n",
    "    print(i)"
   ]
  },
  {
   "cell_type": "code",
   "execution_count": null,
   "metadata": {},
   "outputs": [],
   "source": [
    "from datetime import date"
   ]
  },
  {
   "cell_type": "code",
   "execution_count": 19,
   "metadata": {},
   "outputs": [
    {
     "data": {
      "text/plain": [
       "2"
      ]
     },
     "execution_count": 19,
     "metadata": {},
     "output_type": "execute_result"
    }
   ],
   "source": [
    "from datetime import date, timedelta\n",
    "x = date(2024,2,17) - date(2024,2,15)\n",
    "x.days"
   ]
  },
  {
   "cell_type": "code",
   "execution_count": 30,
   "metadata": {},
   "outputs": [
    {
     "name": "stdout",
     "output_type": "stream",
     "text": [
      "f2 3\n",
      "f1 2\n",
      "f4 2\n"
     ]
    }
   ],
   "source": [
    "x = [\n",
    "    ('f1', 'start', 0),\n",
    "    ('f2', 'start', 1),\n",
    "    # f3 2\n",
    "    # f3 3\n",
    "    ('f2', 'end', 4),\n",
    "    ('f1', 'end', 5),\n",
    "    ('f4', 'start', 6),\n",
    "    ('f4', 'end', 8),\n",
    "    ]\n",
    "\n",
    "y = []\n",
    "pr = 0\n",
    "for t in x:\n",
    "    if t[1] == 'start':\n",
    "        y.append(t)\n",
    "    if t[1] == 'end':\n",
    "        t1 = y.pop()\n",
    "        # s+=cr\n",
    "        cr = t[2] - t1[2] - pr\n",
    "        print(t[0], cr)\n",
    "        pr += cr\n",
    "    if not y:\n",
    "        pr = 0\n",
    "\n"
   ]
  },
  {
   "cell_type": "code",
   "execution_count": 12,
   "metadata": {},
   "outputs": [
    {
     "data": {
      "text/plain": [
       "['i']"
      ]
     },
     "execution_count": 12,
     "metadata": {},
     "output_type": "execute_result"
    }
   ],
   "source": [
    "import re\n",
    "\n",
    "re.findall(r'([a-z])[a-z]*\\1', 'codility')"
   ]
  },
  {
   "cell_type": "code",
   "execution_count": null,
   "metadata": {},
   "outputs": [],
   "source": [
    "re.findall(r'([a-z])[a-z]*\\1', 'codility')"
   ]
  },
  {
   "cell_type": "code",
   "execution_count": 13,
   "metadata": {},
   "outputs": [
    {
     "data": {
      "text/plain": [
       "[]"
      ]
     },
     "execution_count": 13,
     "metadata": {},
     "output_type": "execute_result"
    }
   ],
   "source": [
    "re.findall(r'([a-z])[a-z]*\\1', 'codi lity')"
   ]
  },
  {
   "cell_type": "code",
   "execution_count": 23,
   "metadata": {},
   "outputs": [
    {
     "name": "stdout",
     "output_type": "stream",
     "text": [
      "CPU times: total: 0 ns\n",
      "Wall time: 999 µs\n"
     ]
    }
   ],
   "source": [
    "%%time\n",
    "x = [0]*100000"
   ]
  },
  {
   "cell_type": "code",
   "execution_count": 21,
   "metadata": {},
   "outputs": [
    {
     "name": "stdout",
     "output_type": "stream",
     "text": [
      "CPU times: total: 0 ns\n",
      "Wall time: 6 ms\n"
     ]
    }
   ],
   "source": [
    "%%time\n",
    "x = [0 for _ in range(100000)]"
   ]
  },
  {
   "cell_type": "code",
   "execution_count": 42,
   "metadata": {},
   "outputs": [
    {
     "data": {
      "text/plain": [
       "3"
      ]
     },
     "execution_count": 42,
     "metadata": {},
     "output_type": "execute_result"
    }
   ],
   "source": [
    "x.index(0, 3)"
   ]
  },
  {
   "cell_type": "code",
   "execution_count": null,
   "metadata": {},
   "outputs": [],
   "source": [
    "# you can write to stdout for debugging purposes, e.g.\n",
    "# print(\"this is a debug message\")\n",
    "\n",
    "\n",
    "class Allocator:\n",
    "    def __init__(self, N: int):\n",
    "        # Implement your solution here\n",
    "        self._data = [0] * N\n",
    "        self._available_space = N\n",
    "\n",
    "    def alloc(self, size: int) -> int:\n",
    "        # Implement your solution here\n",
    "        # print(\"alloc\", size, self._data)\n",
    "        if size > self._available_space:\n",
    "            return -1\n",
    "        available_address = self._data.index(0)\n",
    "        while available_address % size != 0:\n",
    "            available_address += (size - (available_address % size))  \n",
    "        # while available_address % 8\n",
    "        for i in range(size):\n",
    "            self._data[available_address+i]=size\n",
    "        self._available_space -= size\n",
    "        return available_address\n",
    "\n",
    "    def free(self, address: int) -> None:\n",
    "        # Implement your solution here\n",
    "        # print(\"free\", address, self._data)\n",
    "        size = self._data[address]\n",
    "        for i in range(size):\n",
    "            self._data[address+i]=0 \n",
    "        self._available_space += size\n",
    "        \n"
   ]
  },
  {
   "cell_type": "code",
   "execution_count": 36,
   "metadata": {},
   "outputs": [
    {
     "data": {
      "text/plain": [
       "7"
      ]
     },
     "execution_count": 36,
     "metadata": {},
     "output_type": "execute_result"
    }
   ],
   "source": [
    "len(bin(100))-2"
   ]
  },
  {
   "cell_type": "code",
   "execution_count": null,
   "metadata": {},
   "outputs": [],
   "source": [
    "# (8, 'AAFAAFA', [8, 1, -1, 1, 4, -1, 4], [1, 2, 1, 3, 4, 3, 5])\n",
    "# (16, 'AAAFAAFFFA', [4, 8, 4, -1, 1, 1, -1, -1, -1, 8], [10, 100, 20, 10, 1, 2, 20, 2, 1, 200])"
   ]
  },
  {
   "cell_type": "code",
   "execution_count": 40,
   "metadata": {},
   "outputs": [
    {
     "data": {
      "text/plain": [
       "3"
      ]
     },
     "execution_count": 40,
     "metadata": {},
     "output_type": "execute_result"
    }
   ],
   "source": [
    "4 - 1"
   ]
  },
  {
   "cell_type": "code",
   "execution_count": 21,
   "metadata": {},
   "outputs": [
    {
     "data": {
      "text/plain": [
       "True"
      ]
     },
     "execution_count": 21,
     "metadata": {},
     "output_type": "execute_result"
    }
   ],
   "source": [
    "x = 2\n",
    "isinstance(x, (float, int))"
   ]
  },
  {
   "cell_type": "code",
   "execution_count": null,
   "metadata": {},
   "outputs": [],
   "source": [
    "\"\"\"\n",
    "stock_symbol type last_dividend par_value\n",
    "TEA Common 0 100\n",
    "POP Common 8 100\n",
    "ALE Common 23 60\n",
    "GIN Preferred 8 100\n",
    "JOE Common 13 250\n",
    "\"\"\""
   ]
  },
  {
   "cell_type": "code",
   "execution_count": 26,
   "metadata": {},
   "outputs": [],
   "source": [
    "import pandas as pd\n",
    "\n",
    "df = pd.read_clipboard()"
   ]
  },
  {
   "cell_type": "code",
   "execution_count": 29,
   "metadata": {},
   "outputs": [],
   "source": [
    "df.loc[df[\"type\"] == \"Preferred\", \"fixed_dividend\"] = 2"
   ]
  },
  {
   "cell_type": "code",
   "execution_count": 31,
   "metadata": {},
   "outputs": [
    {
     "data": {
      "text/plain": [
       "[{'stock_symbol': 'TEA',\n",
       "  'type': 'Common',\n",
       "  'last_dividend': 0,\n",
       "  'par_value': 100,\n",
       "  'fixed_dividend': nan},\n",
       " {'stock_symbol': 'POP',\n",
       "  'type': 'Common',\n",
       "  'last_dividend': 8,\n",
       "  'par_value': 100,\n",
       "  'fixed_dividend': nan},\n",
       " {'stock_symbol': 'ALE',\n",
       "  'type': 'Common',\n",
       "  'last_dividend': 23,\n",
       "  'par_value': 60,\n",
       "  'fixed_dividend': nan},\n",
       " {'stock_symbol': 'GIN',\n",
       "  'type': 'Preferred',\n",
       "  'last_dividend': 8,\n",
       "  'par_value': 100,\n",
       "  'fixed_dividend': 2.0},\n",
       " {'stock_symbol': 'JOE',\n",
       "  'type': 'Common',\n",
       "  'last_dividend': 13,\n",
       "  'par_value': 250,\n",
       "  'fixed_dividend': nan}]"
      ]
     },
     "execution_count": 31,
     "metadata": {},
     "output_type": "execute_result"
    }
   ],
   "source": [
    "df.to_dict(\"records\")"
   ]
  },
  {
   "cell_type": "code",
   "execution_count": 32,
   "metadata": {},
   "outputs": [
    {
     "data": {
      "text/html": [
       "<div>\n",
       "<style scoped>\n",
       "    .dataframe tbody tr th:only-of-type {\n",
       "        vertical-align: middle;\n",
       "    }\n",
       "\n",
       "    .dataframe tbody tr th {\n",
       "        vertical-align: top;\n",
       "    }\n",
       "\n",
       "    .dataframe thead th {\n",
       "        text-align: right;\n",
       "    }\n",
       "</style>\n",
       "<table border=\"1\" class=\"dataframe\">\n",
       "  <thead>\n",
       "    <tr style=\"text-align: right;\">\n",
       "      <th></th>\n",
       "      <th>stock_symbol</th>\n",
       "      <th>type</th>\n",
       "      <th>last_dividend</th>\n",
       "      <th>par_value</th>\n",
       "      <th>fixed_dividend</th>\n",
       "    </tr>\n",
       "  </thead>\n",
       "  <tbody>\n",
       "    <tr>\n",
       "      <th>0</th>\n",
       "      <td>TEA</td>\n",
       "      <td>Common</td>\n",
       "      <td>0</td>\n",
       "      <td>100</td>\n",
       "      <td>NaN</td>\n",
       "    </tr>\n",
       "    <tr>\n",
       "      <th>1</th>\n",
       "      <td>POP</td>\n",
       "      <td>Common</td>\n",
       "      <td>8</td>\n",
       "      <td>100</td>\n",
       "      <td>NaN</td>\n",
       "    </tr>\n",
       "    <tr>\n",
       "      <th>2</th>\n",
       "      <td>ALE</td>\n",
       "      <td>Common</td>\n",
       "      <td>23</td>\n",
       "      <td>60</td>\n",
       "      <td>NaN</td>\n",
       "    </tr>\n",
       "    <tr>\n",
       "      <th>3</th>\n",
       "      <td>GIN</td>\n",
       "      <td>Preferred</td>\n",
       "      <td>8</td>\n",
       "      <td>100</td>\n",
       "      <td>2.0</td>\n",
       "    </tr>\n",
       "    <tr>\n",
       "      <th>4</th>\n",
       "      <td>JOE</td>\n",
       "      <td>Common</td>\n",
       "      <td>13</td>\n",
       "      <td>250</td>\n",
       "      <td>NaN</td>\n",
       "    </tr>\n",
       "  </tbody>\n",
       "</table>\n",
       "</div>"
      ],
      "text/plain": [
       "  stock_symbol       type  last_dividend  par_value  fixed_dividend\n",
       "0          TEA     Common              0        100             NaN\n",
       "1          POP     Common              8        100             NaN\n",
       "2          ALE     Common             23         60             NaN\n",
       "3          GIN  Preferred              8        100             2.0\n",
       "4          JOE     Common             13        250             NaN"
      ]
     },
     "execution_count": 32,
     "metadata": {},
     "output_type": "execute_result"
    }
   ],
   "source": [
    "pd.DataFrame(\n",
    "[{'stock_symbol': 'TEA',\n",
    "  'type': 'Common',\n",
    "  'last_dividend': 0,\n",
    "  'par_value': 100},\n",
    " {'stock_symbol': 'POP',\n",
    "  'type': 'Common',\n",
    "  'last_dividend': 8,\n",
    "  'par_value': 100},\n",
    " {'stock_symbol': 'ALE',\n",
    "  'type': 'Common',\n",
    "  'last_dividend': 23,\n",
    "  'par_value': 60},\n",
    " {'stock_symbol': 'GIN',\n",
    "  'type': 'Preferred',\n",
    "  'last_dividend': 8,\n",
    "  'par_value': 100,\n",
    "  'fixed_dividend': 2.0},\n",
    " {'stock_symbol': 'JOE',\n",
    "  'type': 'Common',\n",
    "  'last_dividend': 13,\n",
    "  'par_value': 250}]\n",
    "  )"
   ]
  },
  {
   "cell_type": "code",
   "execution_count": 42,
   "metadata": {},
   "outputs": [
    {
     "data": {
      "text/plain": [
       "6230"
      ]
     },
     "execution_count": 42,
     "metadata": {},
     "output_type": "execute_result"
    }
   ],
   "source": [
    "(df[\"last_dividend\"] * df[\"par_value\"]).sum()"
   ]
  },
  {
   "cell_type": "code",
   "execution_count": 46,
   "metadata": {},
   "outputs": [
    {
     "name": "stderr",
     "output_type": "stream",
     "text": [
      "C:\\Users\\arunk\\AppData\\Local\\Temp\\ipykernel_9240\\4069383803.py:1: FutureWarning: The frame.append method is deprecated and will be removed from pandas in a future version. Use pandas.concat instead.\n",
      "  df.append(pd.DataFrame([ {'stock_symbol': 'GIN',\n"
     ]
    },
    {
     "data": {
      "text/html": [
       "<div>\n",
       "<style scoped>\n",
       "    .dataframe tbody tr th:only-of-type {\n",
       "        vertical-align: middle;\n",
       "    }\n",
       "\n",
       "    .dataframe tbody tr th {\n",
       "        vertical-align: top;\n",
       "    }\n",
       "\n",
       "    .dataframe thead th {\n",
       "        text-align: right;\n",
       "    }\n",
       "</style>\n",
       "<table border=\"1\" class=\"dataframe\">\n",
       "  <thead>\n",
       "    <tr style=\"text-align: right;\">\n",
       "      <th></th>\n",
       "      <th>stock_symbol</th>\n",
       "      <th>type</th>\n",
       "      <th>last_dividend</th>\n",
       "      <th>par_value</th>\n",
       "      <th>fixed_dividend</th>\n",
       "    </tr>\n",
       "  </thead>\n",
       "  <tbody>\n",
       "    <tr>\n",
       "      <th>0</th>\n",
       "      <td>TEA</td>\n",
       "      <td>Common</td>\n",
       "      <td>0</td>\n",
       "      <td>100</td>\n",
       "      <td>NaN</td>\n",
       "    </tr>\n",
       "    <tr>\n",
       "      <th>1</th>\n",
       "      <td>POP</td>\n",
       "      <td>Common</td>\n",
       "      <td>8</td>\n",
       "      <td>100</td>\n",
       "      <td>NaN</td>\n",
       "    </tr>\n",
       "    <tr>\n",
       "      <th>2</th>\n",
       "      <td>ALE</td>\n",
       "      <td>Common</td>\n",
       "      <td>23</td>\n",
       "      <td>60</td>\n",
       "      <td>NaN</td>\n",
       "    </tr>\n",
       "    <tr>\n",
       "      <th>3</th>\n",
       "      <td>GIN</td>\n",
       "      <td>Preferred</td>\n",
       "      <td>8</td>\n",
       "      <td>100</td>\n",
       "      <td>2.0</td>\n",
       "    </tr>\n",
       "    <tr>\n",
       "      <th>4</th>\n",
       "      <td>JOE</td>\n",
       "      <td>Common</td>\n",
       "      <td>13</td>\n",
       "      <td>250</td>\n",
       "      <td>NaN</td>\n",
       "    </tr>\n",
       "    <tr>\n",
       "      <th>0</th>\n",
       "      <td>GIN</td>\n",
       "      <td>Preferred</td>\n",
       "      <td>8</td>\n",
       "      <td>100</td>\n",
       "      <td>2.0</td>\n",
       "    </tr>\n",
       "  </tbody>\n",
       "</table>\n",
       "</div>"
      ],
      "text/plain": [
       "  stock_symbol       type  last_dividend  par_value  fixed_dividend\n",
       "0          TEA     Common              0        100             NaN\n",
       "1          POP     Common              8        100             NaN\n",
       "2          ALE     Common             23         60             NaN\n",
       "3          GIN  Preferred              8        100             2.0\n",
       "4          JOE     Common             13        250             NaN\n",
       "0          GIN  Preferred              8        100             2.0"
      ]
     },
     "execution_count": 46,
     "metadata": {},
     "output_type": "execute_result"
    }
   ],
   "source": [
    "df.append(pd.DataFrame([ {'stock_symbol': 'GIN',\n",
    "  'type': 'Preferred',\n",
    "  'last_dividend': 8,\n",
    "  'par_value': 100,\n",
    "  'fixed_dividend': 2.0}]))"
   ]
  },
  {
   "cell_type": "code",
   "execution_count": 51,
   "metadata": {},
   "outputs": [
    {
     "data": {
      "text/html": [
       "<div>\n",
       "<style scoped>\n",
       "    .dataframe tbody tr th:only-of-type {\n",
       "        vertical-align: middle;\n",
       "    }\n",
       "\n",
       "    .dataframe tbody tr th {\n",
       "        vertical-align: top;\n",
       "    }\n",
       "\n",
       "    .dataframe thead th {\n",
       "        text-align: right;\n",
       "    }\n",
       "</style>\n",
       "<table border=\"1\" class=\"dataframe\">\n",
       "  <thead>\n",
       "    <tr style=\"text-align: right;\">\n",
       "      <th></th>\n",
       "      <th>stock_symbol</th>\n",
       "      <th>type</th>\n",
       "      <th>last_dividend</th>\n",
       "      <th>par_value</th>\n",
       "      <th>fixed_dividend</th>\n",
       "    </tr>\n",
       "  </thead>\n",
       "  <tbody>\n",
       "    <tr>\n",
       "      <th>0</th>\n",
       "      <td>GIN</td>\n",
       "      <td>Preferred</td>\n",
       "      <td>8</td>\n",
       "      <td>100</td>\n",
       "      <td>2.0</td>\n",
       "    </tr>\n",
       "  </tbody>\n",
       "</table>\n",
       "</div>"
      ],
      "text/plain": [
       "  stock_symbol       type  last_dividend  par_value  fixed_dividend\n",
       "0          GIN  Preferred              8        100             2.0"
      ]
     },
     "execution_count": 51,
     "metadata": {},
     "output_type": "execute_result"
    }
   ],
   "source": [
    "x = pd.DataFrame([ {'stock_symbol': 'GIN',\n",
    "  'type': 'Preferred',\n",
    "  'last_dividend': 8,\n",
    "  'par_value': 100,\n",
    "  'fixed_dividend': 2.0}])\n",
    "x"
   ]
  },
  {
   "cell_type": "code",
   "execution_count": 59,
   "metadata": {},
   "outputs": [],
   "source": [
    "df.loc[5] = pd.Series({'stock_symbol': 'GIN',\n",
    "  'type': 'Preferred',\n",
    "  'last_dividend': 8,\n",
    "  'par_value': 100,\n",
    "  'fixed_dividend': 2.0})"
   ]
  },
  {
   "cell_type": "code",
   "execution_count": null,
   "metadata": {},
   "outputs": [],
   "source": [
    "import requests\n",
    "from requests.adapters import HTTPAdapter\n",
    "from requests.packages.urllib3.util.retry import Retry\n",
    "\n",
    "def requests_retry_session(\n",
    "    retries=3,\n",
    "    backoff_factor=0.3,\n",
    "    status_forcelist=(500, 502, 504),\n",
    "    session=None,\n",
    "):\n",
    "    session = session or requests.Session()\n",
    "    retry = Retry(\n",
    "        total=retries,\n",
    "        read=retries,\n",
    "        connect=retries,\n",
    "        backoff_factor=backoff_factor,\n",
    "        status_forcelist=status_forcelist,\n",
    "    )\n",
    "    adapter = HTTPAdapter(max_retries=retry)\n",
    "    session.mount('http://', adapter)\n",
    "    session.mount('https://', adapter)\n",
    "    return session\n",
    "\n",
    "response = requests_retry_session().get('http://httpbin.org/some_api')"
   ]
  }
 ],
 "metadata": {
  "kernelspec": {
   "display_name": "py_31005_dev",
   "language": "python",
   "name": "python3"
  },
  "language_info": {
   "codemirror_mode": {
    "name": "ipython",
    "version": 3
   },
   "file_extension": ".py",
   "mimetype": "text/x-python",
   "name": "python",
   "nbconvert_exporter": "python",
   "pygments_lexer": "ipython3",
   "version": "3.10.5"
  }
 },
 "nbformat": 4,
 "nbformat_minor": 2
}
