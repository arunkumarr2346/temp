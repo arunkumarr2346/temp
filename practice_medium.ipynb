{
 "metadata": {
  "language_info": {
   "codemirror_mode": {
    "name": "ipython",
    "version": 3
   },
   "file_extension": ".py",
   "mimetype": "text/x-python",
   "name": "python",
   "nbconvert_exporter": "python",
   "pygments_lexer": "ipython3",
   "version": "3.8.5-final"
  },
  "orig_nbformat": 2,
  "kernelspec": {
   "name": "python3",
   "display_name": "Python 3.8.5 64-bit",
   "metadata": {
    "interpreter": {
     "hash": "31f2aee4e71d21fbe5cf8b01ff0e069b9275f58929596ceb00d14d90e3e16cd6"
    }
   }
  }
 },
 "nbformat": 4,
 "nbformat_minor": 2,
 "cells": [
  {
   "cell_type": "code",
   "execution_count": 20,
   "metadata": {},
   "outputs": [
    {
     "output_type": "stream",
     "name": "stdout",
     "text": [
      "6 [1, 2, 3]\n",
      "28 [1, 2, 4, 7, 14]\n",
      "496 [1, 2, 4, 8, 16, 31, 62, 124, 248]\n",
      "8128 [1, 2, 4, 8, 16, 32, 64, 127, 254, 508, 1016, 2032, 4064]\n",
      "CPU times: user 3.29 s, sys: 10 ms, total: 3.3 s\n",
      "Wall time: 3.29 s\n"
     ]
    }
   ],
   "source": [
    "%%time\n",
    "# 1. Print all perfect numbers between 1 to 100.\n",
    "# exp: Perfect number is a positive integer which is equal to the sum of its proper positive divisors.\n",
    "# For example: 6 is the first perfect number\n",
    "# Proper divisors of 6 are 1, 2, 3\n",
    "# Sum of its proper divisors = 1 + 2 + 3 = 6.\n",
    "# Hence 6 is a perfect number.\n",
    "n = 10000\n",
    "for i in range(1,n+1):\n",
    "    divisor_list = []\n",
    "    for j in range(1,(i+2)//2):\n",
    "        if i%j==0:\n",
    "            divisor_list.append(j)\n",
    "    if i == sum(divisor_list):\n",
    "        print(i,divisor_list)"
   ]
  },
  {
   "cell_type": "code",
   "execution_count": 34,
   "metadata": {},
   "outputs": [
    {
     "output_type": "stream",
     "name": "stdout",
     "text": [
      "1 True\n",
      "2 True\n",
      "145 True\n",
      "40585 True\n",
      "CPU times: user 7.1 s, sys: 9.3 ms, total: 7.11 s\n",
      "Wall time: 7.1 s\n"
     ]
    }
   ],
   "source": [
    "%%time\n",
    "# 2. Check the given number is Strong number or not.\n",
    "# Strong number is a special number whose sum of factorial of digits is equal to the original number.\n",
    "# For example: 145 is strong number. Since, 1! + 4! + 5! = 145\n",
    "\n",
    "def fact(n):\n",
    "    if n == 0:\n",
    "        return 1\n",
    "    return n * fact(n-1)\n",
    "\n",
    "def is_strong(m):\n",
    "    val = 0\n",
    "    for e in str(m):\n",
    "        val += fact(int(e))\n",
    "    if val == m:\n",
    "        return True\n",
    "    else:\n",
    "        return False\n",
    "\n",
    "# is_strong(145)\n",
    "\n",
    "for i in range(1,1000000):\n",
    "    if is_strong(i):\n",
    "        print(i,is_strong(i))"
   ]
  },
  {
   "cell_type": "code",
   "execution_count": 41,
   "metadata": {},
   "outputs": [
    {
     "output_type": "stream",
     "name": "stdout",
     "text": [
      "1 True\n2 True\n3 True\n4 True\n5 True\n6 True\n7 True\n8 True\n9 True\n153 True\n370 True\n371 True\n407 True\n1634 True\n8208 True\n9474 True\n"
     ]
    }
   ],
   "source": [
    "# 3. Print all Armstrong number between 1 to 1000.\n",
    "# An Armstrong number is a n-digit number that is equal to the sum of nth power of its digits. For example,\n",
    "# 6 = 61 = 6\n",
    "# 371 = 33 + 73 + 13 = 371\n",
    "\n",
    "def is_armstrong_num(n):\n",
    "    n_str = str(n)\n",
    "    p = len(str(n_str))\n",
    "    val = 0\n",
    "    for e in n_str:\n",
    "        val+=int(e)**p\n",
    "    if val == n :\n",
    "        return True\n",
    "    else:\n",
    "        return False\n",
    "x = 10000\n",
    "for i in range(1,x+1):\n",
    "    if is_armstrong_num(i):\n",
    "        print(i,is_armstrong_num(i))"
   ]
  },
  {
   "cell_type": "code",
   "execution_count": 55,
   "metadata": {},
   "outputs": [
    {
     "output_type": "execute_result",
     "data": {
      "text/plain": [
       "[2, 2, 2, 3]"
      ]
     },
     "metadata": {},
     "execution_count": 55
    }
   ],
   "source": [
    "# 4. Find Prime fraction of a number\n",
    "# if no. Is 6 prime fraction is 2,3\n",
    "# If no. Is 24 then prime fraction is 2,2,2,3\n",
    "# If no. Is negative or 1\n",
    "# then there is no fraction it should be empty\n",
    "\n",
    "def prime_fraction(n):\n",
    "    if n <=1:\n",
    "        return ''\n",
    "    else:\n",
    "        frac_list=[]\n",
    "        for i in range(2,n):\n",
    "            while n%i==0:\n",
    "                n//=i\n",
    "                frac_list.append(i)\n",
    "    return frac_list\n",
    "\n",
    "prime_fraction(24)"
   ]
  },
  {
   "cell_type": "code",
   "execution_count": 80,
   "metadata": {},
   "outputs": [
    {
     "output_type": "stream",
     "name": "stdout",
     "text": [
      "<re.Match object; span=(0, 2), match='aa'>\n['a', 'b', 'c']\n['', 'a', '', 'b', '', 'c', '']\n<re.Match object; span=(0, 2), match='aa'> ['a', 'b', 'c'] ['', 'a', '', 'b', '', 'c', '']\n"
     ]
    },
    {
     "output_type": "execute_result",
     "data": {
      "text/plain": [
       "{}"
      ]
     },
     "metadata": {},
     "execution_count": 80
    }
   ],
   "source": [
    "# 5. Question: For the given string such as \"aabbbbbcc\" print the longest occurring character,index and number of times it occurs.\n",
    "# Ex: longest occurring character is b and length is 5 at index 2.\n",
    "\n",
    "import re\n",
    "s = \"aabbbbbccc\"\n",
    "pattern = re.compile(\"([a-z])\\\\1+\")\n",
    "x = pattern.search(s)\n",
    "print(x)\n",
    "y = pattern.findall(s)\n",
    "print(y)\n",
    "z = pattern.split(s)\n",
    "print(z)\n",
    "print(x,y,z)\n",
    "x.groupdict()"
   ]
  },
  {
   "cell_type": "code",
   "execution_count": 25,
   "metadata": {},
   "outputs": [
    {
     "output_type": "execute_result",
     "data": {
      "text/plain": [
       "['abc', 'a', 'a', 'a', 'a', 'a']"
      ]
     },
     "metadata": {},
     "execution_count": 25
    }
   ],
   "source": [
    "re.findall(\"a(?:bc)*\",\"abc ac acb aob a2b a42c A87d\")"
   ]
  },
  {
   "cell_type": "code",
   "execution_count": 27,
   "metadata": {},
   "outputs": [
    {
     "output_type": "execute_result",
     "data": {
      "text/plain": [
       "['aabbbbbccccccc']"
      ]
     },
     "metadata": {},
     "execution_count": 27
    }
   ],
   "source": [
    "s = \"aabbbbbccccccc\"\n",
    "re.findall(\"[a-z](?:[a-z])*\",s)"
   ]
  },
  {
   "cell_type": "code",
   "execution_count": null,
   "metadata": {},
   "outputs": [],
   "source": []
  }
 ]
}