{
 "cells": [
  {
   "cell_type": "code",
   "execution_count": 2,
   "metadata": {},
   "outputs": [],
   "source": [
    "import os\n",
    "import pandas as pd\n",
    "import re"
   ]
  },
  {
   "cell_type": "code",
   "execution_count": 10,
   "metadata": {},
   "outputs": [
    {
     "name": "stdout",
     "output_type": "stream",
     "text": [
      "old_files_names.csv\n",
      "Season 01\n",
      "Season 02\n",
      "Season 03\n",
      "Season 04\n",
      "Season 05\n",
      "Season 06\n",
      "Season 07\n",
      "Season 08\n",
      "S08E01 Episode S08E01.mkv\n",
      "S08E02 Episode S08E02.mkv\n",
      "S08E03 Episode S08E03.mkv\n",
      "S08E04 Episode S08E04.mkv\n",
      "S08E05 Episode S08E05.mkv\n",
      "S08E06 Episode S08E06.mkv\n",
      "S08E07 Episode S08E07.mkv\n",
      "S08E08 Episode S08E08.mkv\n",
      "S08E09 Episode S08E09.mkv\n",
      "S08E10 Episode S08E10.mkv\n",
      "S08E11 Episode S08E11.mkv\n",
      "S08E12 Episode S08E12.mkv\n",
      "S08E13 Episode S08E13.mkv\n",
      "S08E14 Episode S08E14.mkv\n",
      "S08E15 Episode S08E15.mkv\n",
      "S08E16 Episode S08E16.mkv\n",
      "S08E17 Episode S08E17.mkv\n",
      "S08E18 Episode S08E18.mkv\n",
      "S08E19 Episode S08E19.mkv\n",
      "S08E20 Episode S08E20.mkv\n",
      "S08E21 Episode S08E21.mkv\n",
      "S08E22 Episode S08E22.mkv\n",
      "S08E01 House.S08E01.Twenty.Vicodin.BDRip.XviD-CLUE.srt\n",
      "S08E02 House.S08E02.Transplant.BDRip.XviD-CLUE.srt\n",
      "S08E03 House.S08E03.Charity.Case.BDRip.XviD-CLUE.srt\n",
      "S08E04 House.S08E04.Risky.Business.BDRip.XviD-CLUE.srt\n",
      "S08E05 House.S08E05.The.Confession.BDRip.XviD-CLUE.srt\n",
      "S08E06 House.S08E06.Parents.BDRip.XviD-CLUE.srt\n",
      "S08E07 House.S08E07.Dead.And.Buried.BDRip.XviD-CLUE.srt\n",
      "S08E08 House.S08E08.Perils.Of.Paranoia.BDRip.XviD-CLUE.srt\n",
      "S08E09 House.S08E09.Better.Half.BDRip.XviD-CLUE.srt\n",
      "S08E10 House.S08E10.Runaways.BDRip.XviD-CLUE.srt\n",
      "S08E11 House.S08E11.Nobodys.Fault.BDRip.XviD-CLUE.srt\n",
      "S08E12 House.S08E12.Chase.BDRip.XviD-CLUE.srt\n",
      "S08E13 House.S08E13.Man.Of.The.House.BDRip.XviD-CLUE.srt\n",
      "S08E14 House.S08E14.Love.Is.Blind.BDRip.XviD-CLUE.srt\n",
      "S08E15 House.S08E15.Blowing.The.Whistle.BDRip.XviD-CLUE.srt\n",
      "S08E16 House.S08E16.Gut.Check.BDRip.XviD-CLUE.srt\n",
      "S08E17 House.S08E17.We.Need.The.Eggs.BDRip.XviD-CLUE.srt\n",
      "S08E18 House.S08E18.Body.And.Soul.BDRip.XviD-CLUE.srt\n",
      "S08E19 House.S08E19.The.C-Word.BDRip.XviD-CLUE.srt\n",
      "S08E20 House.S08E20.Post.Mortem.BDRip.XviD-CLUE.srt\n",
      "S08E21 House.S08E21.Holding.On.BDRip.XviD-CLUE.srt\n",
      "S08E22 House.S08E22.Everyone.Dies.BDRip.XviD-CLUE.srt\n"
     ]
    }
   ],
   "source": [
    "l = []\n",
    "dir_path = \"D:\\\\jellyfin\\\\media\\\\Uncategorized Shows\"\n",
    "dir_name = \"House (2004) [tvdbid-73255]\"\n",
    "with os.scandir(f\"{dir_path}\\{dir_name}\") as scanobj:\n",
    "    for entry in scanobj:\n",
    "        print(entry.name)\n",
    "        season_no = entry.name[-2:]\n",
    "        # if entry.is_dir() and entry.name in [\"Season 05\"]:\n",
    "        if entry.is_dir() and int(season_no) not in range(8):\n",
    "            first_ep_in_season = True\n",
    "            for cnt, entry1 in enumerate(os.scandir(entry.path)):\n",
    "                if cnt != 0:\n",
    "                    first_ep_in_season = False\n",
    "                file_name = entry1.name\n",
    "                # print(file_name)\n",
    "                if entry.name in [\"\"]:\n",
    "                    file_sub_string = f\"S0{file_name[19: 22]}\"\n",
    "                # elif entry.name in [\"Season 01\"]:\n",
    "                #     episode_number = re.search(\"(Episode )[0-9]+\", file_name).group()\n",
    "                #     file_sub_string = f\"S{entry.name[-2:]}E{episode_number[8:].zfill(2)}\"\n",
    "                # elif entry.name in [\"Season 02\"]:\n",
    "                #     episode_number = re.search(\"(Season.2.)[0-9]+\", file_name).group()\n",
    "                #     file_sub_string = f\"S{entry.name[-2:]}E{episode_number[9:].zfill(2)}\"\n",
    "                # elif entry.name in [\"Season 01\"]:\n",
    "                #     re_string = re.search(\"[0-9]+\", file_name).group()\n",
    "                #     if first_ep_in_season and int(season_no) !=5:\n",
    "                #         first_ep_num_in_season = int(re_string)\n",
    "                #     elif int(season_no) ==5:\n",
    "                #         first_ep_num_in_season = 92\n",
    "                #     ep_num = str(int(re_string) - first_ep_num_in_season + 1)\n",
    "                #     file_sub_string = f\"S{season_no}E{ep_num.zfill(2)}\"\n",
    "                # elif entry.name in [\"Season 01\"]:\n",
    "                #     re_string = re.search(\"[0-9][x][0-9]+\", file_name).group().replace('x', 'E')\n",
    "                #     file_sub_string = f\"S0{re_string}\"\n",
    "                # elif entry.name in [\"Season 03\"]:\n",
    "                #     episode_number = file_name.split('.')[3][-2:]\n",
    "                #     file_sub_string = f\"S{entry.name[-2:]}E{episode_number.zfill(2)}\"\n",
    "                # elif entry.name in [\"Season 02\"]:\n",
    "                #     episode_number = file_name.split('.')[0][-2:]\n",
    "                #     file_sub_string = f\"S{entry.name[-2:]}E{episode_number.zfill(2)}\"\n",
    "                # elif entry.name in [\"Season 09\"]:\n",
    "                #     episode_number = file_name.split('.')[0]\n",
    "                #     file_sub_string = f\"S{entry.name[-2:]}E{episode_number.zfill(2)}\"\n",
    "                else:\n",
    "                    file_sub_string = re.search(\"[Ss][0-9]+[Ee][0-9]+\", file_name).group().upper()\n",
    "                # else:\n",
    "                #     re_string = re.search(\"[0-9]+\", file_name).group()\n",
    "                #     if first_ep_in_season and int(season_no) !=5:\n",
    "                #         first_ep_num_in_season = int(re_string)\n",
    "                #     elif int(season_no) ==5:\n",
    "                #         first_ep_num_in_season = 92\n",
    "                #     ep_num = str(int(re_string) - first_ep_num_in_season + 1)\n",
    "                #     file_sub_string = f\"S{season_no}E{ep_num.zfill(2)}\"\n",
    "                file_extension = entry1.name.split('.')[-1]\n",
    "                # if file_extension.lower() in [\"mp4\", 'avi', 'mkv', \"m4v\"]:\n",
    "                #     find_txt = \"Lect\"\n",
    "                #     episode_number = re.search(f\"({find_txt})[0-9]+\", file_name).group()[len(find_txt):].zfill(2)\n",
    "                #     season_number = \"01\"\n",
    "                #     file_sub_string = f\"S{season_number}E{episode_number}\"\n",
    "                # if not file_sub_string.startswith('S'):\n",
    "                print(file_sub_string, entry1.name)\n",
    "                new_file_name = f\"Episode {file_sub_string}.{file_extension}\"\n",
    "                l.append((new_file_name, entry1.name))\n",
    "                # print(f\"{entry.path}\\{new_file_name}\", f\"{entry.path}\\{entry1.name}\")\n",
    "                os.rename(f\"{entry.path}\\{entry1.name}\", f\"{entry.path}\\{new_file_name}\")\n",
    "\n",
    "# l"
   ]
  },
  {
   "cell_type": "code",
   "execution_count": 6,
   "metadata": {},
   "outputs": [],
   "source": [
    "pd.DataFrame(l).to_csv(f\"{dir_path}\\{dir_name}\\old_files_names.csv\", index=False, header=False)"
   ]
  },
  {
   "cell_type": "code",
   "execution_count": 3,
   "metadata": {},
   "outputs": [
    {
     "name": "stdout",
     "output_type": "stream",
     "text": [
      "S01E42 Episode S01EEp - ode S01EEp - ode S01E42 -.avi\n",
      "S01E43 Episode S01EEp - ode S01EEp - ode S01E43 - Wav.avi\n",
      "S01E44 Episode S01EEp - ode S01EEp - ode S01E44 - Cracks In The Classical.avi\n",
      "S01E45 Episode S01EEp - ode S01EEp - ode S01E45 - Earth, Ethe.avi\n",
      "S01E46 Episode S01EEp - ode S01EEp - ode S01E46 - Special Re.avi\n",
      "S01E47 Episode S01EEp - ode S01EEp - ode S01E47 - Time A.avi\n",
      "S01E48 Episode S01EEp - ode S01EEp - ode S01E48 - Space-Time And Mas.avi\n",
      "S01E49 Episode S01EEp - ode S01EEp - ode S01E49 - General Re.avi\n",
      "S01E50 Episode S01EEp - ode S01EEp - ode S01E50 - Introducing The.avi\n",
      "S01E51 Episode S01EEp - ode S01EEp - ode S01E51 - Atomic Qu.avi\n",
      "S01E52 Episode S01EEp - ode S01EEp - ode S01E52 - Wave Or .avi\n",
      "S01E53 Episode S01EEp - ode S01EEp - ode S01E53 - Quantum M.avi\n",
      "S01E54 Episode S01EEp - ode S01EEp - ode S01E54.avi\n",
      "S01E55 Episode S01EEp - ode S01EEp - ode S01E55 - Molecules An.avi\n",
      "S01E56 Episode S01EEp - ode S01EEp - ode S01E56 - The Atomic.avi\n",
      "S01E57 Episode S01EEp - ode S01EEp - ode S01E57 - Energy From The.avi\n",
      "S01E58 Episode S01EEp - ode S01EEp - ode S01E58 - The Part.avi\n",
      "S01E59 Episode S01EEp - ode S01EEp - ode S01E59 - An Evolving .avi\n",
      "S01E60 Episode S01EEp - ode S01EEp - ode S01E60 - Humble Physics—What We Do.avi\n",
      "S01E01 Episode S01EEp - ode S01EEp - ode S01EEp - ode S01E01 - The Fundame.avi\n",
      "S01E02 Episode S01EEp - ode S01EEp - ode S01EEp - ode S01E02 - Language.avi\n",
      "S01E03 Episode S01EEp - ode S01EEp - ode S01EEp - ode S01E03 - Descr.avi\n",
      "S01E04 Episode S01EEp - ode S01EEp - ode S01EEp - ode S01E04 - Fa.avi\n",
      "S01E05 Episode S01EEp - ode S01EEp - ode S01EEp - ode S01E05 - It's .avi\n",
      "S01E06 Episode S01EEp - ode S01EEp - ode S01EEp - ode S01E06 - Goin.avi\n",
      "S01E07 Episode S01EEp - ode S01EEp - ode S01EEp - ode S01E07 - Caus.avi\n",
      "S01E08 Episode S01EEp - ode S01EEp - ode S01EEp - ode S01E08 - Using Newton's Law.avi\n",
      "S01E09 Episode S01EEp - ode S01EEp - ode S01EEp - ode S01E09 - Action .avi\n",
      "S01E10 Episode S01EEp - ode S01EEp - ode S01EEp - ode S01E10 - Newton's Laws In 2 And .avi\n",
      "S01E11 Episode S01EEp - ode S01EEp - ode S01EEp - ode S01E11 - Wor.avi\n",
      "S01E12 Episode S01EEp - ode S01EEp - ode S01EEp - ode S01E12 - Using Energy .avi\n",
      "S01E14 Episode S01EEp - ode S01EEp - ode S01EEp - ode S01E14 - Systems .avi\n",
      "S01E15 Episode S01EEp - ode S01EEp - ode S01EEp - ode S01E15 - Rotat.avi\n",
      "S01E16 Episode S01EEp - ode S01EEp - ode S01EEp - ode S01E16 - K.avi\n",
      "S01E17 Episode S01EEp - ode S01EEp - ode S01EEp - ode S01E17 - Back And Forth—Oscill.avi\n",
      "S01E18 Episode S01EEp - ode S01EEp - ode S01EEp - ode S01E18 - .avi\n",
      "S01E19 Episode S01EEp - ode S01EEp - ode S01EEp - ode S01E19 - Fluid Statics—The Tip Of.avi\n",
      "S01E20 Episode S01EEp - ode S01EEp - ode S01EEp - ode S01E20 - Fl.avi\n",
      "S01E21 Episode S01EEp - ode S01EEp - ode S01EEp - ode S01E21 - Heat And.avi\n",
      "S01E22 Episode S01EEp - ode S01EEp - ode S01EEp - ode S01E22 - H.avi\n",
      "S01E23 Episode S01EEp - ode S01EEp - ode S01EEp - ode S01E23 - Mat.avi\n",
      "S01E24 Episode S01EEp - ode S01EEp - ode S01EEp - ode S01E24 - T.avi\n",
      "S01E25 Episode S01EEp - ode S01EEp - ode S01EEp - ode S01E25 - H.avi\n",
      "S01E26 Episode S01EEp - ode S01EEp - ode S01EEp - ode S01E26 - Entropy—The Second Law Of Th.avi\n",
      "S01E27 Episode S01EEp - ode S01EEp - ode S01EEp - ode S01E27 - Consequences Of Th.avi\n",
      "S01E28 Episode S01EEp - ode S01EEp - ode S01EEp - ode S01E28 - A C.avi\n",
      "S01E29 Episode S01EEp - ode S01EEp - ode S01EEp - ode S01E29 - The El.avi\n",
      "S01E30 Episode S01EEp - ode S01EEp - ode S01EEp - ode S01E30 - Electr.avi\n",
      "S01E31 Episode S01EEp - ode S01EEp - ode S01EEp - ode S01E31 - Ele.avi\n",
      "S01E32 Episode S01EEp - ode S01EEp - ode S01EEp - ode S01E32 - Elec.avi\n",
      "S01E33 Episode S01EEp - ode S01EEp - ode S01EEp - ode S01E33 - Elect.avi\n",
      "S01E34 Episode S01EEp - ode S01EEp - ode S01EEp - ode S01E34.avi\n",
      "S01E35 Episode S01EEp - ode S01EEp - ode S01EEp - ode S01E35 - The Origin .avi\n",
      "S01E36 Episode S01EEp - ode S01EEp - ode S01EEp - ode S01E36 - Electromagnet.avi\n",
      "S01E37 Episode S01EEp - ode S01EEp - ode S01EEp - ode S01E37 - Applications Of Electromagnet.avi\n",
      "S01E38 Episode S01EEp - ode S01EEp - ode S01EEp - ode S01E38 - Mag.avi\n",
      "S01E40 Episode S01EEp - ode S01EEp - ode S01EEp - ode S01E40 - Electroma.avi\n",
      "S01E41 Episode S01EEp - ode S01EEp - ode S01EEp - ode S01E41 - Reflection An.avi\n"
     ]
    }
   ],
   "source": [
    "l = []\n",
    "dir_path = \"D:\\jellyfin\\media\\Learning\"\n",
    "dir_name = \"Physics And Our Universe How It All Works (2011) [tvdbid-389286]\"\n",
    "with os.scandir(f\"{dir_path}\\{dir_name}\") as scanobj:\n",
    "    for entry in scanobj:\n",
    "        # print(entry.path)\n",
    "        # print(entry.name)\n",
    "        # if entry.is_dir() and entry.name[-2:] in [\"Season 01\", \"Season 02\"]:\n",
    "        if entry.is_file():\n",
    "            file_name = entry.name\n",
    "            # print(file_name)\n",
    "            file_extension = entry.name.split('.')[-1].lower()\n",
    "            file_sub_string = None\n",
    "            if file_extension in [\"mp4\", 'avi', 'mkv', \"m4v\"]:\n",
    "                find_txt = \"9331_\"\n",
    "                # episode_number = re.search(f\"({find_txt})[0-9]+\", file_name).group()[len(find_txt):].zfill(2)\n",
    "                season_number = \"01\"\n",
    "                # file_sub_string = f\"S{season_number}E{episode_number}\"\n",
    "                # file_sub_string = f\"S{season_number}E{file_name[:2]}\"\n",
    "                # file_sub_string = f\"S{season_number}E{file_name[:2]} - {file_name[4:-8]}\"\n",
    "                r = re.compile(\"[Ss][0-9]+[Ee][0-9]+\").search(file_name)\n",
    "                if r is not None:\n",
    "                    file_sub_string = r.group().upper()\n",
    "            if file_sub_string:\n",
    "                print(file_sub_string, entry.name)\n",
    "                # new_file_name = f\"Episode {file_sub_string}.{file_extension}\"\n",
    "                l.append((file_sub_string, entry.name))\n",
    "                # print(f\"{dir_path}\\{dir_name}\\{new_file_name}\", f\"{entry.path}\")\n",
    "                # os.rename(f\"{entry.path}\", f\"{dir_path}\\{dir_name}\\{new_file_name}\")\n",
    "\n"
   ]
  },
  {
   "cell_type": "code",
   "execution_count": 2,
   "metadata": {},
   "outputs": [
    {
     "ename": "FileNotFoundError",
     "evalue": "[WinError 3] The system cannot find the path specified: 'D:\\\\Entertainment\\\\TV Series'",
     "output_type": "error",
     "traceback": [
      "\u001b[1;31m---------------------------------------------------------------------------\u001b[0m",
      "\u001b[1;31mFileNotFoundError\u001b[0m                         Traceback (most recent call last)",
      "Cell \u001b[1;32mIn [2], line 1\u001b[0m\n\u001b[1;32m----> 1\u001b[0m os\u001b[39m.\u001b[39mrmdir(\u001b[39m\"\u001b[39m\u001b[39mD:\u001b[39m\u001b[39m\\\u001b[39m\u001b[39mEntertainment\u001b[39m\u001b[39m\\\u001b[39m\u001b[39mTV Series\u001b[39m\u001b[39m\"\u001b[39m)\n",
      "\u001b[1;31mFileNotFoundError\u001b[0m: [WinError 3] The system cannot find the path specified: 'D:\\\\Entertainment\\\\TV Series'"
     ]
    }
   ],
   "source": [
    "os.rmdir(\"D:\\Entertainment\\TV Series\")"
   ]
  },
  {
   "cell_type": "code",
   "execution_count": 12,
   "metadata": {},
   "outputs": [],
   "source": [
    "pd.DataFrame(l).to_csv(f\"{dir_path}\\{dir_name}\\old_files_names.csv\", index=False, header=False)"
   ]
  },
  {
   "cell_type": "code",
   "execution_count": null,
   "metadata": {},
   "outputs": [],
   "source": [
    "df1 = pd.DataFrame(l, columns=[\"key\", \"current_file_name\"])\n",
    "df2 = pd.read_csv(f\"{dir_path}\\{dir_name}\\old_files_names.csv\", delimiter=\",\", names=[\"expected_name\", \"old_name\"])\n",
    "r = re.compile(\"[Ss][0-9]+[Ee][0-9]+\")\n",
    "df2[\"key\"] = df2[\"expected_name\"].apply(lambda x: r.search(x).group() if r.search(x) is not None else \" \")\n",
    "df = df1.merge(df2, on=\"key\")[[\"current_file_name\", \"expected_name\"]]\n",
    "for current_file_name, expected_name in df.values:\n",
    "    # print(current_file_name, expected_name)\n",
    "    os.rename(\n",
    "        f\"{dir_path}\\{dir_name}\\{current_file_name}\",\n",
    "        f\"{dir_path}\\{dir_name}\\{expected_name}\",\n",
    "    )"
   ]
  },
  {
   "cell_type": "code",
   "execution_count": 21,
   "metadata": {},
   "outputs": [],
   "source": []
  },
  {
   "cell_type": "code",
   "execution_count": 26,
   "metadata": {},
   "outputs": [],
   "source": []
  },
  {
   "cell_type": "code",
   "execution_count": 28,
   "metadata": {},
   "outputs": [],
   "source": []
  },
  {
   "cell_type": "code",
   "execution_count": 8,
   "metadata": {},
   "outputs": [
    {
     "data": {
      "text/plain": [
       "'D:\\\\jellyfin\\\\media\\\\Learning\\\\Physics And Our Universe How It All Works (2011) [tvdbid-389286]\\\\old_files_names.csv'"
      ]
     },
     "execution_count": 8,
     "metadata": {},
     "output_type": "execute_result"
    }
   ],
   "source": [
    "f\"{dir_path}\\{dir_name}\\old_files_names.csv\""
   ]
  },
  {
   "cell_type": "code",
   "execution_count": 63,
   "metadata": {},
   "outputs": [],
   "source": [
    "match_string01 = \"[S][0-9]+[E][0-9]+\"\n",
    "match_string02 = \"(Season )[0-9]+\"\n",
    "match_string03 = \"(Episode )[0-9]+\""
   ]
  },
  {
   "cell_type": "code",
   "execution_count": 65,
   "metadata": {},
   "outputs": [
    {
     "name": "stdout",
     "output_type": "stream",
     "text": [
      "1 1\n"
     ]
    }
   ],
   "source": [
    "x = \"White Collar - Season 1 Episode 1 - Pilot.mp4\"\n",
    "r1 = re.search(match_string02, x)\n",
    "r2 = re.search(match_string03, x)\n",
    "print(r1.group()[7:],  r2.group()[8:])"
   ]
  },
  {
   "cell_type": "code",
   "execution_count": 72,
   "metadata": {},
   "outputs": [
    {
     "data": {
      "text/plain": [
       "'2E01'"
      ]
     },
     "execution_count": 72,
     "metadata": {},
     "output_type": "execute_result"
    }
   ],
   "source": [
    "re.search(\"[0-9][x][0-9]+\", \"White Collar - 2x01 - Withdrawal.mp4\").group().replace('x', 'E')"
   ]
  },
  {
   "cell_type": "code",
   "execution_count": 3,
   "metadata": {},
   "outputs": [
    {
     "data": {
      "text/plain": [
       "<generator object _walk at 0x000002AC1F42F220>"
      ]
     },
     "execution_count": 3,
     "metadata": {},
     "output_type": "execute_result"
    }
   ],
   "source": [
    "os.walk(movies_dir_path)"
   ]
  },
  {
   "cell_type": "code",
   "execution_count": 56,
   "metadata": {},
   "outputs": [],
   "source": [
    "movies_dir_path = \"D:\\\\jellyfin\\\\media\\\\Unprocessed Movies\"\n",
    "l = []\n",
    "for path, subdirs, files in os.walk(movies_dir_path):\n",
    "    # print(files)\n",
    "    for name in files:\n",
    "        f = os.path.join(path, name)\n",
    "        # print(f)\n",
    "        l.append(f)"
   ]
  },
  {
   "cell_type": "code",
   "execution_count": 57,
   "metadata": {},
   "outputs": [],
   "source": [
    "movies_df = pd.DataFrame(l, columns=['movie_file_path'])\n",
    "movies_df['file_extension'] = movies_df['movie_file_path'].apply(lambda x: x.split('.')[-1].lower())\n",
    "movies_df = movies_df[movies_df['file_extension'].isin(['mkv', 'mp4', 'avi'])]\n",
    "movies_df['file_name'] = movies_df['movie_file_path'].apply(lambda x: x.split('\\\\')[-1])\n",
    "p1 = re.compile(\"\\\\b(19|20)\\d{2}\\\\b\")\n",
    "p2 = re.compile(\"\\\\b(1080p|720p|480p)\\\\b\")\n",
    "movies_df['movie_quality'] = movies_df['file_name'].apply(lambda x: p2.search(x).group().upper() if p2.search(x) is not None else '')\n",
    "movies_df['movie_year'] = movies_df['file_name'].apply(lambda x: p1.search(x).group().upper() if p1.search(x) is not None else '')\n",
    "movies_df['movie_name'] = movies_df['file_name'].apply(lambda x: x[:p1.search(x).span()[0]-1] if p1.search(x) is not None else '')\n",
    "movies_df.to_csv(f\"{movies_dir_path}\\movie_names.csv\", index=False)\n",
    "# movies_df\n"
   ]
  },
  {
   "cell_type": "code",
   "execution_count": 43,
   "metadata": {},
   "outputs": [
    {
     "data": {
      "text/plain": [
       "array(['mkv', 'mp4', 'avi', 'txt', 'srt', 'png', 'jpg', 'sub'],\n",
       "      dtype=object)"
      ]
     },
     "execution_count": 43,
     "metadata": {},
     "output_type": "execute_result"
    }
   ],
   "source": [
    "movies_df['file_extension'].unique()"
   ]
  },
  {
   "cell_type": "code",
   "execution_count": 44,
   "metadata": {},
   "outputs": [
    {
     "data": {
      "text/plain": [
       "(465,)"
      ]
     },
     "execution_count": 44,
     "metadata": {},
     "output_type": "execute_result"
    }
   ],
   "source": [
    "movies_df[movies_df['file_extension'].isin(['txt', 'srt', 'png', 'jpg', 'sub'])]['movie_file_path'].shape"
   ]
  },
  {
   "cell_type": "code",
   "execution_count": 26,
   "metadata": {},
   "outputs": [
    {
     "data": {
      "text/plain": [
       "126    None\n",
       "133    None\n",
       "148    None\n",
       "172    None\n",
       "204    None\n",
       "213    None\n",
       "232    None\n",
       "238    None\n",
       "249    None\n",
       "261    None\n",
       "277    None\n",
       "328    None\n",
       "348    None\n",
       "351    None\n",
       "359    None\n",
       "382    None\n",
       "394    None\n",
       "414    None\n",
       "418    None\n",
       "455    None\n",
       "458    None\n",
       "476    None\n",
       "482    None\n",
       "506    None\n",
       "524    None\n",
       "541    None\n",
       "572    None\n",
       "588    None\n",
       "592    None\n",
       "596    None\n",
       "617    None\n",
       "637    None\n",
       "643    None\n",
       "656    None\n",
       "661    None\n",
       "673    None\n",
       "677    None\n",
       "692    None\n",
       "726    None\n",
       "731    None\n",
       "753    None\n",
       "759    None\n",
       "768    None\n",
       "808    None\n",
       "868    None\n",
       "875    None\n",
       "Name: movie_file_path, dtype: object"
      ]
     },
     "execution_count": 26,
     "metadata": {},
     "output_type": "execute_result"
    }
   ],
   "source": [
    "# movies_df[movies_df['file_extension'].isin(['srt', 'txt', 'SRT', 'TXT', 'png', 'jpg', 'sub'])]['movie_file_path'].apply(os.remove)"
   ]
  },
  {
   "cell_type": "code",
   "execution_count": 16,
   "metadata": {},
   "outputs": [
    {
     "name": "stdout",
     "output_type": "stream",
     "text": [
      "Beauty.And.The.Beast 2017 1080p\n"
     ]
    }
   ],
   "source": [
    "s = \"Beauty.And.The.Beast.2017.1080p.BluRay.x264-[YTS.AG].mp4\"\n",
    "\n",
    "r1 = re.search(\"\\\\b(19|20)\\d{2}\\\\b\", s)\n",
    "n = s[:r1.span()[0]-1]\n",
    "y = r1.group()\n",
    "r2 = re.search(\"\\\\b(1080p|720p|480p)\\\\b\", s)\n",
    "q = r2.group()\n",
    "print(n, y, q)\n"
   ]
  },
  {
   "cell_type": "code",
   "execution_count": 27,
   "metadata": {},
   "outputs": [],
   "source": []
  },
  {
   "cell_type": "code",
   "execution_count": 34,
   "metadata": {},
   "outputs": [
    {
     "data": {
      "text/plain": [
       "True"
      ]
     },
     "execution_count": 34,
     "metadata": {},
     "output_type": "execute_result"
    }
   ],
   "source": [
    "p1.search('arun') is None"
   ]
  },
  {
   "cell_type": "code",
   "execution_count": 24,
   "metadata": {},
   "outputs": [],
   "source": []
  },
  {
   "cell_type": "code",
   "execution_count": 46,
   "metadata": {},
   "outputs": [],
   "source": []
  },
  {
   "cell_type": "code",
   "execution_count": 50,
   "metadata": {},
   "outputs": [],
   "source": []
  },
  {
   "cell_type": "code",
   "execution_count": 51,
   "metadata": {},
   "outputs": [],
   "source": []
  },
  {
   "cell_type": "code",
   "execution_count": 53,
   "metadata": {},
   "outputs": [
    {
     "data": {
      "text/plain": [
       "0                                              2 STATES \n",
       "1      2012 (2009)  BRRip 720p x264 [Dual Audio] [Hin...\n",
       "2                        Abraham Lincoln Vampire Hunter \n",
       "3                                          Act of Valor \n",
       "4                                    Ae Dil Hai Mushkil \n",
       "                             ...                        \n",
       "874                            XXx.Return.Of.Xander.Cage\n",
       "876                              Yeh Jawaani Hai Deewani\n",
       "879                                           Zombieland\n",
       "885                                Zombieland.Double.Tap\n",
       "888                        [ZippyMovieZ.CC] Srimanthudu \n",
       "Name: movie_name, Length: 424, dtype: object"
      ]
     },
     "execution_count": 53,
     "metadata": {},
     "output_type": "execute_result"
    }
   ],
   "source": [
    "movies_df['movie_name']"
   ]
  },
  {
   "cell_type": "code",
   "execution_count": 54,
   "metadata": {},
   "outputs": [],
   "source": [
    "movies_df.to_csv(f\"{movies_dir_path}\\movie_names.csv\", index=False)"
   ]
  },
  {
   "cell_type": "code",
   "execution_count": 61,
   "metadata": {},
   "outputs": [],
   "source": [
    "movies_df_updated = pd.read_excel(\"C:\\\\Users\\\\arunk\\\\OneDrive\\\\Personal\\\\movie_names 1.xlsx\")"
   ]
  },
  {
   "cell_type": "code",
   "execution_count": 64,
   "metadata": {},
   "outputs": [],
   "source": [
    "for movie_file_path, new_dir_name, new_movie_name in movies_df_updated[['movie_file_path', 'new_dir_name', 'new_movie_name']].values:\n",
    "    new_dir_path = \"D:\\\\jellyfin\\\\media\\\\Movies\"\n",
    "    os.mkdir(f\"{new_dir_path}\\\\{new_dir_name}\")\n",
    "    os.rename(\n",
    "        movie_file_path,\n",
    "        f\"{new_dir_path}\\\\{new_dir_name}\\\\{new_movie_name}\"\n",
    "    )"
   ]
  }
 ],
 "metadata": {
  "kernelspec": {
   "display_name": "Python 3.10.5 ('py_31005_dev')",
   "language": "python",
   "name": "python3"
  },
  "language_info": {
   "codemirror_mode": {
    "name": "ipython",
    "version": 3
   },
   "file_extension": ".py",
   "mimetype": "text/x-python",
   "name": "python",
   "nbconvert_exporter": "python",
   "pygments_lexer": "ipython3",
   "version": "3.10.5"
  },
  "orig_nbformat": 4,
  "vscode": {
   "interpreter": {
    "hash": "2631bb2d379a62d94e7bca46e692f379de22a446bec5dd770495ed5ef72ebb88"
   }
  }
 },
 "nbformat": 4,
 "nbformat_minor": 2
}
